{
 "cells": [
  {
   "cell_type": "code",
   "execution_count": 1,
   "id": "8aa2ded8",
   "metadata": {},
   "outputs": [
    {
     "name": "stdout",
     "output_type": "stream",
     "text": [
      "Entre com o texto: Davi Brenno Calheiro Souza\n"
     ]
    }
   ],
   "source": [
    "v_txt = input('Entre com o texto: ')"
   ]
  },
  {
   "cell_type": "code",
   "execution_count": 4,
   "id": "e8714f39",
   "metadata": {},
   "outputs": [
    {
     "data": {
      "text/plain": [
       "'i Brenno Calheiro Souza'"
      ]
     },
     "execution_count": 4,
     "metadata": {},
     "output_type": "execute_result"
    }
   ],
   "source": [
    "v_txt[3:]"
   ]
  },
  {
   "cell_type": "code",
   "execution_count": 5,
   "id": "7510125a",
   "metadata": {},
   "outputs": [
    {
     "data": {
      "text/plain": [
       "'vi Brenno Calheiro Souza'"
      ]
     },
     "execution_count": 5,
     "metadata": {},
     "output_type": "execute_result"
    }
   ],
   "source": [
    "v_txt[2:]"
   ]
  },
  {
   "cell_type": "code",
   "execution_count": 6,
   "id": "bfe46b50",
   "metadata": {},
   "outputs": [
    {
     "data": {
      "text/plain": [
       "' '"
      ]
     },
     "execution_count": 6,
     "metadata": {},
     "output_type": "execute_result"
    }
   ],
   "source": [
    "v_txt[4:5]"
   ]
  },
  {
   "cell_type": "code",
   "execution_count": 7,
   "id": "e1ebca74",
   "metadata": {},
   "outputs": [
    {
     "data": {
      "text/plain": [
       "'Dv rnoCler oz'"
      ]
     },
     "execution_count": 7,
     "metadata": {},
     "output_type": "execute_result"
    }
   ],
   "source": [
    "v_txt[::2]"
   ]
  },
  {
   "cell_type": "code",
   "execution_count": 8,
   "id": "c904d3fe",
   "metadata": {},
   "outputs": [
    {
     "data": {
      "text/plain": [
       "'azuoS oriehlaC onnerB ivaD'"
      ]
     },
     "execution_count": 8,
     "metadata": {},
     "output_type": "execute_result"
    }
   ],
   "source": [
    "v_txt[::-1]"
   ]
  },
  {
   "cell_type": "code",
   "execution_count": 9,
   "id": "0994b4e9",
   "metadata": {},
   "outputs": [],
   "source": [
    "v_lst1 = ['Banana', 10]"
   ]
  },
  {
   "cell_type": "code",
   "execution_count": 10,
   "id": "f4c96dfb",
   "metadata": {},
   "outputs": [],
   "source": [
    "v_lst2 = ['Laranja', 15]"
   ]
  },
  {
   "cell_type": "code",
   "execution_count": 11,
   "id": "2ae21c98",
   "metadata": {},
   "outputs": [],
   "source": [
    "v_lst3 = ['Melancia', 40]"
   ]
  },
  {
   "cell_type": "code",
   "execution_count": 12,
   "id": "9d96515e",
   "metadata": {},
   "outputs": [],
   "source": [
    "v_lst4 = ['Manga', 10]"
   ]
  },
  {
   "cell_type": "code",
   "execution_count": 13,
   "id": "6e226f69",
   "metadata": {},
   "outputs": [],
   "source": [
    "v_lst5 = ['Uva', 35]"
   ]
  },
  {
   "cell_type": "code",
   "execution_count": 14,
   "id": "b60c04c7",
   "metadata": {},
   "outputs": [],
   "source": [
    "v_frutas = [v_lst1, v_lst2, v_lst3, v_lst4, v_lst5]"
   ]
  },
  {
   "cell_type": "code",
   "execution_count": 15,
   "id": "62c825bf",
   "metadata": {},
   "outputs": [
    {
     "data": {
      "text/plain": [
       "[['Banana', 10], ['Laranja', 15], ['Melancia', 40], ['Manga', 10], ['Uva', 35]]"
      ]
     },
     "execution_count": 15,
     "metadata": {},
     "output_type": "execute_result"
    }
   ],
   "source": [
    "v_frutas"
   ]
  },
  {
   "cell_type": "code",
   "execution_count": 17,
   "id": "bcdb4f74",
   "metadata": {},
   "outputs": [
    {
     "data": {
      "text/plain": [
       "['Laranja', 15]"
      ]
     },
     "execution_count": 17,
     "metadata": {},
     "output_type": "execute_result"
    }
   ],
   "source": [
    "v_frutas[1]"
   ]
  },
  {
   "cell_type": "code",
   "execution_count": 18,
   "id": "d93cd0c6",
   "metadata": {},
   "outputs": [
    {
     "data": {
      "text/plain": [
       "'Laranja'"
      ]
     },
     "execution_count": 18,
     "metadata": {},
     "output_type": "execute_result"
    }
   ],
   "source": [
    "v_frutas[1][0]"
   ]
  },
  {
   "cell_type": "code",
   "execution_count": 19,
   "id": "3b9d4d58",
   "metadata": {},
   "outputs": [
    {
     "data": {
      "text/plain": [
       "'j'"
      ]
     },
     "execution_count": 19,
     "metadata": {},
     "output_type": "execute_result"
    }
   ],
   "source": [
    "v_frutas[1][0][5]"
   ]
  },
  {
   "cell_type": "code",
   "execution_count": 21,
   "id": "5428df0b",
   "metadata": {},
   "outputs": [
    {
     "name": "stdout",
     "output_type": "stream",
     "text": [
      "['Banana', 10]\n",
      "['Laranja', 15]\n",
      "['Melancia', 40]\n",
      "['Manga', 10]\n",
      "['Uva', 35]\n"
     ]
    }
   ],
   "source": [
    "for frutas in v_frutas:\n",
    "    print(frutas)"
   ]
  },
  {
   "cell_type": "code",
   "execution_count": 22,
   "id": "fbb70e3c",
   "metadata": {},
   "outputs": [
    {
     "data": {
      "text/plain": [
       "5"
      ]
     },
     "execution_count": 22,
     "metadata": {},
     "output_type": "execute_result"
    }
   ],
   "source": [
    "len(v_frutas)"
   ]
  },
  {
   "cell_type": "code",
   "execution_count": 32,
   "id": "a9911d73",
   "metadata": {},
   "outputs": [
    {
     "name": "stdout",
     "output_type": "stream",
     "text": [
      "110\n"
     ]
    }
   ],
   "source": [
    "v_total = 0\n",
    "\n",
    "for frutas in v_frutas:\n",
    "    v_total += frutas[1] \n",
    "print(v_total)"
   ]
  },
  {
   "cell_type": "code",
   "execution_count": 55,
   "id": "e0c193cf",
   "metadata": {},
   "outputs": [
    {
     "name": "stdout",
     "output_type": "stream",
     "text": [
      "\n",
      "B\n",
      "a\n",
      "n\n",
      "a\n",
      "n\n",
      "a\n",
      "\n",
      "L\n",
      "a\n",
      "r\n",
      "a\n",
      "n\n",
      "j\n",
      "a\n",
      "\n",
      "M\n",
      "e\n",
      "l\n",
      "a\n",
      "n\n",
      "c\n",
      "i\n",
      "a\n",
      "\n",
      "M\n",
      "a\n",
      "n\n",
      "g\n",
      "a\n",
      "\n",
      "U\n",
      "v\n",
      "a\n"
     ]
    }
   ],
   "source": [
    "for fruta in v_frutas:\n",
    "    print('')\n",
    "    for letra in fruta[0]:\n",
    "        print(letra)"
   ]
  },
  {
   "cell_type": "code",
   "execution_count": 54,
   "id": "0f0ef60c",
   "metadata": {},
   "outputs": [
    {
     "name": "stdout",
     "output_type": "stream",
     "text": [
      "\n",
      "Banana\n",
      "B\n",
      "a\n",
      "n\n",
      "a\n",
      "n\n",
      "a\n",
      "\n",
      "Laranja\n",
      "L\n",
      "a\n",
      "r\n",
      "a\n",
      "n\n",
      "j\n",
      "a\n",
      "\n",
      "Melancia\n",
      "M\n",
      "e\n",
      "l\n",
      "a\n",
      "n\n",
      "c\n",
      "i\n",
      "a\n",
      "\n",
      "Manga\n",
      "M\n",
      "a\n",
      "n\n",
      "g\n",
      "a\n",
      "\n",
      "Uva\n",
      "U\n",
      "v\n",
      "a\n"
     ]
    }
   ],
   "source": [
    "for fruta in v_frutas:\n",
    "    print('')\n",
    "    print(fruta[0])\n",
    "    for letra in fruta[0]:\n",
    "        print(letra)"
   ]
  },
  {
   "cell_type": "code",
   "execution_count": 56,
   "id": "cbfd0428",
   "metadata": {},
   "outputs": [
    {
     "data": {
      "text/plain": [
       "[['Banana', 10], ['Laranja', 15], ['Melancia', 40], ['Manga', 10], ['Uva', 35]]"
      ]
     },
     "execution_count": 56,
     "metadata": {},
     "output_type": "execute_result"
    }
   ],
   "source": [
    "v_frutas"
   ]
  },
  {
   "cell_type": "code",
   "execution_count": 57,
   "id": "5a7824f0",
   "metadata": {},
   "outputs": [],
   "source": [
    "v_frutas.append(['Kiwi', 20])"
   ]
  },
  {
   "cell_type": "code",
   "execution_count": 58,
   "id": "a9e88393",
   "metadata": {},
   "outputs": [
    {
     "data": {
      "text/plain": [
       "[['Banana', 10],\n",
       " ['Laranja', 15],\n",
       " ['Melancia', 40],\n",
       " ['Manga', 10],\n",
       " ['Uva', 35],\n",
       " ['Kiwi', 20]]"
      ]
     },
     "execution_count": 58,
     "metadata": {},
     "output_type": "execute_result"
    }
   ],
   "source": [
    "v_frutas"
   ]
  },
  {
   "cell_type": "code",
   "execution_count": 59,
   "id": "8ecbcaca",
   "metadata": {},
   "outputs": [],
   "source": [
    "v_frutas.insert(0, ['Abacaxi', 30])"
   ]
  },
  {
   "cell_type": "code",
   "execution_count": 60,
   "id": "8364b37e",
   "metadata": {},
   "outputs": [
    {
     "data": {
      "text/plain": [
       "[['Abacaxi', 30],\n",
       " ['Banana', 10],\n",
       " ['Laranja', 15],\n",
       " ['Melancia', 40],\n",
       " ['Manga', 10],\n",
       " ['Uva', 35],\n",
       " ['Kiwi', 20]]"
      ]
     },
     "execution_count": 60,
     "metadata": {},
     "output_type": "execute_result"
    }
   ],
   "source": [
    "v_frutas"
   ]
  },
  {
   "cell_type": "code",
   "execution_count": 61,
   "id": "0dfe1629",
   "metadata": {},
   "outputs": [],
   "source": [
    "v_frutas.insert(1, ['Kiwi', 20])"
   ]
  },
  {
   "cell_type": "code",
   "execution_count": 62,
   "id": "c8a9214a",
   "metadata": {},
   "outputs": [
    {
     "data": {
      "text/plain": [
       "[['Abacaxi', 30],\n",
       " ['Kiwi', 20],\n",
       " ['Banana', 10],\n",
       " ['Laranja', 15],\n",
       " ['Melancia', 40],\n",
       " ['Manga', 10],\n",
       " ['Uva', 35],\n",
       " ['Kiwi', 20]]"
      ]
     },
     "execution_count": 62,
     "metadata": {},
     "output_type": "execute_result"
    }
   ],
   "source": [
    "v_frutas"
   ]
  },
  {
   "cell_type": "code",
   "execution_count": 63,
   "id": "358b6ce0",
   "metadata": {},
   "outputs": [],
   "source": [
    "v_frutas.remove(['Kiwi', 20])"
   ]
  },
  {
   "cell_type": "code",
   "execution_count": 64,
   "id": "abeb5a9d",
   "metadata": {},
   "outputs": [
    {
     "data": {
      "text/plain": [
       "[['Abacaxi', 30],\n",
       " ['Banana', 10],\n",
       " ['Laranja', 15],\n",
       " ['Melancia', 40],\n",
       " ['Manga', 10],\n",
       " ['Uva', 35],\n",
       " ['Kiwi', 20]]"
      ]
     },
     "execution_count": 64,
     "metadata": {},
     "output_type": "execute_result"
    }
   ],
   "source": [
    "v_frutas"
   ]
  },
  {
   "cell_type": "code",
   "execution_count": 65,
   "id": "02c4a574",
   "metadata": {},
   "outputs": [
    {
     "data": {
      "text/plain": [
       "['Kiwi', 20]"
      ]
     },
     "execution_count": 65,
     "metadata": {},
     "output_type": "execute_result"
    }
   ],
   "source": [
    "v_frutas.pop()"
   ]
  },
  {
   "cell_type": "code",
   "execution_count": 66,
   "id": "869b66c1",
   "metadata": {},
   "outputs": [
    {
     "data": {
      "text/plain": [
       "[['Abacaxi', 30],\n",
       " ['Banana', 10],\n",
       " ['Laranja', 15],\n",
       " ['Melancia', 40],\n",
       " ['Manga', 10],\n",
       " ['Uva', 35]]"
      ]
     },
     "execution_count": 66,
     "metadata": {},
     "output_type": "execute_result"
    }
   ],
   "source": [
    "v_frutas"
   ]
  },
  {
   "cell_type": "code",
   "execution_count": 67,
   "id": "0295bdaf",
   "metadata": {},
   "outputs": [
    {
     "data": {
      "text/plain": [
       "['Laranja', 15]"
      ]
     },
     "execution_count": 67,
     "metadata": {},
     "output_type": "execute_result"
    }
   ],
   "source": [
    "v_frutas.pop(2)"
   ]
  },
  {
   "cell_type": "code",
   "execution_count": 68,
   "id": "50c45e72",
   "metadata": {},
   "outputs": [
    {
     "data": {
      "text/plain": [
       "[['Abacaxi', 30], ['Banana', 10], ['Melancia', 40], ['Manga', 10], ['Uva', 35]]"
      ]
     },
     "execution_count": 68,
     "metadata": {},
     "output_type": "execute_result"
    }
   ],
   "source": [
    "v_frutas"
   ]
  },
  {
   "cell_type": "code",
   "execution_count": 72,
   "id": "ccfea832",
   "metadata": {},
   "outputs": [
    {
     "data": {
      "text/plain": [
       "['Uva', 35]"
      ]
     },
     "execution_count": 72,
     "metadata": {},
     "output_type": "execute_result"
    }
   ],
   "source": [
    "#Comentário\n",
    "v_frutas.pop() #comentário"
   ]
  },
  {
   "cell_type": "markdown",
   "id": "5d0d8138",
   "metadata": {},
   "source": [
    "# 4ª Aula - TETI - Desempacotamento"
   ]
  },
  {
   "cell_type": "code",
   "execution_count": 74,
   "id": "7a0742a2",
   "metadata": {},
   "outputs": [],
   "source": [
    "v_compra1, * v_resto = v_frutas"
   ]
  },
  {
   "cell_type": "code",
   "execution_count": 75,
   "id": "3e3a6c59",
   "metadata": {},
   "outputs": [
    {
     "data": {
      "text/plain": [
       "['Abacaxi', 30]"
      ]
     },
     "execution_count": 75,
     "metadata": {},
     "output_type": "execute_result"
    }
   ],
   "source": [
    "v_compra1"
   ]
  },
  {
   "cell_type": "code",
   "execution_count": 76,
   "id": "3898aeff",
   "metadata": {},
   "outputs": [
    {
     "data": {
      "text/plain": [
       "[['Banana', 10], ['Melancia', 40], ['Manga', 10]]"
      ]
     },
     "execution_count": 76,
     "metadata": {},
     "output_type": "execute_result"
    }
   ],
   "source": [
    "v_resto"
   ]
  },
  {
   "cell_type": "code",
   "execution_count": 77,
   "id": "0063fec5",
   "metadata": {},
   "outputs": [
    {
     "data": {
      "text/plain": [
       "[['Abacaxi', 30], ['Banana', 10], ['Melancia', 40], ['Manga', 10]]"
      ]
     },
     "execution_count": 77,
     "metadata": {},
     "output_type": "execute_result"
    }
   ],
   "source": [
    "v_frutas"
   ]
  },
  {
   "cell_type": "code",
   "execution_count": 78,
   "id": "6961bafa",
   "metadata": {},
   "outputs": [
    {
     "data": {
      "text/plain": [
       "['Davi', 'Brenno', 'Calheiro', 'Souza']"
      ]
     },
     "execution_count": 78,
     "metadata": {},
     "output_type": "execute_result"
    }
   ],
   "source": [
    "'Davi Brenno Calheiro Souza'.split()"
   ]
  },
  {
   "cell_type": "code",
   "execution_count": 79,
   "id": "d8bf621b",
   "metadata": {},
   "outputs": [],
   "source": [
    "prim_nome, *meio, sobrenome = 'Davi Brenno Calheiro Souza'.split()"
   ]
  },
  {
   "cell_type": "code",
   "execution_count": 80,
   "id": "425890cd",
   "metadata": {},
   "outputs": [
    {
     "data": {
      "text/plain": [
       "'Davi'"
      ]
     },
     "execution_count": 80,
     "metadata": {},
     "output_type": "execute_result"
    }
   ],
   "source": [
    "prim_nome"
   ]
  },
  {
   "cell_type": "code",
   "execution_count": 81,
   "id": "0c3e1b2d",
   "metadata": {},
   "outputs": [
    {
     "data": {
      "text/plain": [
       "['Brenno', 'Calheiro']"
      ]
     },
     "execution_count": 81,
     "metadata": {},
     "output_type": "execute_result"
    }
   ],
   "source": [
    "meio"
   ]
  },
  {
   "cell_type": "code",
   "execution_count": 82,
   "id": "288d2fdf",
   "metadata": {},
   "outputs": [
    {
     "data": {
      "text/plain": [
       "'Souza'"
      ]
     },
     "execution_count": 82,
     "metadata": {},
     "output_type": "execute_result"
    }
   ],
   "source": [
    "sobrenome"
   ]
  },
  {
   "cell_type": "code",
   "execution_count": 83,
   "id": "8cfbf103",
   "metadata": {},
   "outputs": [],
   "source": [
    "v_t1 = 1, 2, 3, 4, 5"
   ]
  },
  {
   "cell_type": "code",
   "execution_count": 84,
   "id": "45a373e9",
   "metadata": {},
   "outputs": [
    {
     "data": {
      "text/plain": [
       "(1, 2, 3, 4, 5)"
      ]
     },
     "execution_count": 84,
     "metadata": {},
     "output_type": "execute_result"
    }
   ],
   "source": [
    "v_t1"
   ]
  },
  {
   "cell_type": "code",
   "execution_count": 85,
   "id": "05d8d04e",
   "metadata": {},
   "outputs": [
    {
     "data": {
      "text/plain": [
       "tuple"
      ]
     },
     "execution_count": 85,
     "metadata": {},
     "output_type": "execute_result"
    }
   ],
   "source": [
    "type(v_t1)"
   ]
  },
  {
   "cell_type": "markdown",
   "id": "57686132",
   "metadata": {},
   "source": [
    "# 4ª Aula - TETI - Dicionários(Dic)"
   ]
  },
  {
   "cell_type": "code",
   "execution_count": 86,
   "id": "a940c63a",
   "metadata": {},
   "outputs": [],
   "source": [
    "dic1 = dict({\"cod\": 2123, \"descricao\": \"Notebook Dell\", \"preco\": 4000}) #Dicionário literal\n",
    "dic2 = dict(cod=2123, descricao=\"Notebook Dell\", preco=4000) # Argumentos palavras-chave\n",
    "dic3 = dict([(\"cod\", 2123), (\"descricao\", \"Notebook Dell\"), (\"preco\", 4000)])  #Sequência\n",
    "dic4 = {\"cod\": 2123, \"descricao\": \"Notebook Dell\", \"preco\": 4000 } #Dicionário literal"
   ]
  },
  {
   "cell_type": "code",
   "execution_count": 87,
   "id": "d837cdb0",
   "metadata": {},
   "outputs": [
    {
     "data": {
      "text/plain": [
       "{'cod': 2123, 'descricao': 'Notebook Dell', 'preco': 4000}"
      ]
     },
     "execution_count": 87,
     "metadata": {},
     "output_type": "execute_result"
    }
   ],
   "source": [
    "dic1"
   ]
  },
  {
   "cell_type": "code",
   "execution_count": 88,
   "id": "26fb22e3",
   "metadata": {},
   "outputs": [
    {
     "data": {
      "text/plain": [
       "{'cod': 2123, 'descricao': 'Notebook Dell', 'preco': 4000}"
      ]
     },
     "execution_count": 88,
     "metadata": {},
     "output_type": "execute_result"
    }
   ],
   "source": [
    "dic2"
   ]
  },
  {
   "cell_type": "code",
   "execution_count": 89,
   "id": "854d08bf",
   "metadata": {},
   "outputs": [
    {
     "data": {
      "text/plain": [
       "{'cod': 2123, 'descricao': 'Notebook Dell', 'preco': 4000}"
      ]
     },
     "execution_count": 89,
     "metadata": {},
     "output_type": "execute_result"
    }
   ],
   "source": [
    "dic3"
   ]
  },
  {
   "cell_type": "code",
   "execution_count": 90,
   "id": "ecb2c3f3",
   "metadata": {},
   "outputs": [
    {
     "data": {
      "text/plain": [
       "{'cod': 2123, 'descricao': 'Notebook Dell', 'preco': 4000}"
      ]
     },
     "execution_count": 90,
     "metadata": {},
     "output_type": "execute_result"
    }
   ],
   "source": [
    "dic4"
   ]
  },
  {
   "cell_type": "code",
   "execution_count": 91,
   "id": "fd8f6e7f",
   "metadata": {},
   "outputs": [
    {
     "data": {
      "text/plain": [
       "'Notebook Dell'"
      ]
     },
     "execution_count": 91,
     "metadata": {},
     "output_type": "execute_result"
    }
   ],
   "source": [
    "dic1['descricao']"
   ]
  },
  {
   "cell_type": "code",
   "execution_count": 92,
   "id": "16c6e4ff",
   "metadata": {},
   "outputs": [
    {
     "data": {
      "text/plain": [
       "dict_keys(['cod', 'descricao', 'preco'])"
      ]
     },
     "execution_count": 92,
     "metadata": {},
     "output_type": "execute_result"
    }
   ],
   "source": [
    "dic2.keys()"
   ]
  },
  {
   "cell_type": "code",
   "execution_count": 93,
   "id": "395340e0",
   "metadata": {},
   "outputs": [
    {
     "data": {
      "text/plain": [
       "dict_values([2123, 'Notebook Dell', 4000])"
      ]
     },
     "execution_count": 93,
     "metadata": {},
     "output_type": "execute_result"
    }
   ],
   "source": [
    "dic2.values()"
   ]
  },
  {
   "cell_type": "code",
   "execution_count": 94,
   "id": "b7ebfa8c",
   "metadata": {},
   "outputs": [
    {
     "data": {
      "text/plain": [
       "['cod', 'descricao', 'preco']"
      ]
     },
     "execution_count": 94,
     "metadata": {},
     "output_type": "execute_result"
    }
   ],
   "source": [
    "list(dic2.keys())"
   ]
  },
  {
   "cell_type": "code",
   "execution_count": 95,
   "id": "e0391042",
   "metadata": {},
   "outputs": [
    {
     "data": {
      "text/plain": [
       "[2123, 'Notebook Dell', 4000]"
      ]
     },
     "execution_count": 95,
     "metadata": {},
     "output_type": "execute_result"
    }
   ],
   "source": [
    "list(dic2.values())"
   ]
  },
  {
   "cell_type": "code",
   "execution_count": 96,
   "id": "60d8904f",
   "metadata": {},
   "outputs": [
    {
     "name": "stdout",
     "output_type": "stream",
     "text": [
      "cod 2123\n",
      "descricao Notebook Dell\n",
      "preco 4000\n"
     ]
    }
   ],
   "source": [
    "for chave in dic2:\n",
    "    print(chave + ' ' + str(dic2[chave]))"
   ]
  },
  {
   "cell_type": "code",
   "execution_count": 98,
   "id": "6d6881bf",
   "metadata": {},
   "outputs": [
    {
     "name": "stdout",
     "output_type": "stream",
     "text": [
      "cod 2123\n",
      "descricao Notebook Dell\n",
      "preco 4000\n"
     ]
    }
   ],
   "source": [
    "for texto in dic2:\n",
    "    print(texto + ' ' + str(dic2[texto]))"
   ]
  },
  {
   "cell_type": "code",
   "execution_count": 1,
   "id": "5c9d8e18",
   "metadata": {},
   "outputs": [],
   "source": [
    "dic1 = {}.fromkeys('ABCDEFGHIJKLMNOPQRSTUVWXYZ', 10)"
   ]
  },
  {
   "cell_type": "code",
   "execution_count": 2,
   "id": "4c089c9a",
   "metadata": {},
   "outputs": [
    {
     "data": {
      "text/plain": [
       "{'A': 10,\n",
       " 'B': 10,\n",
       " 'C': 10,\n",
       " 'D': 10,\n",
       " 'E': 10,\n",
       " 'F': 10,\n",
       " 'G': 10,\n",
       " 'H': 10,\n",
       " 'I': 10,\n",
       " 'J': 10,\n",
       " 'K': 10,\n",
       " 'L': 10,\n",
       " 'M': 10,\n",
       " 'N': 10,\n",
       " 'O': 10,\n",
       " 'P': 10,\n",
       " 'Q': 10,\n",
       " 'R': 10,\n",
       " 'S': 10,\n",
       " 'T': 10,\n",
       " 'U': 10,\n",
       " 'V': 10,\n",
       " 'W': 10,\n",
       " 'X': 10,\n",
       " 'Y': 10,\n",
       " 'Z': 10}"
      ]
     },
     "execution_count": 2,
     "metadata": {},
     "output_type": "execute_result"
    }
   ],
   "source": [
    "dic1"
   ]
  },
  {
   "cell_type": "code",
   "execution_count": 7,
   "id": "b32c1717",
   "metadata": {},
   "outputs": [],
   "source": [
    "s1 = set('KMWXYÇ')"
   ]
  },
  {
   "cell_type": "code",
   "execution_count": 8,
   "id": "858c6f71",
   "metadata": {},
   "outputs": [
    {
     "data": {
      "text/plain": [
       "{'K', 'M', 'W', 'X', 'Y', 'Ç'}"
      ]
     },
     "execution_count": 8,
     "metadata": {},
     "output_type": "execute_result"
    }
   ],
   "source": [
    "s1"
   ]
  },
  {
   "cell_type": "code",
   "execution_count": 9,
   "id": "3ea7128a",
   "metadata": {},
   "outputs": [],
   "source": [
    "achou = dic1.keys() & s1"
   ]
  },
  {
   "cell_type": "code",
   "execution_count": 10,
   "id": "7da3962e",
   "metadata": {},
   "outputs": [
    {
     "data": {
      "text/plain": [
       "{'K', 'M', 'W', 'X', 'Y'}"
      ]
     },
     "execution_count": 10,
     "metadata": {},
     "output_type": "execute_result"
    }
   ],
   "source": [
    "achou"
   ]
  },
  {
   "cell_type": "code",
   "execution_count": 11,
   "id": "f525e9f9",
   "metadata": {},
   "outputs": [
    {
     "data": {
      "text/plain": [
       "{'A',\n",
       " 'B',\n",
       " 'C',\n",
       " 'D',\n",
       " 'E',\n",
       " 'F',\n",
       " 'G',\n",
       " 'H',\n",
       " 'I',\n",
       " 'J',\n",
       " 'L',\n",
       " 'N',\n",
       " 'O',\n",
       " 'P',\n",
       " 'Q',\n",
       " 'R',\n",
       " 'S',\n",
       " 'T',\n",
       " 'U',\n",
       " 'V',\n",
       " 'Z'}"
      ]
     },
     "execution_count": 11,
     "metadata": {},
     "output_type": "execute_result"
    }
   ],
   "source": [
    "dic1.keys() - s1"
   ]
  },
  {
   "cell_type": "code",
   "execution_count": 12,
   "id": "8a455e32",
   "metadata": {},
   "outputs": [
    {
     "data": {
      "text/plain": [
       "{'Ç'}"
      ]
     },
     "execution_count": 12,
     "metadata": {},
     "output_type": "execute_result"
    }
   ],
   "source": [
    "s1 - dic1.keys()"
   ]
  },
  {
   "cell_type": "code",
   "execution_count": 13,
   "id": "d6ace118",
   "metadata": {},
   "outputs": [
    {
     "data": {
      "text/plain": [
       "{'A',\n",
       " 'B',\n",
       " 'C',\n",
       " 'D',\n",
       " 'E',\n",
       " 'F',\n",
       " 'G',\n",
       " 'H',\n",
       " 'I',\n",
       " 'J',\n",
       " 'K',\n",
       " 'L',\n",
       " 'M',\n",
       " 'N',\n",
       " 'O',\n",
       " 'P',\n",
       " 'Q',\n",
       " 'R',\n",
       " 'S',\n",
       " 'T',\n",
       " 'U',\n",
       " 'V',\n",
       " 'W',\n",
       " 'X',\n",
       " 'Y',\n",
       " 'Z',\n",
       " 'Ç'}"
      ]
     },
     "execution_count": 13,
     "metadata": {},
     "output_type": "execute_result"
    }
   ],
   "source": [
    "dic1.keys() | s1"
   ]
  },
  {
   "cell_type": "code",
   "execution_count": 14,
   "id": "1e80ae11",
   "metadata": {},
   "outputs": [],
   "source": [
    "antonimos = {\"quente\": \"frio\", \"alto\": \"baixo\", \"certo\":\"errado\", \"bonito\":\"feio\", \n",
    "             \"claro\":\"escuro\", \"limpo\": \"sujo\", \"verdadeiro\": \"falso\", \"rápido\": \"lento\",\n",
    "             \"alegre\": \"triste\", \"novo\": \"velho\", \"limpo\": \"sujo\", \"cedo\": \"tarde\"}"
   ]
  },
  {
   "cell_type": "code",
   "execution_count": 15,
   "id": "4ce708cd",
   "metadata": {},
   "outputs": [],
   "source": [
    "alias = antonimos"
   ]
  },
  {
   "cell_type": "code",
   "execution_count": 16,
   "id": "942a2a71",
   "metadata": {},
   "outputs": [
    {
     "name": "stdout",
     "output_type": "stream",
     "text": [
      "True\n"
     ]
    }
   ],
   "source": [
    "print(alias is antonimos)"
   ]
  },
  {
   "cell_type": "code",
   "execution_count": 17,
   "id": "64df4558",
   "metadata": {},
   "outputs": [
    {
     "data": {
      "text/plain": [
       "'lento'"
      ]
     },
     "execution_count": 17,
     "metadata": {},
     "output_type": "execute_result"
    }
   ],
   "source": [
    "alias['rápido']"
   ]
  },
  {
   "cell_type": "code",
   "execution_count": 18,
   "id": "26c19463",
   "metadata": {},
   "outputs": [
    {
     "data": {
      "text/plain": [
       "dict_items([('quente', 'frio'), ('alto', 'baixo'), ('certo', 'errado'), ('bonito', 'feio'), ('claro', 'escuro'), ('limpo', 'sujo'), ('verdadeiro', 'falso'), ('rápido', 'lento'), ('alegre', 'triste'), ('novo', 'velho'), ('cedo', 'tarde')])"
      ]
     },
     "execution_count": 18,
     "metadata": {},
     "output_type": "execute_result"
    }
   ],
   "source": [
    "antonimos.items()"
   ]
  },
  {
   "cell_type": "code",
   "execution_count": 20,
   "id": "adafbd56",
   "metadata": {},
   "outputs": [
    {
     "data": {
      "text/plain": [
       "dict_values(['frio', 'baixo', 'errado', 'feio', 'escuro', 'sujo', 'falso', 'lento', 'triste', 'velho', 'tarde'])"
      ]
     },
     "execution_count": 20,
     "metadata": {},
     "output_type": "execute_result"
    }
   ],
   "source": [
    "antonimos.values()"
   ]
  },
  {
   "cell_type": "code",
   "execution_count": 21,
   "id": "075b9ee3",
   "metadata": {},
   "outputs": [],
   "source": [
    "texto = \"Ticking away the moments that make up a dull day Fritter and waste the hours in an offhand way. Kicking around on a piece of ground in your home town Waiting for someone or something to show you the way. Tired of lying in the sunshine staying home to watch the rain. You are young and life is long and there is time to kill today. And then one day you find ten years have got behind you. No one told you when to run, you missed the starting gun. So you run and you run to catch up with the sun but it's sinking Racing around to come up behind you again. The sun is the same in a relative way but you're older, Shorter of breath and one day closer to death. Every year is getting shorter never seem to find the time. Plans that either come to naught or half a page… \""
   ]
  },
  {
   "cell_type": "code",
   "execution_count": 22,
   "id": "499efbc3",
   "metadata": {},
   "outputs": [
    {
     "data": {
      "text/plain": [
       "{'Ticking': 1,\n",
       " 'away': 1,\n",
       " 'the': 9,\n",
       " 'moments': 1,\n",
       " 'that': 2,\n",
       " 'make': 1,\n",
       " 'up': 3,\n",
       " 'a': 4,\n",
       " 'dull': 1,\n",
       " 'day': 3,\n",
       " 'Fritter': 1,\n",
       " 'and': 5,\n",
       " 'waste': 1,\n",
       " 'hours': 1,\n",
       " 'in': 4,\n",
       " 'an': 1,\n",
       " 'offhand': 1,\n",
       " 'way.': 2,\n",
       " 'Kicking': 1,\n",
       " 'around': 2,\n",
       " 'on': 1,\n",
       " 'piece': 1,\n",
       " 'of': 3,\n",
       " 'ground': 1,\n",
       " 'your': 1,\n",
       " 'home': 2,\n",
       " 'town': 1,\n",
       " 'Waiting': 1,\n",
       " 'for': 1,\n",
       " 'someone': 1,\n",
       " 'or': 2,\n",
       " 'something': 1,\n",
       " 'to': 9,\n",
       " 'show': 1,\n",
       " 'you': 7,\n",
       " 'Tired': 1,\n",
       " 'lying': 1,\n",
       " 'sunshine': 1,\n",
       " 'staying': 1,\n",
       " 'watch': 1,\n",
       " 'rain.': 1,\n",
       " 'You': 1,\n",
       " 'are': 1,\n",
       " 'young': 1,\n",
       " 'life': 1,\n",
       " 'is': 4,\n",
       " 'long': 1,\n",
       " 'there': 1,\n",
       " 'time': 1,\n",
       " 'kill': 1,\n",
       " 'today.': 1,\n",
       " 'And': 1,\n",
       " 'then': 1,\n",
       " 'one': 3,\n",
       " 'find': 2,\n",
       " 'ten': 1,\n",
       " 'years': 1,\n",
       " 'have': 1,\n",
       " 'got': 1,\n",
       " 'behind': 2,\n",
       " 'you.': 1,\n",
       " 'No': 1,\n",
       " 'told': 1,\n",
       " 'when': 1,\n",
       " 'run,': 1,\n",
       " 'missed': 1,\n",
       " 'starting': 1,\n",
       " 'gun.': 1,\n",
       " 'So': 1,\n",
       " 'run': 2,\n",
       " 'catch': 1,\n",
       " 'with': 1,\n",
       " 'sun': 2,\n",
       " 'but': 2,\n",
       " \"it's\": 1,\n",
       " 'sinking': 1,\n",
       " 'Racing': 1,\n",
       " 'come': 2,\n",
       " 'again.': 1,\n",
       " 'The': 1,\n",
       " 'same': 1,\n",
       " 'relative': 1,\n",
       " 'way': 1,\n",
       " \"you're\": 1,\n",
       " 'older,': 1,\n",
       " 'Shorter': 1,\n",
       " 'breath': 1,\n",
       " 'closer': 1,\n",
       " 'death.': 1,\n",
       " 'Every': 1,\n",
       " 'year': 1,\n",
       " 'getting': 1,\n",
       " 'shorter': 1,\n",
       " 'never': 1,\n",
       " 'seem': 1,\n",
       " 'time.': 1,\n",
       " 'Plans': 1,\n",
       " 'either': 1,\n",
       " 'naught': 1,\n",
       " 'half': 1,\n",
       " 'page…': 1}"
      ]
     },
     "execution_count": 22,
     "metadata": {},
     "output_type": "execute_result"
    }
   ],
   "source": [
    "dic_palavras = {}\n",
    "for palavra in texto.split():\n",
    "    dic_palavras[palavra] = 1 if palavra not in dic_palavras else dic_palavras[palavra] + 1\n",
    "dic_palavras"
   ]
  },
  {
   "cell_type": "code",
   "execution_count": 23,
   "id": "45a6d674",
   "metadata": {},
   "outputs": [
    {
     "data": {
      "text/plain": [
       "['TICKING',\n",
       " 'AWAY',\n",
       " 'MOMENTS',\n",
       " 'THAT',\n",
       " 'MAKE',\n",
       " 'DULL',\n",
       " 'FRITTER',\n",
       " 'WASTE',\n",
       " 'HOURS',\n",
       " 'OFFHAND',\n",
       " 'WAY.',\n",
       " 'KICKING',\n",
       " 'AROUND',\n",
       " 'PIECE',\n",
       " 'GROUND',\n",
       " 'YOUR',\n",
       " 'HOME',\n",
       " 'TOWN',\n",
       " 'WAITING',\n",
       " 'SOMEONE',\n",
       " 'SOMETHING',\n",
       " 'SHOW',\n",
       " 'TIRED',\n",
       " 'LYING',\n",
       " 'SUNSHINE',\n",
       " 'STAYING',\n",
       " 'WATCH',\n",
       " 'RAIN.',\n",
       " 'YOUNG',\n",
       " 'LIFE',\n",
       " 'LONG',\n",
       " 'THERE',\n",
       " 'TIME',\n",
       " 'KILL',\n",
       " 'TODAY.',\n",
       " 'THEN',\n",
       " 'FIND',\n",
       " 'YEARS',\n",
       " 'HAVE',\n",
       " 'BEHIND',\n",
       " 'YOU.',\n",
       " 'TOLD',\n",
       " 'WHEN',\n",
       " 'RUN,',\n",
       " 'MISSED',\n",
       " 'STARTING',\n",
       " 'GUN.',\n",
       " 'CATCH',\n",
       " 'WITH',\n",
       " \"IT'S\",\n",
       " 'SINKING',\n",
       " 'RACING',\n",
       " 'COME',\n",
       " 'AGAIN.',\n",
       " 'SAME',\n",
       " 'RELATIVE',\n",
       " \"YOU'RE\",\n",
       " 'OLDER,',\n",
       " 'SHORTER',\n",
       " 'BREATH',\n",
       " 'CLOSER',\n",
       " 'DEATH.',\n",
       " 'EVERY',\n",
       " 'YEAR',\n",
       " 'GETTING',\n",
       " 'SHORTER',\n",
       " 'NEVER',\n",
       " 'SEEM',\n",
       " 'TIME.',\n",
       " 'PLANS',\n",
       " 'EITHER',\n",
       " 'NAUGHT',\n",
       " 'HALF',\n",
       " 'PAGE…']"
      ]
     },
     "execution_count": 23,
     "metadata": {},
     "output_type": "execute_result"
    }
   ],
   "source": [
    "#Gera uma lista de palvras com tamanho maior que 3\n",
    "\n",
    "[p.upper() for p in dic_palavras if len(p) > 3]"
   ]
  },
  {
   "cell_type": "code",
   "execution_count": 24,
   "id": "efdd31b8",
   "metadata": {},
   "outputs": [],
   "source": [
    "tam_p = {len(p) for p in dic_palavras}"
   ]
  },
  {
   "cell_type": "code",
   "execution_count": 25,
   "id": "a1f9708c",
   "metadata": {},
   "outputs": [
    {
     "data": {
      "text/plain": [
       "{1, 2, 3, 4, 5, 6, 7, 8, 9}"
      ]
     },
     "execution_count": 25,
     "metadata": {},
     "output_type": "execute_result"
    }
   ],
   "source": [
    "tam_p"
   ]
  },
  {
   "cell_type": "code",
   "execution_count": 26,
   "id": "6df85fea",
   "metadata": {},
   "outputs": [],
   "source": [
    "mapeamento = {val: index for index, val in enumerate(dic_palavras)}"
   ]
  },
  {
   "cell_type": "code",
   "execution_count": 27,
   "id": "1818db38",
   "metadata": {},
   "outputs": [
    {
     "data": {
      "text/plain": [
       "{'Ticking': 0,\n",
       " 'away': 1,\n",
       " 'the': 2,\n",
       " 'moments': 3,\n",
       " 'that': 4,\n",
       " 'make': 5,\n",
       " 'up': 6,\n",
       " 'a': 7,\n",
       " 'dull': 8,\n",
       " 'day': 9,\n",
       " 'Fritter': 10,\n",
       " 'and': 11,\n",
       " 'waste': 12,\n",
       " 'hours': 13,\n",
       " 'in': 14,\n",
       " 'an': 15,\n",
       " 'offhand': 16,\n",
       " 'way.': 17,\n",
       " 'Kicking': 18,\n",
       " 'around': 19,\n",
       " 'on': 20,\n",
       " 'piece': 21,\n",
       " 'of': 22,\n",
       " 'ground': 23,\n",
       " 'your': 24,\n",
       " 'home': 25,\n",
       " 'town': 26,\n",
       " 'Waiting': 27,\n",
       " 'for': 28,\n",
       " 'someone': 29,\n",
       " 'or': 30,\n",
       " 'something': 31,\n",
       " 'to': 32,\n",
       " 'show': 33,\n",
       " 'you': 34,\n",
       " 'Tired': 35,\n",
       " 'lying': 36,\n",
       " 'sunshine': 37,\n",
       " 'staying': 38,\n",
       " 'watch': 39,\n",
       " 'rain.': 40,\n",
       " 'You': 41,\n",
       " 'are': 42,\n",
       " 'young': 43,\n",
       " 'life': 44,\n",
       " 'is': 45,\n",
       " 'long': 46,\n",
       " 'there': 47,\n",
       " 'time': 48,\n",
       " 'kill': 49,\n",
       " 'today.': 50,\n",
       " 'And': 51,\n",
       " 'then': 52,\n",
       " 'one': 53,\n",
       " 'find': 54,\n",
       " 'ten': 55,\n",
       " 'years': 56,\n",
       " 'have': 57,\n",
       " 'got': 58,\n",
       " 'behind': 59,\n",
       " 'you.': 60,\n",
       " 'No': 61,\n",
       " 'told': 62,\n",
       " 'when': 63,\n",
       " 'run,': 64,\n",
       " 'missed': 65,\n",
       " 'starting': 66,\n",
       " 'gun.': 67,\n",
       " 'So': 68,\n",
       " 'run': 69,\n",
       " 'catch': 70,\n",
       " 'with': 71,\n",
       " 'sun': 72,\n",
       " 'but': 73,\n",
       " \"it's\": 74,\n",
       " 'sinking': 75,\n",
       " 'Racing': 76,\n",
       " 'come': 77,\n",
       " 'again.': 78,\n",
       " 'The': 79,\n",
       " 'same': 80,\n",
       " 'relative': 81,\n",
       " 'way': 82,\n",
       " \"you're\": 83,\n",
       " 'older,': 84,\n",
       " 'Shorter': 85,\n",
       " 'breath': 86,\n",
       " 'closer': 87,\n",
       " 'death.': 88,\n",
       " 'Every': 89,\n",
       " 'year': 90,\n",
       " 'getting': 91,\n",
       " 'shorter': 92,\n",
       " 'never': 93,\n",
       " 'seem': 94,\n",
       " 'time.': 95,\n",
       " 'Plans': 96,\n",
       " 'either': 97,\n",
       " 'naught': 98,\n",
       " 'half': 99,\n",
       " 'page…': 100}"
      ]
     },
     "execution_count": 27,
     "metadata": {},
     "output_type": "execute_result"
    }
   ],
   "source": [
    "mapeamento"
   ]
  },
  {
   "cell_type": "markdown",
   "id": "72f6d0c9",
   "metadata": {},
   "source": [
    "# 4ª Aula - TETI - Funções"
   ]
  },
  {
   "cell_type": "code",
   "execution_count": 28,
   "id": "5a21cccc",
   "metadata": {},
   "outputs": [],
   "source": [
    "def f_soma(v1, v2):\n",
    "    return v1 + v2"
   ]
  },
  {
   "cell_type": "code",
   "execution_count": 29,
   "id": "53ad9e25",
   "metadata": {},
   "outputs": [
    {
     "data": {
      "text/plain": [
       "300"
      ]
     },
     "execution_count": 29,
     "metadata": {},
     "output_type": "execute_result"
    }
   ],
   "source": [
    "f_soma(100, 200)"
   ]
  },
  {
   "cell_type": "code",
   "execution_count": 35,
   "id": "3ea500d4",
   "metadata": {},
   "outputs": [],
   "source": [
    "def f_operacao(v1, v2, op):\n",
    "    if op == '+':\n",
    "        return v1 + v2\n",
    "    elif op == '-':\n",
    "        return v1 - v2\n",
    "    elif op == '*':\n",
    "        return v1 * v2\n",
    "    elif op == '/':\n",
    "        if v2 == 0:\n",
    "            return 'Valor de v2 0 - inválido'\n",
    "        return v1 / v2"
   ]
  },
  {
   "cell_type": "code",
   "execution_count": 36,
   "id": "43d8565b",
   "metadata": {},
   "outputs": [
    {
     "data": {
      "text/plain": [
       "61.5"
      ]
     },
     "execution_count": 36,
     "metadata": {},
     "output_type": "execute_result"
    }
   ],
   "source": [
    "f_operacao(123, 2, '/')"
   ]
  },
  {
   "cell_type": "markdown",
   "id": "7ab26805",
   "metadata": {},
   "source": [
    "# 4ª Aula -  TETI - Numpy"
   ]
  },
  {
   "cell_type": "code",
   "execution_count": 38,
   "id": "f40a8bab",
   "metadata": {},
   "outputs": [],
   "source": [
    "import numpy as np"
   ]
  },
  {
   "cell_type": "code",
   "execution_count": 39,
   "id": "07ffec22",
   "metadata": {},
   "outputs": [
    {
     "data": {
      "text/plain": [
       "'1.23.5'"
      ]
     },
     "execution_count": 39,
     "metadata": {},
     "output_type": "execute_result"
    }
   ],
   "source": [
    "np.__version__"
   ]
  },
  {
   "cell_type": "code",
   "execution_count": 40,
   "id": "b6719fcf",
   "metadata": {},
   "outputs": [],
   "source": [
    "m1 = np.array([1, 2, 3, 4 , 5, 6])"
   ]
  },
  {
   "cell_type": "code",
   "execution_count": 41,
   "id": "e25bb51f",
   "metadata": {},
   "outputs": [],
   "source": [
    "m2 = np.array([7, 8, 9, 10 , 11, 12])"
   ]
  },
  {
   "cell_type": "code",
   "execution_count": 42,
   "id": "52d2800a",
   "metadata": {},
   "outputs": [
    {
     "data": {
      "text/plain": [
       "array([ 8, 10, 12, 14, 16, 18])"
      ]
     },
     "execution_count": 42,
     "metadata": {},
     "output_type": "execute_result"
    }
   ],
   "source": [
    "m1 + m2"
   ]
  },
  {
   "cell_type": "code",
   "execution_count": 43,
   "id": "dbd42b78",
   "metadata": {},
   "outputs": [
    {
     "data": {
      "text/plain": [
       "array([ 7, 16, 27, 40, 55, 72])"
      ]
     },
     "execution_count": 43,
     "metadata": {},
     "output_type": "execute_result"
    }
   ],
   "source": [
    "m1 * m2"
   ]
  },
  {
   "cell_type": "code",
   "execution_count": 44,
   "id": "16f30588",
   "metadata": {},
   "outputs": [
    {
     "name": "stdout",
     "output_type": "stream",
     "text": [
      "[0, 1, 4, 9, 16, 25, 36, 49, 64, 81, 100, 121, 144, 169, 196, 225, 256, 289, 324, 361, 400, 441, 484, 529, 576, 625, 676, 729, 784, 841, 900, 961, 1024, 1089, 1156, 1225, 1296, 1369, 1444, 1521, 1600, 1681, 1764, 1849, 1936, 2025, 2116, 2209, 2304, 2401, 2500, 2601, 2704, 2809, 2916, 3025, 3136, 3249, 3364, 3481, 3600, 3721, 3844, 3969, 4096, 4225, 4356, 4489, 4624, 4761, 4900, 5041, 5184, 5329, 5476, 5625, 5776, 5929, 6084, 6241, 6400, 6561, 6724, 6889, 7056, 7225, 7396, 7569, 7744, 7921, 8100, 8281, 8464, 8649, 8836, 9025, 9216, 9409, 9604, 9801, 10000, 10201, 10404, 10609, 10816, 11025, 11236, 11449, 11664, 11881, 12100, 12321, 12544, 12769, 12996, 13225, 13456, 13689, 13924, 14161, 14400, 14641, 14884, 15129, 15376, 15625, 15876, 16129, 16384, 16641, 16900, 17161, 17424, 17689, 17956, 18225, 18496, 18769, 19044, 19321, 19600, 19881, 20164, 20449, 20736, 21025, 21316, 21609, 21904, 22201, 22500, 22801, 23104, 23409, 23716, 24025, 24336, 24649, 24964, 25281, 25600, 25921, 26244, 26569, 26896, 27225, 27556, 27889, 28224, 28561, 28900, 29241, 29584, 29929, 30276, 30625, 30976, 31329, 31684, 32041, 32400, 32761, 33124, 33489, 33856, 34225, 34596, 34969, 35344, 35721, 36100, 36481, 36864, 37249, 37636, 38025, 38416, 38809, 39204, 39601, 40000, 40401, 40804, 41209, 41616, 42025, 42436, 42849, 43264, 43681, 44100, 44521, 44944, 45369, 45796, 46225, 46656, 47089, 47524, 47961, 48400, 48841, 49284, 49729, 50176, 50625, 51076, 51529, 51984, 52441, 52900, 53361, 53824, 54289, 54756, 55225, 55696, 56169, 56644, 57121, 57600, 58081, 58564, 59049, 59536, 60025, 60516, 61009, 61504, 62001, 62500, 63001, 63504, 64009, 64516, 65025, 65536, 66049, 66564, 67081, 67600, 68121, 68644, 69169, 69696, 70225, 70756, 71289, 71824, 72361, 72900, 73441, 73984, 74529, 75076, 75625, 76176, 76729, 77284, 77841, 78400, 78961, 79524, 80089, 80656, 81225, 81796, 82369, 82944, 83521, 84100, 84681, 85264, 85849, 86436, 87025, 87616, 88209, 88804, 89401, 90000, 90601, 91204, 91809, 92416, 93025, 93636, 94249, 94864, 95481, 96100, 96721, 97344, 97969, 98596, 99225, 99856, 100489, 101124, 101761, 102400, 103041, 103684, 104329, 104976, 105625, 106276, 106929, 107584, 108241, 108900, 109561, 110224, 110889, 111556, 112225, 112896, 113569, 114244, 114921, 115600, 116281, 116964, 117649, 118336, 119025, 119716, 120409, 121104, 121801, 122500, 123201, 123904, 124609, 125316, 126025, 126736, 127449, 128164, 128881, 129600, 130321, 131044, 131769, 132496, 133225, 133956, 134689, 135424, 136161, 136900, 137641, 138384, 139129, 139876, 140625, 141376, 142129, 142884, 143641, 144400, 145161, 145924, 146689, 147456, 148225, 148996, 149769, 150544, 151321, 152100, 152881, 153664, 154449, 155236, 156025, 156816, 157609, 158404, 159201, 160000, 160801, 161604, 162409, 163216, 164025, 164836, 165649, 166464, 167281, 168100, 168921, 169744, 170569, 171396, 172225, 173056, 173889, 174724, 175561, 176400, 177241, 178084, 178929, 179776, 180625, 181476, 182329, 183184, 184041, 184900, 185761, 186624, 187489, 188356, 189225, 190096, 190969, 191844, 192721, 193600, 194481, 195364, 196249, 197136, 198025, 198916, 199809, 200704, 201601, 202500, 203401, 204304, 205209, 206116, 207025, 207936, 208849, 209764, 210681, 211600, 212521, 213444, 214369, 215296, 216225, 217156, 218089, 219024, 219961, 220900, 221841, 222784, 223729, 224676, 225625, 226576, 227529, 228484, 229441, 230400, 231361, 232324, 233289, 234256, 235225, 236196, 237169, 238144, 239121, 240100, 241081, 242064, 243049, 244036, 245025, 246016, 247009, 248004, 249001, 250000, 251001, 252004, 253009, 254016, 255025, 256036, 257049, 258064, 259081, 260100, 261121, 262144, 263169, 264196, 265225, 266256, 267289, 268324, 269361, 270400, 271441, 272484, 273529, 274576, 275625, 276676, 277729, 278784, 279841, 280900, 281961, 283024, 284089, 285156, 286225, 287296, 288369, 289444, 290521, 291600, 292681, 293764, 294849, 295936, 297025, 298116, 299209, 300304, 301401, 302500, 303601, 304704, 305809, 306916, 308025, 309136, 310249, 311364, 312481, 313600, 314721, 315844, 316969, 318096, 319225, 320356, 321489, 322624, 323761, 324900, 326041, 327184, 328329, 329476, 330625, 331776, 332929, 334084, 335241, 336400, 337561, 338724, 339889, 341056, 342225, 343396, 344569, 345744, 346921, 348100, 349281, 350464, 351649, 352836, 354025, 355216, 356409, 357604, 358801, 360000, 361201, 362404, 363609, 364816, 366025, 367236, 368449, 369664, 370881, 372100, 373321, 374544, 375769, 376996, 378225, 379456, 380689, 381924, 383161, 384400, 385641, 386884, 388129, 389376, 390625, 391876, 393129, 394384, 395641, 396900, 398161, 399424, 400689, 401956, 403225, 404496, 405769, 407044, 408321, 409600, 410881, 412164, 413449, 414736, 416025, 417316, 418609, 419904, 421201, 422500, 423801, 425104, 426409, 427716, 429025, 430336, 431649, 432964, 434281, 435600, 436921, 438244, 439569, 440896, 442225, 443556, 444889, 446224, 447561, 448900, 450241, 451584, 452929, 454276, 455625, 456976, 458329, 459684, 461041, 462400, 463761, 465124, 466489, 467856, 469225, 470596, 471969, 473344, 474721, 476100, 477481, 478864, 480249, 481636, 483025, 484416, 485809, 487204, 488601, 490000, 491401, 492804, 494209, 495616, 497025, 498436, 499849, 501264, 502681, 504100, 505521, 506944, 508369, 509796, 511225, 512656, 514089, 515524, 516961, 518400, 519841, 521284, 522729, 524176, 525625, 527076, 528529, 529984, 531441, 532900, 534361, 535824, 537289, 538756, 540225, 541696, 543169, 544644, 546121, 547600, 549081, 550564, 552049, 553536, 555025, 556516, 558009, 559504, 561001, 562500, 564001, 565504, 567009, 568516, 570025, 571536, 573049, 574564, 576081, 577600, 579121, 580644, 582169, 583696, 585225, 586756, 588289, 589824, 591361, 592900, 594441, 595984, 597529, 599076, 600625, 602176, 603729, 605284, 606841, 608400, 609961, 611524, 613089, 614656, 616225, 617796, 619369, 620944, 622521, 624100, 625681, 627264, 628849, 630436, 632025, 633616, 635209, 636804, 638401, 640000, 641601, 643204, 644809, 646416, 648025, 649636, 651249, 652864, 654481, 656100, 657721, 659344, 660969, 662596, 664225, 665856, 667489, 669124, 670761, 672400, 674041, 675684, 677329, 678976, 680625, 682276, 683929, 685584, 687241, 688900, 690561, 692224, 693889, 695556, 697225, 698896, 700569, 702244, 703921, 705600, 707281, 708964, 710649, 712336, 714025, 715716, 717409, 719104, 720801, 722500, 724201, 725904, 727609, 729316, 731025, 732736, 734449, 736164, 737881, 739600, 741321, 743044, 744769, 746496, 748225, 749956, 751689, 753424, 755161, 756900, 758641, 760384, 762129, 763876, 765625, 767376, 769129, 770884, 772641, 774400, 776161, 777924, 779689, 781456, 783225, 784996, 786769, 788544, 790321, 792100, 793881, 795664, 797449, 799236, 801025, 802816, 804609, 806404, 808201, 810000, 811801, 813604, 815409, 817216, 819025, 820836, 822649, 824464, 826281, 828100, 829921, 831744, 833569, 835396, 837225, 839056, 840889, 842724, 844561, 846400, 848241, 850084, 851929, 853776, 855625, 857476, 859329, 861184, 863041, 864900, 866761, 868624, 870489, 872356, 874225, 876096, 877969, 879844, 881721, 883600, 885481, 887364, 889249, 891136, 893025, 894916, 896809, 898704, 900601, 902500, 904401, 906304, 908209, 910116, 912025, 913936, 915849, 917764, 919681, 921600, 923521, 925444, 927369, 929296, 931225, 933156, 935089, 937024, 938961, 940900, 942841, 944784, 946729, 948676, 950625, 952576, 954529, 956484, 958441, 960400, 962361, 964324, 966289, 968256, 970225, 972196, 974169, 976144, 978121, 980100, 982081, 984064, 986049, 988036, 990025, 992016, 994009, 996004, 998001]\n"
     ]
    }
   ],
   "source": [
    "print([n*n for n in range(1000)])"
   ]
  },
  {
   "cell_type": "code",
   "execution_count": 47,
   "id": "e9631233",
   "metadata": {},
   "outputs": [
    {
     "name": "stdout",
     "output_type": "stream",
     "text": [
      "120 µs ± 2.78 µs per loop (mean ± std. dev. of 7 runs, 10,000 loops each)\n"
     ]
    }
   ],
   "source": [
    "%timeit [n*n for n in range(1000)]"
   ]
  },
  {
   "cell_type": "code",
   "execution_count": 48,
   "id": "35d2f9c6",
   "metadata": {},
   "outputs": [
    {
     "name": "stdout",
     "output_type": "stream",
     "text": [
      "4.96 µs ± 178 ns per loop (mean ± std. dev. of 7 runs, 100,000 loops each)\n"
     ]
    }
   ],
   "source": [
    "%timeit np.arange(1000)**2"
   ]
  },
  {
   "cell_type": "code",
   "execution_count": 49,
   "id": "1d78c5f9",
   "metadata": {},
   "outputs": [],
   "source": [
    "m1 = np.random.rand(1000)\n",
    "m2 = np.random.rand(1000)"
   ]
  },
  {
   "cell_type": "code",
   "execution_count": 50,
   "id": "77f9fb01",
   "metadata": {},
   "outputs": [
    {
     "data": {
      "text/plain": [
       "array([9.28669176e-01, 4.87487344e-01, 1.57483607e-01, 3.75086252e-01,\n",
       "       5.86205225e-01, 2.94604127e-01, 3.72882184e-01, 9.38283039e-01,\n",
       "       3.02844567e-01, 2.40258792e-01, 9.67722413e-01, 9.44898149e-02,\n",
       "       5.86537147e-01, 8.67134108e-01, 3.89379122e-01, 2.54208089e-01,\n",
       "       3.11593265e-01, 3.94012448e-01, 3.37688849e-01, 7.21399578e-01,\n",
       "       7.37886210e-01, 3.31087991e-01, 5.41454939e-01, 6.48776790e-01,\n",
       "       1.59303100e-01, 3.03844607e-01, 8.87579641e-01, 5.99809914e-01,\n",
       "       3.54671546e-02, 9.42532025e-01, 7.13135731e-01, 1.32201924e-01,\n",
       "       9.44838565e-01, 9.33681048e-01, 4.61099509e-01, 2.13836796e-02,\n",
       "       7.86290620e-01, 1.23941760e-01, 8.08904484e-01, 7.64004952e-02,\n",
       "       6.09534288e-01, 5.16023340e-01, 9.70628219e-01, 1.57257218e-01,\n",
       "       9.38737691e-01, 9.58772681e-01, 1.29278851e-01, 5.01375572e-01,\n",
       "       5.67707132e-01, 5.83128473e-01, 7.17044291e-01, 8.51960180e-01,\n",
       "       3.14965965e-01, 9.34702544e-01, 3.50999692e-01, 3.06418622e-01,\n",
       "       3.77508780e-01, 8.27187096e-01, 1.87577446e-01, 6.99079391e-01,\n",
       "       7.87683707e-01, 4.88706255e-01, 1.48523353e-01, 6.56408355e-01,\n",
       "       7.95148914e-01, 2.73173570e-01, 8.50614301e-01, 7.95961204e-01,\n",
       "       9.13411542e-01, 8.71482219e-01, 4.57656081e-01, 1.72663073e-01,\n",
       "       5.96083671e-02, 8.66202577e-01, 3.87267920e-02, 4.11364204e-02,\n",
       "       4.06543519e-01, 8.10257835e-02, 5.13562132e-01, 8.63746180e-01,\n",
       "       2.52725324e-02, 5.41234579e-01, 8.38404866e-01, 1.94193345e-01,\n",
       "       3.85665812e-01, 1.67641921e-01, 4.50763123e-01, 7.63690291e-02,\n",
       "       2.55138325e-01, 4.73863005e-01, 7.75670505e-02, 6.77527989e-01,\n",
       "       4.46780685e-01, 8.35574134e-01, 6.32305344e-01, 3.43030120e-01,\n",
       "       7.84180719e-01, 8.90722001e-01, 8.33921274e-01, 5.40953821e-01,\n",
       "       9.41802809e-01, 7.34766944e-01, 2.13280724e-02, 6.98701649e-01,\n",
       "       7.51146429e-01, 3.31923130e-01, 5.08302192e-02, 7.80001929e-01,\n",
       "       8.37044798e-01, 2.60455814e-01, 3.61725845e-02, 7.03674168e-01,\n",
       "       7.60871331e-01, 1.73562092e-01, 1.33984524e-01, 1.53200714e-01,\n",
       "       6.73074586e-01, 4.03001048e-01, 1.70981366e-01, 8.03227930e-01,\n",
       "       7.54422498e-01, 2.69986020e-01, 1.64043515e-01, 4.57007493e-01,\n",
       "       4.53786279e-01, 2.97698855e-01, 8.44015458e-01, 4.86113835e-01,\n",
       "       7.93357090e-01, 6.85119208e-01, 8.66145247e-01, 7.15130341e-01,\n",
       "       5.99366052e-01, 4.96656092e-01, 9.83921823e-03, 6.93042855e-02,\n",
       "       9.05769477e-02, 1.90656618e-01, 5.09093118e-01, 9.68600547e-01,\n",
       "       6.86654666e-01, 9.58083350e-02, 7.32555410e-01, 9.73890858e-01,\n",
       "       9.76505537e-01, 6.49378053e-01, 5.76776860e-01, 1.40976805e-03,\n",
       "       7.26598149e-01, 3.59230030e-01, 6.43449588e-01, 8.92274115e-01,\n",
       "       2.25501992e-01, 9.10850884e-01, 5.97236522e-01, 3.50977330e-01,\n",
       "       8.97403755e-01, 4.06475062e-01, 8.14166330e-01, 3.92623961e-01,\n",
       "       8.00474187e-02, 1.97622972e-01, 3.70638550e-01, 4.61045332e-02,\n",
       "       8.20969458e-01, 4.83512878e-01, 8.33053190e-01, 3.43260752e-01,\n",
       "       6.70466991e-01, 4.95951992e-02, 5.24117375e-01, 5.91411041e-01,\n",
       "       8.87254925e-01, 4.44512315e-01, 8.02948456e-01, 6.11650655e-01,\n",
       "       9.40304809e-01, 4.20935496e-01, 8.55445396e-01, 8.61690165e-01,\n",
       "       1.65687676e-01, 3.82577831e-01, 4.81664021e-01, 7.43831124e-01,\n",
       "       9.23326049e-01, 3.51398203e-01, 8.40444428e-01, 9.15872857e-01,\n",
       "       1.48466346e-01, 8.62881865e-01, 6.56617922e-01, 2.40880488e-02,\n",
       "       2.16970350e-01, 8.12388731e-01, 3.24632346e-01, 4.41246113e-01,\n",
       "       6.29110174e-01, 7.69789559e-01, 5.83279024e-01, 6.91419655e-01,\n",
       "       1.03287726e-02, 1.17405903e-01, 1.72401336e-01, 5.89070545e-01,\n",
       "       3.85221800e-01, 3.92137823e-01, 4.83985846e-01, 9.11195293e-01,\n",
       "       7.12260069e-01, 5.11708315e-01, 8.52515435e-01, 3.18673001e-02,\n",
       "       1.03889837e-01, 7.33181416e-01, 3.41655472e-01, 4.91173105e-02,\n",
       "       5.23859756e-01, 6.09562664e-01, 6.40285366e-01, 7.37369342e-01,\n",
       "       7.26382768e-01, 3.79489972e-01, 4.66014333e-02, 6.26571385e-01,\n",
       "       5.51811616e-01, 7.43128228e-01, 2.49948473e-01, 7.20394577e-01,\n",
       "       9.87987846e-01, 3.56730294e-01, 9.16530912e-01, 3.63213209e-01,\n",
       "       8.01313910e-01, 4.93181337e-01, 8.02435423e-01, 4.37880903e-02,\n",
       "       5.54921216e-02, 1.00480031e-01, 6.04294116e-02, 3.22050937e-01,\n",
       "       9.09526333e-01, 2.83433279e-01, 6.43004937e-01, 1.23217289e-01,\n",
       "       3.56893031e-01, 8.42061572e-01, 8.89597607e-02, 6.19638854e-01,\n",
       "       5.34181950e-01, 2.48678193e-01, 3.25914278e-01, 4.18047288e-01,\n",
       "       9.34989941e-01, 5.35251052e-01, 5.43173292e-01, 2.20965139e-01,\n",
       "       9.19303700e-02, 1.23163716e-01, 3.69515504e-01, 6.40670788e-01,\n",
       "       4.03017676e-01, 4.77078725e-01, 4.70966774e-01, 6.47994777e-01,\n",
       "       9.77238377e-01, 8.42397231e-01, 8.63733976e-01, 2.53946478e-01,\n",
       "       2.45136868e-01, 1.69893185e-01, 7.35873351e-01, 9.03349465e-01,\n",
       "       2.33667683e-01, 8.10844893e-03, 2.76069983e-01, 7.20197191e-01,\n",
       "       5.41229340e-01, 7.64878066e-01, 1.63334965e-02, 4.99498347e-01,\n",
       "       4.50037341e-01, 2.83380827e-02, 9.97441546e-03, 8.03485453e-01,\n",
       "       8.29932880e-01, 3.56212300e-01, 1.69721748e-01, 4.52688779e-01,\n",
       "       9.10119819e-02, 7.39003076e-01, 5.01864318e-01, 9.18649010e-01,\n",
       "       6.89302402e-03, 4.50165136e-01, 5.28628422e-01, 9.79353705e-01,\n",
       "       1.60358415e-01, 3.36156176e-01, 9.92279023e-01, 3.83902240e-01,\n",
       "       4.89184928e-01, 4.73328373e-01, 1.11477938e-01, 6.79190471e-01,\n",
       "       8.78255931e-01, 8.96441425e-01, 4.79452705e-01, 8.23755203e-01,\n",
       "       6.98275834e-01, 1.25325359e-01, 2.27383422e-01, 3.26363878e-01,\n",
       "       1.05623800e-01, 7.00689533e-01, 7.54895047e-03, 1.03594129e-01,\n",
       "       1.05379253e-01, 8.35221346e-01, 6.74670014e-01, 1.86697329e-01,\n",
       "       8.74529532e-01, 9.15773961e-01, 8.82313618e-02, 8.87139503e-01,\n",
       "       6.88058096e-01, 9.61962260e-01, 4.72477626e-01, 6.31257433e-01,\n",
       "       5.86238721e-01, 9.24706152e-01, 1.57898684e-01, 3.49854706e-01,\n",
       "       1.62767621e-01, 1.67908352e-02, 6.24301019e-01, 1.22476657e-01,\n",
       "       7.59448778e-01, 5.27743637e-01, 9.27797720e-01, 8.31363254e-01,\n",
       "       7.39290589e-02, 4.12766282e-01, 6.48025345e-01, 8.30181311e-02,\n",
       "       9.31754580e-01, 6.17458899e-01, 8.91478076e-02, 8.94803732e-02,\n",
       "       1.19700151e-01, 7.56403870e-01, 2.58281875e-01, 1.43961783e-01,\n",
       "       6.45672205e-01, 6.31931533e-01, 5.35105538e-01, 6.78887484e-01,\n",
       "       4.08608429e-01, 5.23288868e-01, 7.46397890e-01, 6.19932299e-01,\n",
       "       7.20225775e-01, 4.44784727e-01, 9.64070928e-01, 6.14240298e-01,\n",
       "       1.04414515e-01, 4.98827303e-01, 5.98422298e-01, 3.87014327e-04,\n",
       "       7.40367239e-01, 6.16107672e-01, 1.96882540e-01, 5.57054503e-01,\n",
       "       2.86538697e-01, 6.71422243e-01, 2.71392361e-01, 3.47247770e-01,\n",
       "       6.35891013e-01, 5.84955796e-01, 3.37186460e-01, 4.87303573e-01,\n",
       "       4.27259599e-01, 2.82728763e-01, 5.40388630e-01, 7.53925556e-01,\n",
       "       5.57431353e-01, 9.63854477e-01, 7.67498157e-01, 1.38260741e-01,\n",
       "       5.09181846e-02, 3.75765903e-01, 2.73349533e-01, 9.83482822e-01,\n",
       "       7.02585555e-01, 8.56539289e-01, 3.42623199e-01, 3.61236401e-01,\n",
       "       8.78452817e-01, 6.76728028e-01, 4.29614049e-02, 1.27929634e-02,\n",
       "       7.73743001e-01, 5.08754826e-02, 6.12028850e-01, 8.94285677e-01,\n",
       "       9.49055560e-01, 7.10384998e-01, 7.25801309e-01, 9.33035572e-01,\n",
       "       5.49704532e-01, 1.33747233e-01, 6.67759790e-01, 4.17606806e-01,\n",
       "       7.62155550e-01, 7.60619599e-01, 1.34302969e-01, 6.93112666e-01,\n",
       "       4.17532732e-01, 2.93458566e-01, 1.71276680e-01, 6.98767377e-01,\n",
       "       6.76212491e-01, 9.70397897e-01, 2.70441463e-01, 4.63207624e-01,\n",
       "       1.44035188e-01, 4.24981337e-01, 4.12575029e-01, 8.58389781e-01,\n",
       "       9.61502760e-01, 3.21265300e-01, 7.04825787e-01, 4.56113853e-01,\n",
       "       8.90969096e-01, 9.67363994e-01, 9.11214666e-01, 3.38026072e-01,\n",
       "       5.28651485e-01, 1.64540013e-01, 8.70351529e-02, 7.62004766e-01,\n",
       "       4.45443363e-01, 3.35562414e-01, 6.05273663e-01, 7.80145016e-01,\n",
       "       3.54047232e-01, 4.05654460e-01, 3.31756649e-01, 8.69979443e-01,\n",
       "       1.56379611e-01, 3.27335765e-01, 6.61957720e-01, 6.89092808e-01,\n",
       "       3.45875579e-01, 7.44513979e-01, 1.97071336e-01, 4.20786283e-01,\n",
       "       6.89631474e-01, 2.43423497e-01, 7.41826267e-01, 3.44536764e-01,\n",
       "       2.89772674e-01, 9.88152640e-01, 6.38872135e-01, 1.22110447e-01,\n",
       "       6.03285847e-02, 9.90430654e-01, 5.77463243e-01, 8.56775374e-02,\n",
       "       8.66022088e-01, 4.62740925e-01, 7.06370017e-01, 6.83376960e-01,\n",
       "       8.64909015e-01, 3.24372324e-01, 2.11000342e-01, 7.22994339e-01,\n",
       "       8.97055813e-01, 9.15299911e-02, 5.45855780e-01, 6.92003279e-01,\n",
       "       4.83001609e-01, 5.96707999e-01, 9.76319042e-02, 2.29442709e-01,\n",
       "       6.25063596e-01, 4.57354953e-01, 7.92877619e-01, 7.12818976e-01,\n",
       "       3.39097616e-01, 7.91305580e-01, 2.51148573e-01, 8.04398227e-01,\n",
       "       4.11356689e-01, 8.35523987e-02, 8.72525514e-01, 1.36146113e-01,\n",
       "       7.53729413e-01, 8.43767887e-01, 3.78426145e-01, 9.60575258e-01,\n",
       "       1.08688353e-01, 2.00254316e-01, 7.37347310e-01, 9.25401684e-01,\n",
       "       2.87677663e-01, 9.70123367e-01, 8.10973394e-01, 3.22285609e-01,\n",
       "       1.52351059e-01, 1.97181413e-01, 7.51964272e-01, 1.52646469e-01,\n",
       "       4.03079672e-01, 5.31684470e-01, 1.56960787e-01, 1.07107006e-01,\n",
       "       2.19382512e-01, 6.57734755e-01, 3.76686106e-01, 3.91052180e-01,\n",
       "       4.39683385e-01, 5.42584979e-01, 6.38379796e-01, 9.26294575e-01,\n",
       "       5.80050398e-02, 7.29506051e-01, 5.66051102e-02, 8.12443386e-01,\n",
       "       3.97201074e-01, 5.85440880e-01, 4.21763780e-01, 3.79233613e-01,\n",
       "       5.60234088e-01, 9.66651710e-01, 6.89978786e-02, 1.01953941e-02,\n",
       "       1.23680098e-01, 2.88811342e-01, 2.37154090e-01, 3.20178904e-01,\n",
       "       2.58729067e-01, 8.23322182e-01, 4.71983435e-01, 4.03198974e-01,\n",
       "       4.87343871e-01, 9.06569716e-01, 6.11986837e-01, 2.22393857e-01,\n",
       "       7.29308376e-01, 8.47195126e-01, 5.16133531e-01, 7.63947404e-01,\n",
       "       7.09780049e-01, 7.53471255e-01, 4.02084006e-01, 1.10952252e-01,\n",
       "       5.89885124e-01, 6.78136670e-01, 1.80996708e-01, 7.87600247e-01,\n",
       "       1.62497825e-01, 6.26459177e-01, 6.97900728e-01, 4.70945027e-01,\n",
       "       8.02126940e-01, 7.01542952e-02, 4.31943792e-01, 6.90683914e-01,\n",
       "       9.55221244e-01, 7.35565532e-01, 4.70387370e-01, 8.81557509e-02,\n",
       "       1.82739569e-01, 8.22676314e-01, 6.09589868e-01, 4.22843301e-02,\n",
       "       3.93601040e-01, 4.92797096e-01, 5.95285073e-01, 8.04048903e-01,\n",
       "       4.40884647e-01, 8.45738640e-01, 6.69797878e-01, 8.29594243e-02,\n",
       "       4.83902478e-01, 7.03489188e-01, 3.08744946e-02, 1.26832516e-01,\n",
       "       9.71576113e-01, 8.09512895e-01, 1.54349544e-01, 2.88400241e-01,\n",
       "       3.89747223e-02, 7.71914272e-01, 6.57462388e-02, 5.65079511e-01,\n",
       "       5.21397991e-01, 4.88361155e-01, 8.34855583e-02, 2.94614212e-01,\n",
       "       4.17876660e-01, 6.05912863e-01, 6.13500544e-01, 2.30993952e-01,\n",
       "       4.28813129e-01, 4.34635243e-01, 3.42468422e-01, 5.57014838e-01,\n",
       "       5.51484819e-01, 5.35836735e-01, 1.41216317e-02, 7.27702352e-01,\n",
       "       4.04304052e-01, 2.06510208e-01, 9.02044428e-01, 8.26393453e-01,\n",
       "       8.32449933e-01, 4.01683114e-01, 2.77446430e-01, 4.55538223e-01,\n",
       "       8.08810433e-01, 5.93057540e-01, 1.81915776e-01, 4.09281693e-01,\n",
       "       2.91035489e-01, 7.67736888e-03, 8.55150528e-01, 1.81305145e-01,\n",
       "       5.68127196e-01, 6.70440457e-01, 9.14691820e-01, 8.38829177e-01,\n",
       "       7.17882968e-01, 3.49972574e-01, 9.35355148e-01, 2.93725039e-01,\n",
       "       7.91069937e-01, 9.65138604e-01, 2.85285614e-01, 5.12550784e-01,\n",
       "       6.15067964e-01, 9.02845671e-01, 8.71813481e-02, 8.25283217e-01,\n",
       "       9.95834055e-01, 2.23585309e-01, 4.97189123e-01, 9.51447213e-01,\n",
       "       9.97574487e-01, 3.46553500e-01, 1.04149839e-01, 2.30529145e-01,\n",
       "       1.13192120e-01, 2.93205352e-01, 9.92032479e-02, 3.11089326e-01,\n",
       "       5.87626925e-01, 6.46752526e-01, 9.86276029e-01, 9.75789813e-01,\n",
       "       9.49306555e-01, 6.86721865e-01, 5.97064574e-01, 4.16695587e-01,\n",
       "       9.10498931e-01, 4.09842906e-01, 3.74340949e-01, 7.09349218e-01,\n",
       "       6.76416215e-01, 9.99258114e-01, 6.72944363e-01, 4.80153311e-01,\n",
       "       5.66531150e-02, 3.95981309e-01, 4.96944717e-01, 1.15235496e-01,\n",
       "       9.68246766e-01, 6.36230532e-01, 9.84201773e-01, 3.14145263e-01,\n",
       "       4.00584581e-01, 6.87292564e-01, 9.91855543e-01, 2.50238706e-01,\n",
       "       9.74293562e-01, 5.30015954e-01, 2.46229114e-01, 7.47193195e-01,\n",
       "       7.98209538e-01, 2.48967637e-01, 3.32477925e-02, 5.12478455e-01,\n",
       "       3.80842724e-01, 2.38279695e-01, 6.21164847e-01, 4.34023756e-01,\n",
       "       4.95710392e-01, 7.18755404e-01, 5.75853930e-01, 6.24930912e-01,\n",
       "       7.65692423e-01, 8.39012727e-01, 9.70614171e-01, 2.30821043e-01,\n",
       "       1.38263986e-01, 5.19769304e-01, 9.91402934e-01, 6.06406359e-01,\n",
       "       1.83076369e-02, 3.73163914e-01, 1.69872074e-01, 7.77950489e-01,\n",
       "       6.08041281e-03, 5.53013748e-01, 7.83974746e-01, 6.81695137e-02,\n",
       "       8.13161361e-01, 9.65291072e-01, 4.35113044e-01, 5.71637643e-01,\n",
       "       8.86801249e-02, 9.39180663e-01, 2.75299799e-01, 9.98811046e-01,\n",
       "       6.97278511e-01, 2.85402663e-01, 4.18482827e-01, 1.30052595e-01,\n",
       "       7.59819689e-01, 5.93632481e-01, 3.61467861e-01, 4.68083765e-01,\n",
       "       1.26180973e-01, 2.68721379e-01, 3.46850770e-01, 6.94400979e-01,\n",
       "       7.58002742e-01, 1.98680578e-01, 1.17626537e-01, 9.70239737e-02,\n",
       "       4.41374657e-02, 4.86630267e-01, 9.06894407e-01, 9.32397838e-02,\n",
       "       9.88341821e-01, 1.65690672e-01, 4.00497411e-01, 3.99411131e-01,\n",
       "       3.89966522e-01, 7.94751488e-01, 5.58465202e-01, 8.64610312e-01,\n",
       "       2.19648781e-01, 3.25306129e-01, 7.27206122e-02, 6.94974792e-01,\n",
       "       1.70245178e-01, 8.34665394e-01, 1.92159149e-01, 6.29723246e-01,\n",
       "       8.87772837e-01, 9.22821173e-01, 5.85311383e-02, 4.05891631e-01,\n",
       "       9.94140893e-01, 1.29261727e-01, 1.25218644e-01, 2.84479057e-02,\n",
       "       4.07855038e-01, 5.48254770e-01, 4.60766360e-01, 6.30454521e-01,\n",
       "       6.05334618e-02, 1.44089199e-01, 6.24422259e-01, 1.41488706e-01,\n",
       "       6.60528396e-01, 7.49859902e-01, 1.25901508e-01, 8.84959658e-01,\n",
       "       3.86759354e-02, 1.32972141e-04, 9.19203494e-01, 2.09682108e-01,\n",
       "       5.55405515e-01, 9.62905552e-01, 6.76784927e-01, 6.95473418e-01,\n",
       "       6.57004345e-01, 8.95140463e-01, 4.76107130e-01, 9.09733476e-01,\n",
       "       7.70759966e-01, 3.83025007e-01, 6.11463313e-01, 3.83118995e-01,\n",
       "       2.19117757e-01, 4.61303834e-01, 8.48801114e-01, 7.38041119e-01,\n",
       "       9.82817341e-01, 2.35560877e-01, 6.70866873e-01, 4.69363692e-01,\n",
       "       2.54410204e-01, 5.77820885e-01, 9.65203599e-01, 6.01363872e-01,\n",
       "       7.18701661e-01, 8.53458471e-01, 5.40828897e-01, 1.52357575e-01,\n",
       "       6.07228794e-02, 6.55178166e-01, 9.52980592e-01, 8.63009533e-01,\n",
       "       3.79018890e-01, 6.85811909e-01, 1.93286242e-01, 6.42800007e-02,\n",
       "       4.40360758e-01, 3.54497353e-01, 7.43190354e-01, 9.08797035e-01,\n",
       "       3.60373354e-01, 8.00837618e-02, 2.86213275e-01, 4.70476246e-02,\n",
       "       5.49493599e-01, 1.33463997e-01, 9.67438086e-01, 6.78988761e-01,\n",
       "       5.44974328e-01, 8.43428322e-01, 2.70259139e-01, 6.02076573e-01,\n",
       "       3.68957524e-01, 5.71680193e-01, 3.03282211e-01, 8.41959017e-01,\n",
       "       2.61104997e-01, 1.75035510e-01, 9.85055132e-01, 7.88867227e-01,\n",
       "       7.06585108e-01, 5.63515760e-01, 5.65172839e-01, 7.12384237e-01,\n",
       "       2.28463096e-01, 2.05511360e-01, 8.51342724e-02, 8.26132987e-02,\n",
       "       4.19128705e-01, 6.37738397e-01, 8.47855406e-01, 2.10855126e-01,\n",
       "       7.22976053e-01, 8.59022625e-01, 1.64555114e-01, 5.42359227e-01,\n",
       "       6.00904872e-01, 8.30181105e-01, 4.96657392e-02, 9.71670954e-01,\n",
       "       6.24711778e-01, 8.79405159e-01, 2.60222552e-01, 4.00466508e-01,\n",
       "       9.37629426e-01, 1.15169485e-02, 9.97869910e-01, 7.81103308e-01,\n",
       "       2.20779117e-01, 8.35417563e-01, 4.85658971e-01, 9.75505090e-01,\n",
       "       8.94916283e-02, 6.61296261e-01, 6.01864789e-01, 9.73014797e-01,\n",
       "       4.42790880e-01, 1.43906398e-01, 4.47823162e-01, 3.57029948e-01,\n",
       "       3.10878881e-01, 4.98244536e-01, 4.12461225e-01, 7.03976547e-01,\n",
       "       7.83765254e-01, 6.49025358e-01, 8.64273083e-01, 2.37493321e-01,\n",
       "       4.23720537e-01, 5.33342704e-01, 1.34871746e-01, 5.62289420e-01,\n",
       "       3.95351830e-01, 3.59997684e-01, 5.76866866e-01, 3.28010593e-01,\n",
       "       7.00965047e-01, 5.95030945e-01, 8.44600337e-01, 7.42420070e-02,\n",
       "       9.65935200e-01, 6.21922919e-01, 4.18431466e-01, 9.54762088e-02,\n",
       "       3.10026948e-01, 8.94264337e-01, 1.33769296e-01, 3.91026531e-01,\n",
       "       6.56233203e-01, 7.89111587e-01, 8.19377762e-01, 3.67153044e-01,\n",
       "       4.38302607e-01, 5.46425898e-01, 8.93599664e-01, 5.74276010e-01,\n",
       "       3.88728570e-01, 7.73988472e-01, 9.80683282e-01, 7.37587874e-01,\n",
       "       4.89095745e-01, 8.31512216e-02, 7.03978952e-01, 1.58719248e-01,\n",
       "       3.78360406e-01, 3.71586862e-01, 2.21537805e-01, 6.47902921e-01,\n",
       "       1.36081487e-01, 9.84290208e-01, 6.95855821e-01, 3.82034947e-01,\n",
       "       6.81009290e-01, 5.29844344e-01, 9.10631963e-02, 8.14006998e-01,\n",
       "       8.71361262e-01, 1.73948966e-01, 4.20818902e-01, 1.90958449e-01,\n",
       "       3.42334514e-01, 1.78902545e-01, 7.27885102e-01, 6.21504969e-01,\n",
       "       3.09623894e-01, 9.10078510e-01, 3.73156027e-01, 6.23994834e-01,\n",
       "       4.25965829e-01, 3.20894807e-01, 3.44564717e-01, 6.28762839e-01,\n",
       "       1.17197950e-01, 9.21929967e-01, 7.61162970e-01, 3.35670057e-01,\n",
       "       3.61089052e-02, 8.10402635e-01, 4.70580967e-01, 9.34425237e-01,\n",
       "       4.11399071e-01, 3.69208934e-01, 6.26977333e-01, 3.75234552e-01,\n",
       "       8.80100732e-01, 3.13317923e-01, 5.43174362e-01, 3.73135622e-02,\n",
       "       6.89821252e-01, 2.49493242e-01, 3.65827198e-02, 3.47442255e-01,\n",
       "       1.40937127e-02, 6.62501744e-01, 2.15699562e-01, 5.29186002e-01,\n",
       "       2.42124237e-01, 1.31026788e-01, 3.03532287e-01, 7.15206026e-01,\n",
       "       4.87874579e-01, 1.77147537e-01, 9.82527996e-01, 4.00891088e-01,\n",
       "       5.88764455e-01, 3.19575867e-01, 5.63517800e-01, 9.21839902e-01,\n",
       "       3.20149072e-01, 5.66757287e-01, 9.64434996e-01, 4.91783941e-01,\n",
       "       3.58660902e-02, 5.82489266e-01, 2.26391779e-01, 1.89235475e-01])"
      ]
     },
     "execution_count": 50,
     "metadata": {},
     "output_type": "execute_result"
    }
   ],
   "source": [
    "m1"
   ]
  },
  {
   "cell_type": "code",
   "execution_count": 51,
   "id": "b6a00258",
   "metadata": {},
   "outputs": [],
   "source": [
    "def dot(m1, m2):\n",
    "    s = 0\n",
    "    for i in range(1000):\n",
    "        s += m1[1] * m2[i]\n",
    "    return s"
   ]
  },
  {
   "cell_type": "code",
   "execution_count": 56,
   "id": "5fa85e51",
   "metadata": {},
   "outputs": [
    {
     "name": "stdout",
     "output_type": "stream",
     "text": [
      "597 µs ± 35.6 µs per loop (mean ± std. dev. of 7 runs, 1,000 loops each)\n"
     ]
    }
   ],
   "source": [
    "%timeit dot(m1, m2)"
   ]
  },
  {
   "cell_type": "code",
   "execution_count": 57,
   "id": "e1bbd388",
   "metadata": {},
   "outputs": [
    {
     "name": "stdout",
     "output_type": "stream",
     "text": [
      "2.87 µs ± 146 ns per loop (mean ± std. dev. of 7 runs, 100,000 loops each)\n"
     ]
    }
   ],
   "source": [
    "%timeit np.dot(m1, m2)"
   ]
  },
  {
   "cell_type": "code",
   "execution_count": 58,
   "id": "ea8f4e3b",
   "metadata": {},
   "outputs": [],
   "source": [
    "mat = np.random.rand(4, 5)"
   ]
  },
  {
   "cell_type": "code",
   "execution_count": 59,
   "id": "af21633e",
   "metadata": {},
   "outputs": [
    {
     "data": {
      "text/plain": [
       "array([[0.8653426 , 0.17071034, 0.87891865, 0.77359975, 0.90893033],\n",
       "       [0.0875611 , 0.16054395, 0.44082771, 0.31762188, 0.36371976],\n",
       "       [0.7189601 , 0.11086657, 0.80594249, 0.96837745, 0.68584477],\n",
       "       [0.54889972, 0.90362193, 0.47594689, 0.38106146, 0.58114138]])"
      ]
     },
     "execution_count": 59,
     "metadata": {},
     "output_type": "execute_result"
    }
   ],
   "source": [
    "mat"
   ]
  },
  {
   "cell_type": "code",
   "execution_count": 60,
   "id": "9d9526be",
   "metadata": {},
   "outputs": [
    {
     "data": {
      "text/plain": [
       "array([[0.4326713 , 0.08535517, 0.43945933, 0.38679987, 0.45446517],\n",
       "       [0.04378055, 0.08027197, 0.22041385, 0.15881094, 0.18185988],\n",
       "       [0.35948005, 0.05543328, 0.40297124, 0.48418872, 0.34292239],\n",
       "       [0.27444986, 0.45181096, 0.23797344, 0.19053073, 0.29057069]])"
      ]
     },
     "execution_count": 60,
     "metadata": {},
     "output_type": "execute_result"
    }
   ],
   "source": [
    "mat / 2"
   ]
  },
  {
   "cell_type": "code",
   "execution_count": 61,
   "id": "143644cd",
   "metadata": {},
   "outputs": [],
   "source": [
    "mat *= 0.75"
   ]
  },
  {
   "cell_type": "code",
   "execution_count": 62,
   "id": "cd59e8f7",
   "metadata": {},
   "outputs": [
    {
     "data": {
      "text/plain": [
       "array([[0.64900695, 0.12803275, 0.65918899, 0.58019981, 0.68169775],\n",
       "       [0.06567082, 0.12040796, 0.33062078, 0.23821641, 0.27278982],\n",
       "       [0.53922007, 0.08314993, 0.60445687, 0.72628309, 0.51438358],\n",
       "       [0.41167479, 0.67771645, 0.35696017, 0.2857961 , 0.43585604]])"
      ]
     },
     "execution_count": 62,
     "metadata": {},
     "output_type": "execute_result"
    }
   ],
   "source": [
    "mat"
   ]
  },
  {
   "cell_type": "code",
   "execution_count": 63,
   "id": "ff2f3f5c",
   "metadata": {},
   "outputs": [
    {
     "data": {
      "text/plain": [
       "(4, 5)"
      ]
     },
     "execution_count": 63,
     "metadata": {},
     "output_type": "execute_result"
    }
   ],
   "source": [
    "mat.shape"
   ]
  },
  {
   "cell_type": "code",
   "execution_count": 66,
   "id": "fcc25aba",
   "metadata": {},
   "outputs": [
    {
     "data": {
      "text/plain": [
       "array([[0.64900695, 0.12803275, 0.65918899, 0.58019981],\n",
       "       [0.68169775, 0.06567082, 0.12040796, 0.33062078],\n",
       "       [0.23821641, 0.27278982, 0.53922007, 0.08314993],\n",
       "       [0.60445687, 0.72628309, 0.51438358, 0.41167479],\n",
       "       [0.67771645, 0.35696017, 0.2857961 , 0.43585604]])"
      ]
     },
     "execution_count": 66,
     "metadata": {},
     "output_type": "execute_result"
    }
   ],
   "source": [
    "mat.reshape(5, 4)"
   ]
  },
  {
   "cell_type": "code",
   "execution_count": 67,
   "id": "31587d31",
   "metadata": {},
   "outputs": [
    {
     "data": {
      "text/plain": [
       "array([[0.64900695, 0.12803275, 0.65918899, 0.58019981, 0.68169775,\n",
       "        0.06567082, 0.12040796, 0.33062078, 0.23821641, 0.27278982],\n",
       "       [0.53922007, 0.08314993, 0.60445687, 0.72628309, 0.51438358,\n",
       "        0.41167479, 0.67771645, 0.35696017, 0.2857961 , 0.43585604]])"
      ]
     },
     "execution_count": 67,
     "metadata": {},
     "output_type": "execute_result"
    }
   ],
   "source": [
    "mat.reshape(2, 10)"
   ]
  },
  {
   "cell_type": "code",
   "execution_count": 68,
   "id": "b5dd795b",
   "metadata": {},
   "outputs": [
    {
     "data": {
      "text/plain": [
       "array([[0.64900695, 0.12803275],\n",
       "       [0.65918899, 0.58019981],\n",
       "       [0.68169775, 0.06567082],\n",
       "       [0.12040796, 0.33062078],\n",
       "       [0.23821641, 0.27278982],\n",
       "       [0.53922007, 0.08314993],\n",
       "       [0.60445687, 0.72628309],\n",
       "       [0.51438358, 0.41167479],\n",
       "       [0.67771645, 0.35696017],\n",
       "       [0.2857961 , 0.43585604]])"
      ]
     },
     "execution_count": 68,
     "metadata": {},
     "output_type": "execute_result"
    }
   ],
   "source": [
    "mat.reshape(10, 2)"
   ]
  },
  {
   "cell_type": "code",
   "execution_count": 69,
   "id": "8b610b88",
   "metadata": {},
   "outputs": [
    {
     "data": {
      "text/plain": [
       "array([[0.64900695, 0.12803275, 0.65918899, 0.58019981, 0.68169775],\n",
       "       [0.06567082, 0.12040796, 0.33062078, 0.23821641, 0.27278982],\n",
       "       [0.53922007, 0.08314993, 0.60445687, 0.72628309, 0.51438358],\n",
       "       [0.41167479, 0.67771645, 0.35696017, 0.2857961 , 0.43585604]])"
      ]
     },
     "execution_count": 69,
     "metadata": {},
     "output_type": "execute_result"
    }
   ],
   "source": [
    "mat.reshape(4, 5)"
   ]
  },
  {
   "cell_type": "code",
   "execution_count": 70,
   "id": "54635e1c",
   "metadata": {},
   "outputs": [
    {
     "data": {
      "text/plain": [
       "array([[0.64900695],\n",
       "       [0.12803275],\n",
       "       [0.65918899],\n",
       "       [0.58019981],\n",
       "       [0.68169775],\n",
       "       [0.06567082],\n",
       "       [0.12040796],\n",
       "       [0.33062078],\n",
       "       [0.23821641],\n",
       "       [0.27278982],\n",
       "       [0.53922007],\n",
       "       [0.08314993],\n",
       "       [0.60445687],\n",
       "       [0.72628309],\n",
       "       [0.51438358],\n",
       "       [0.41167479],\n",
       "       [0.67771645],\n",
       "       [0.35696017],\n",
       "       [0.2857961 ],\n",
       "       [0.43585604]])"
      ]
     },
     "execution_count": 70,
     "metadata": {},
     "output_type": "execute_result"
    }
   ],
   "source": [
    "mat.reshape(20,1)"
   ]
  },
  {
   "cell_type": "code",
   "execution_count": 71,
   "id": "1739b6fd",
   "metadata": {},
   "outputs": [
    {
     "data": {
      "text/plain": [
       "array([[0.64900695, 0.12803275, 0.65918899, 0.58019981, 0.68169775,\n",
       "        0.06567082, 0.12040796, 0.33062078, 0.23821641, 0.27278982,\n",
       "        0.53922007, 0.08314993, 0.60445687, 0.72628309, 0.51438358,\n",
       "        0.41167479, 0.67771645, 0.35696017, 0.2857961 , 0.43585604]])"
      ]
     },
     "execution_count": 71,
     "metadata": {},
     "output_type": "execute_result"
    }
   ],
   "source": [
    "mat.reshape(1,20)"
   ]
  },
  {
   "cell_type": "code",
   "execution_count": 73,
   "id": "b2ace0db",
   "metadata": {},
   "outputs": [
    {
     "data": {
      "text/plain": [
       "array([[0., 0., 0., 0., 0.],\n",
       "       [0., 0., 0., 0., 0.],\n",
       "       [0., 0., 0., 0., 0.],\n",
       "       [0., 0., 0., 0., 0.]])"
      ]
     },
     "execution_count": 73,
     "metadata": {},
     "output_type": "execute_result"
    }
   ],
   "source": [
    "np.zeros((4, 5))"
   ]
  },
  {
   "cell_type": "code",
   "execution_count": 74,
   "id": "9babb121",
   "metadata": {},
   "outputs": [
    {
     "data": {
      "text/plain": [
       "array([[0., 0., 0., 0., 0.],\n",
       "       [0., 0., 0., 0., 0.],\n",
       "       [0., 0., 0., 0., 0.],\n",
       "       [0., 0., 0., 0., 0.]])"
      ]
     },
     "execution_count": 74,
     "metadata": {},
     "output_type": "execute_result"
    }
   ],
   "source": [
    "np.empty((4, 5))"
   ]
  },
  {
   "cell_type": "code",
   "execution_count": 75,
   "id": "d47049f0",
   "metadata": {},
   "outputs": [
    {
     "data": {
      "text/plain": [
       "array([[1., 1., 1., 1., 1.],\n",
       "       [1., 1., 1., 1., 1.],\n",
       "       [1., 1., 1., 1., 1.],\n",
       "       [1., 1., 1., 1., 1.]])"
      ]
     },
     "execution_count": 75,
     "metadata": {},
     "output_type": "execute_result"
    }
   ],
   "source": [
    "np.ones((4, 5))"
   ]
  },
  {
   "cell_type": "code",
   "execution_count": 76,
   "id": "a4ef9ed8",
   "metadata": {},
   "outputs": [
    {
     "data": {
      "text/plain": [
       "array([[1., 1., 1., 1., 1.],\n",
       "       [1., 1., 1., 1., 1.],\n",
       "       [1., 1., 1., 1., 1.],\n",
       "       [1., 1., 1., 1., 1.]])"
      ]
     },
     "execution_count": 76,
     "metadata": {},
     "output_type": "execute_result"
    }
   ],
   "source": [
    "np.ones_like(mat)"
   ]
  },
  {
   "cell_type": "code",
   "execution_count": 77,
   "id": "074aa64e",
   "metadata": {},
   "outputs": [
    {
     "data": {
      "text/plain": [
       "array([[0., 0., 0., 0., 0.],\n",
       "       [0., 0., 0., 0., 0.],\n",
       "       [0., 0., 0., 0., 0.],\n",
       "       [0., 0., 0., 0., 0.]])"
      ]
     },
     "execution_count": 77,
     "metadata": {},
     "output_type": "execute_result"
    }
   ],
   "source": [
    "np.zeros_like(mat)"
   ]
  },
  {
   "cell_type": "code",
   "execution_count": null,
   "id": "84d98be3",
   "metadata": {},
   "outputs": [],
   "source": []
  }
 ],
 "metadata": {
  "kernelspec": {
   "display_name": "Python 3 (ipykernel)",
   "language": "python",
   "name": "python3"
  },
  "language_info": {
   "codemirror_mode": {
    "name": "ipython",
    "version": 3
   },
   "file_extension": ".py",
   "mimetype": "text/x-python",
   "name": "python",
   "nbconvert_exporter": "python",
   "pygments_lexer": "ipython3",
   "version": "3.10.9"
  }
 },
 "nbformat": 4,
 "nbformat_minor": 5
}
