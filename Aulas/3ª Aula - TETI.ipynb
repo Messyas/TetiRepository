{
 "cells": [
  {
   "cell_type": "markdown",
   "id": "4a453b6a",
   "metadata": {},
   "source": [
    "3ª Aula - Revisão"
   ]
  },
  {
   "cell_type": "code",
   "execution_count": null,
   "id": "43710486",
   "metadata": {},
   "outputs": [],
   "source": [
    "v_txt = 'ABCDEFGHIJKLMNOPQRSTUVWXYZ'"
   ]
  },
  {
   "cell_type": "code",
   "execution_count": null,
   "id": "8a714acc",
   "metadata": {},
   "outputs": [],
   "source": [
    "for letra in v_txt:\n",
    "    print(letra)"
   ]
  },
  {
   "cell_type": "code",
   "execution_count": null,
   "id": "154126bc",
   "metadata": {},
   "outputs": [],
   "source": [
    "v_n1 = int(input('Entre com o 1º número: '))\n",
    "v_n2 = int(input('Entre com o 2º número: '))\n",
    "v_n3 = int(input('Entre com o 3º número: '))\n",
    "\n",
    "if(v_n1 > v_n2 > v_n3):\n",
    "    print('1º Caso - (v_n1): ', v_n1, '>', '(v_n2): ', v_n2, '>', '(v_n3): ',v_n3)\n",
    "elif(v_n2 > v_n1 > v_n3):\n",
    "    print('2º Caso - (v_n2): ', v_n2, '>', '(v_n1): ', v_n1, '>', '(v_n3): ',v_n3)\n",
    "elif(v_n2 > v_n3 > v_n1):\n",
    "    print('3º Caso - (v_n2): ', v_n2, '>', '(v_n3): ', v_n3, '>', '(v_n1): ',v_n1)\n",
    "elif(v_n1 > v_n3 > v_n2):\n",
    "    print('4º Caso - (v_n1): ', v_n1, '>', '(v_n3): ', v_n3, '>', '(v_n2): ',v_n2)\n",
    "elif(v_n3 > v_n1 > v_n2):\n",
    "    print('5º Caso - (v_n3): ', v_n3, '>', '(v_n1): ', v_n1, '>', '(v_n2): ',v_n2)\n",
    "elif(v_n3 > v_n2 > v_n1):\n",
    "    print('6º - Caso (v_n3): ', v_n3, '>', '(v_n2): ', v_n2, '>', '(v_n1): ',v_n1)"
   ]
  },
  {
   "cell_type": "code",
   "execution_count": null,
   "id": "9d7c0c47",
   "metadata": {},
   "outputs": [],
   "source": [
    "v_text = input('Entre com o texto: ')\n",
    "v_resultado = ''\n",
    "for letra in v_text:\n",
    "    if letra not in 'AEIOUÃÕÁÉÍÓÚaeiouãõáéíóú':\n",
    "        v_resultado += letra\n",
    "        \n",
    "print(v_resultado)"
   ]
  },
  {
   "cell_type": "markdown",
   "id": "349b502b",
   "metadata": {},
   "source": [
    "3ª Aula - Prática"
   ]
  },
  {
   "cell_type": "code",
   "execution_count": null,
   "id": "a79b3791",
   "metadata": {},
   "outputs": [],
   "source": [
    "v_txt = 'INTRODUÇÃO AO PYTHON'"
   ]
  },
  {
   "cell_type": "code",
   "execution_count": null,
   "id": "4325e121",
   "metadata": {},
   "outputs": [],
   "source": [
    "v_txt[3:]"
   ]
  },
  {
   "cell_type": "code",
   "execution_count": null,
   "id": "e966819c",
   "metadata": {},
   "outputs": [],
   "source": [
    "v_txt[3:8]"
   ]
  },
  {
   "cell_type": "code",
   "execution_count": null,
   "id": "aa58f110",
   "metadata": {},
   "outputs": [],
   "source": [
    "v_txt[3::2]"
   ]
  },
  {
   "cell_type": "code",
   "execution_count": null,
   "id": "7cb2c43a",
   "metadata": {},
   "outputs": [],
   "source": [
    "v_txt[-3]"
   ]
  },
  {
   "cell_type": "code",
   "execution_count": null,
   "id": "0c38b22a",
   "metadata": {},
   "outputs": [],
   "source": [
    "v_lnum = [0,1,2,3,4,5,6,7,8,9,10]"
   ]
  },
  {
   "cell_type": "code",
   "execution_count": null,
   "id": "0ce5bcf5",
   "metadata": {},
   "outputs": [],
   "source": [
    "type(v_lnum)"
   ]
  },
  {
   "cell_type": "code",
   "execution_count": null,
   "id": "662c5a25",
   "metadata": {},
   "outputs": [],
   "source": [
    "v_lnum[4:7]"
   ]
  },
  {
   "cell_type": "markdown",
   "id": "2da3d230",
   "metadata": {},
   "source": [
    "3ª Aula - Exercício"
   ]
  },
  {
   "cell_type": "code",
   "execution_count": null,
   "id": "e17e567f",
   "metadata": {},
   "outputs": [],
   "source": [
    "v_ldias = ['Segunda', 'Terça']"
   ]
  },
  {
   "cell_type": "code",
   "execution_count": null,
   "id": "0e9652be",
   "metadata": {},
   "outputs": [],
   "source": [
    "v_ldias += ['Quarta']"
   ]
  },
  {
   "cell_type": "code",
   "execution_count": null,
   "id": "cc416138",
   "metadata": {},
   "outputs": [],
   "source": [
    "v_ldias"
   ]
  },
  {
   "cell_type": "code",
   "execution_count": null,
   "id": "ac9c85f1",
   "metadata": {},
   "outputs": [],
   "source": [
    "v_ldias += 'Quarta'"
   ]
  },
  {
   "cell_type": "code",
   "execution_count": null,
   "id": "27beac7e",
   "metadata": {},
   "outputs": [],
   "source": [
    "v_ldias.remove('Q')"
   ]
  },
  {
   "cell_type": "code",
   "execution_count": null,
   "id": "ef4e1cf5",
   "metadata": {},
   "outputs": [],
   "source": [
    "v_ldias"
   ]
  },
  {
   "cell_type": "code",
   "execution_count": null,
   "id": "74973981",
   "metadata": {},
   "outputs": [],
   "source": [
    "for letra in v_ldias:\n",
    "    if letra in 'artu':\n",
    "        v_ldias.remove(letra)\n",
    "        \n",
    "print(v_ldias)"
   ]
  },
  {
   "cell_type": "markdown",
   "id": "f0d03d8c",
   "metadata": {},
   "source": [
    "3ª Aula - Continuação"
   ]
  },
  {
   "cell_type": "code",
   "execution_count": null,
   "id": "81a4ea7e",
   "metadata": {},
   "outputs": [],
   "source": [
    "v_txt = 'INTRODUÇÃO AO PYTHON'"
   ]
  },
  {
   "cell_type": "code",
   "execution_count": null,
   "id": "07a880ff",
   "metadata": {},
   "outputs": [],
   "source": [
    "v_txt.split()"
   ]
  },
  {
   "cell_type": "code",
   "execution_count": null,
   "id": "4d14df44",
   "metadata": {},
   "outputs": [],
   "source": [
    "v_txt.split('O')"
   ]
  },
  {
   "cell_type": "code",
   "execution_count": null,
   "id": "56a902d6",
   "metadata": {},
   "outputs": [],
   "source": [
    "print('Digite números inteiros, e ENTER após cada umm ou \\\n",
    "somente ENTER para finalizar')\n",
    "v_total = 0\n",
    "v_cont = 0\n",
    "while True:\n",
    "    v_linha = input('Número: ')\n",
    "    if v_linha:\n",
    "        try:\n",
    "            v_numero = int(v_linha)\n",
    "        except ValueError as err:\n",
    "            print(err)\n",
    "            continue\n",
    "        v_total += v_numero\n",
    "        v_cont += 1\n",
    "    else:\n",
    "        break\n",
    "if v_cont:\n",
    "    print('Quantidade de números = ', v_cont, \\\n",
    "         'Soma dos números = ', v_total, 'Média = ', v_total/v_cont)"
   ]
  },
  {
   "cell_type": "code",
   "execution_count": null,
   "id": "1da13213",
   "metadata": {},
   "outputs": [],
   "source": [
    "print('Digite números inteiros, e ENTER após cada umm ou \\\n",
    "somente ENTER para finalizar')\n",
    "v_total = 0\n",
    "v_cont = 0\n",
    "while True:\n",
    "    v_linha = input('Número: ')\n",
    "    if v_linha:\n",
    "        try:\n",
    "            v_numero = int(v_linha)\n",
    "        except ValueError as err:\n",
    "            print(err)\n",
    "            break\n",
    "        v_total += v_numero\n",
    "        v_cont += 1\n",
    "    else:\n",
    "        break\n",
    "if v_cont:\n",
    "    print('Quantidade de números = ', v_cont, \\\n",
    "         'Soma dos números = ', v_total, 'Média = ', v_total/v_cont)"
   ]
  },
  {
   "cell_type": "markdown",
   "id": "425c389e",
   "metadata": {},
   "source": [
    "3ª Aula - Continuação"
   ]
  },
  {
   "cell_type": "code",
   "execution_count": 1,
   "id": "fba14a6e",
   "metadata": {},
   "outputs": [],
   "source": [
    "v_tupla = 'a', 'b', 'c'"
   ]
  },
  {
   "cell_type": "code",
   "execution_count": 2,
   "id": "0a709261",
   "metadata": {},
   "outputs": [
    {
     "data": {
      "text/plain": [
       "tuple"
      ]
     },
     "execution_count": 2,
     "metadata": {},
     "output_type": "execute_result"
    }
   ],
   "source": [
    "type(v_tupla)"
   ]
  },
  {
   "cell_type": "code",
   "execution_count": 3,
   "id": "0ce651f6",
   "metadata": {},
   "outputs": [],
   "source": [
    "v_ex1 = 'Froid', '29', '(11)xxxxx-xxxx'"
   ]
  },
  {
   "cell_type": "code",
   "execution_count": 4,
   "id": "90d31122",
   "metadata": {},
   "outputs": [
    {
     "data": {
      "text/plain": [
       "tuple"
      ]
     },
     "execution_count": 4,
     "metadata": {},
     "output_type": "execute_result"
    }
   ],
   "source": [
    "type(v_ex1)"
   ]
  },
  {
   "cell_type": "code",
   "execution_count": 5,
   "id": "391cc98c",
   "metadata": {},
   "outputs": [],
   "source": [
    "v_nome, v_idade, v_fone = v_ex1"
   ]
  },
  {
   "cell_type": "code",
   "execution_count": 6,
   "id": "6975befb",
   "metadata": {},
   "outputs": [
    {
     "data": {
      "text/plain": [
       "'Froid'"
      ]
     },
     "execution_count": 6,
     "metadata": {},
     "output_type": "execute_result"
    }
   ],
   "source": [
    "v_nome"
   ]
  },
  {
   "cell_type": "code",
   "execution_count": 7,
   "id": "182332d5",
   "metadata": {},
   "outputs": [
    {
     "data": {
      "text/plain": [
       "'29'"
      ]
     },
     "execution_count": 7,
     "metadata": {},
     "output_type": "execute_result"
    }
   ],
   "source": [
    "v_idade"
   ]
  },
  {
   "cell_type": "code",
   "execution_count": 8,
   "id": "66fe4a09",
   "metadata": {},
   "outputs": [
    {
     "data": {
      "text/plain": [
       "'(11)xxxxx-xxxx'"
      ]
     },
     "execution_count": 8,
     "metadata": {},
     "output_type": "execute_result"
    }
   ],
   "source": [
    "v_fone"
   ]
  },
  {
   "cell_type": "code",
   "execution_count": 9,
   "id": "aa29d197",
   "metadata": {},
   "outputs": [
    {
     "data": {
      "text/plain": [
       "str"
      ]
     },
     "execution_count": 9,
     "metadata": {},
     "output_type": "execute_result"
    }
   ],
   "source": [
    "type(v_nome)"
   ]
  },
  {
   "cell_type": "code",
   "execution_count": 10,
   "id": "32a6ba4e",
   "metadata": {},
   "outputs": [
    {
     "data": {
      "text/plain": [
       "str"
      ]
     },
     "execution_count": 10,
     "metadata": {},
     "output_type": "execute_result"
    }
   ],
   "source": [
    "type(v_idade)"
   ]
  },
  {
   "cell_type": "code",
   "execution_count": 11,
   "id": "4f73c7ff",
   "metadata": {},
   "outputs": [
    {
     "data": {
      "text/plain": [
       "str"
      ]
     },
     "execution_count": 11,
     "metadata": {},
     "output_type": "execute_result"
    }
   ],
   "source": [
    "type(v_fone)"
   ]
  },
  {
   "cell_type": "code",
   "execution_count": 13,
   "id": "0697cc6b",
   "metadata": {},
   "outputs": [],
   "source": [
    "v_l_meses_num = [ 1, 2, 3, 4, 5, 6, 7, 8, 9, 10, 11, 12]"
   ]
  },
  {
   "cell_type": "code",
   "execution_count": 14,
   "id": "ad1b921c",
   "metadata": {},
   "outputs": [],
   "source": [
    "v_primeiro, *v_resto = v_l_meses_num"
   ]
  },
  {
   "cell_type": "code",
   "execution_count": 15,
   "id": "2acced5e",
   "metadata": {},
   "outputs": [
    {
     "data": {
      "text/plain": [
       "(1, [2, 3, 4, 5, 6, 7, 8, 9, 10, 11, 12])"
      ]
     },
     "execution_count": 15,
     "metadata": {},
     "output_type": "execute_result"
    }
   ],
   "source": [
    "v_primeiro, v_resto"
   ]
  },
  {
   "cell_type": "code",
   "execution_count": 16,
   "id": "2f704ffc",
   "metadata": {},
   "outputs": [],
   "source": [
    "v1, v2, v3, v4, *v_vresto = v_l_meses_num"
   ]
  },
  {
   "cell_type": "code",
   "execution_count": 18,
   "id": "88599eed",
   "metadata": {},
   "outputs": [
    {
     "data": {
      "text/plain": [
       "(4, 3, 2, 1)"
      ]
     },
     "execution_count": 18,
     "metadata": {},
     "output_type": "execute_result"
    }
   ],
   "source": [
    "v4 ,v3, v2, v1"
   ]
  },
  {
   "cell_type": "code",
   "execution_count": 19,
   "id": "caef0e55",
   "metadata": {},
   "outputs": [],
   "source": [
    "v_lista0 = [a + 1 for a in range(10)]"
   ]
  },
  {
   "cell_type": "code",
   "execution_count": 20,
   "id": "9678b115",
   "metadata": {},
   "outputs": [
    {
     "data": {
      "text/plain": [
       "[1, 2, 3, 4, 5, 6, 7, 8, 9, 10]"
      ]
     },
     "execution_count": 20,
     "metadata": {},
     "output_type": "execute_result"
    }
   ],
   "source": [
    "v_lista0"
   ]
  },
  {
   "cell_type": "code",
   "execution_count": 22,
   "id": "b7c047b6",
   "metadata": {},
   "outputs": [
    {
     "data": {
      "text/plain": [
       "[0, 2, 4, 6, 8]"
      ]
     },
     "execution_count": 22,
     "metadata": {},
     "output_type": "execute_result"
    }
   ],
   "source": [
    "v_pares = []\n",
    "for v_i in range(10):\n",
    "    if v_i % 2 == 0:\n",
    "        v_pares.append(v_i)\n",
    "\n",
    "v_pares"
   ]
  },
  {
   "cell_type": "code",
   "execution_count": 21,
   "id": "44ccabe5",
   "metadata": {},
   "outputs": [
    {
     "data": {
      "text/plain": [
       "[0, 2, 4, 6, 8]"
      ]
     },
     "execution_count": 21,
     "metadata": {},
     "output_type": "execute_result"
    }
   ],
   "source": [
    "[v_i for v_i in range(10) if v_i % 2 == 0]"
   ]
  }
 ],
 "metadata": {
  "kernelspec": {
   "display_name": "Python 3 (ipykernel)",
   "language": "python",
   "name": "python3"
  },
  "language_info": {
   "codemirror_mode": {
    "name": "ipython",
    "version": 3
   },
   "file_extension": ".py",
   "mimetype": "text/x-python",
   "name": "python",
   "nbconvert_exporter": "python",
   "pygments_lexer": "ipython3",
   "version": "3.10.9"
  }
 },
 "nbformat": 4,
 "nbformat_minor": 5
}
