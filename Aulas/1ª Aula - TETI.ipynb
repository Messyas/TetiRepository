{
 "cells": [
  {
   "cell_type": "code",
   "execution_count": 1,
   "id": "1f4158e8",
   "metadata": {},
   "outputs": [
    {
     "name": "stdout",
     "output_type": "stream",
     "text": [
      "TESTE\n"
     ]
    }
   ],
   "source": [
    "print('TESTE')"
   ]
  },
  {
   "cell_type": "code",
   "execution_count": 2,
   "id": "d5847dbc",
   "metadata": {},
   "outputs": [],
   "source": [
    "V1 = 10"
   ]
  },
  {
   "cell_type": "code",
   "execution_count": 3,
   "id": "14a725af",
   "metadata": {},
   "outputs": [],
   "source": [
    "V2 = -35"
   ]
  },
  {
   "cell_type": "code",
   "execution_count": 4,
   "id": "b0d6337d",
   "metadata": {},
   "outputs": [
    {
     "data": {
      "text/plain": [
       "-25"
      ]
     },
     "execution_count": 4,
     "metadata": {},
     "output_type": "execute_result"
    }
   ],
   "source": [
    "V1 + V2"
   ]
  },
  {
   "cell_type": "markdown",
   "id": "9c7dee9c",
   "metadata": {},
   "source": [
    "Cálculo da Variável V3"
   ]
  },
  {
   "cell_type": "code",
   "execution_count": 5,
   "id": "db41af85",
   "metadata": {},
   "outputs": [],
   "source": [
    "#Comentário de Linha do Python\n",
    "V3 = V2 - V1"
   ]
  },
  {
   "cell_type": "code",
   "execution_count": 6,
   "id": "5423a68d",
   "metadata": {
    "scrolled": true
   },
   "outputs": [
    {
     "name": "stdout",
     "output_type": "stream",
     "text": [
      "-45\n"
     ]
    }
   ],
   "source": [
    "print(V3)"
   ]
  },
  {
   "cell_type": "code",
   "execution_count": 13,
   "id": "079d55e0",
   "metadata": {},
   "outputs": [
    {
     "name": "stdout",
     "output_type": "stream",
     "text": [
      "Digite o Valor de A: 1000\n"
     ]
    }
   ],
   "source": [
    "V4 = int(input('Digite o Valor de A: '))"
   ]
  },
  {
   "cell_type": "code",
   "execution_count": 14,
   "id": "473318ff",
   "metadata": {},
   "outputs": [
    {
     "data": {
      "text/plain": [
       "1000"
      ]
     },
     "execution_count": 14,
     "metadata": {},
     "output_type": "execute_result"
    }
   ],
   "source": [
    "V4"
   ]
  },
  {
   "cell_type": "code",
   "execution_count": 15,
   "id": "74005eca",
   "metadata": {},
   "outputs": [
    {
     "data": {
      "text/plain": [
       "int"
      ]
     },
     "execution_count": 15,
     "metadata": {},
     "output_type": "execute_result"
    }
   ],
   "source": [
    "type(V4)"
   ]
  },
  {
   "cell_type": "code",
   "execution_count": 12,
   "id": "1c2a0d33",
   "metadata": {},
   "outputs": [
    {
     "data": {
      "text/plain": [
       "1010"
      ]
     },
     "execution_count": 12,
     "metadata": {},
     "output_type": "execute_result"
    }
   ],
   "source": [
    "int(V4) + V1"
   ]
  },
  {
   "cell_type": "code",
   "execution_count": 1,
   "id": "b5061662",
   "metadata": {},
   "outputs": [
    {
     "data": {
      "text/plain": [
       "46"
      ]
     },
     "execution_count": 1,
     "metadata": {},
     "output_type": "execute_result"
    }
   ],
   "source": [
    "20 + 26"
   ]
  },
  {
   "cell_type": "code",
   "execution_count": 9,
   "id": "836b2848",
   "metadata": {},
   "outputs": [
    {
     "name": "stdout",
     "output_type": "stream",
     "text": [
      "Saídas: \n",
      "Soma: 3 \n",
      "Subtração: -1 \n",
      "Multiplicação: 30 \n",
      "Exponenciação: 32\n"
     ]
    }
   ],
   "source": [
    "print('Saídas:', '\\nSoma:',1 + 2,\n",
    "      '\\nSubtração:',3 - 4,\n",
    "      '\\nMultiplicação:',5 * 6, \n",
    "      '\\nExponenciação:',2 ** 5) "
   ]
  },
  {
   "cell_type": "code",
   "execution_count": 16,
   "id": "0d30b1b6",
   "metadata": {},
   "outputs": [],
   "source": [
    "A, B, C = 10, 5, 'Teste'"
   ]
  },
  {
   "cell_type": "code",
   "execution_count": 17,
   "id": "d199fbb9",
   "metadata": {},
   "outputs": [
    {
     "name": "stdout",
     "output_type": "stream",
     "text": [
      "10 5 Teste\n"
     ]
    }
   ],
   "source": [
    "print(A, B, C)"
   ]
  },
  {
   "cell_type": "code",
   "execution_count": 18,
   "id": "2ba65f56",
   "metadata": {},
   "outputs": [
    {
     "data": {
      "text/plain": [
       "(10, 5, 'Teste')"
      ]
     },
     "execution_count": 18,
     "metadata": {},
     "output_type": "execute_result"
    }
   ],
   "source": [
    "A, B, C"
   ]
  },
  {
   "cell_type": "code",
   "execution_count": 14,
   "id": "d3557870",
   "metadata": {},
   "outputs": [
    {
     "name": "stdout",
     "output_type": "stream",
     "text": [
      "Valor de x:  1  Valor de s:  0\n",
      "Valor de x:  2  Valor de s:  1\n",
      "Valor de x:  3  Valor de s:  3\n",
      "Valor de x:  4  Valor de s:  6\n",
      "Valor de x:  5  Valor de s:  10\n",
      "Valor de x:  6  Valor de s:  15\n",
      "Valor de x:  7  Valor de s:  21\n",
      "Valor de x:  8  Valor de s:  28\n",
      "Valor de x:  9  Valor de s:  36\n",
      "Valor de x:  10  Valor de s:  45\n",
      "Valor de x:  11  Valor de s:  55\n",
      "Valor de x:  12  Valor de s:  66\n",
      "Valor de x:  13  Valor de s:  78\n",
      "Valor de x:  14  Valor de s:  91\n",
      "Valor de x:  15  Valor de s:  105\n",
      "Valor de x:  16  Valor de s:  120\n",
      "Valor de x:  17  Valor de s:  136\n",
      "Valor de x:  18  Valor de s:  153\n",
      "Valor de x:  19  Valor de s:  171\n",
      "Valor de x:  20  Valor de s:  190\n",
      "Valor de x:  21  Valor de s:  210\n",
      "Valor de x:  22  Valor de s:  231\n",
      "Valor de x:  23  Valor de s:  253\n",
      "Valor de x:  24  Valor de s:  276\n",
      "Valor de x:  25  Valor de s:  300\n",
      "\n",
      "Fim de Execução...\n"
     ]
    }
   ],
   "source": [
    "x = 0\n",
    "s = 0\n",
    "while x < 25:\n",
    "    s = s + x\n",
    "    x = x + 1\n",
    "    print('Valor de x: ', x, ' Valor de s: ', s)\n",
    "\n",
    "print('\\nFim de Execução...')"
   ]
  },
  {
   "cell_type": "code",
   "execution_count": null,
   "id": "ba605cf8",
   "metadata": {},
   "outputs": [],
   "source": []
  }
 ],
 "metadata": {
  "kernelspec": {
   "display_name": "Python 3 (ipykernel)",
   "language": "python",
   "name": "python3"
  },
  "language_info": {
   "codemirror_mode": {
    "name": "ipython",
    "version": 3
   },
   "file_extension": ".py",
   "mimetype": "text/x-python",
   "name": "python",
   "nbconvert_exporter": "python",
   "pygments_lexer": "ipython3",
   "version": "3.9.13"
  }
 },
 "nbformat": 4,
 "nbformat_minor": 5
}
