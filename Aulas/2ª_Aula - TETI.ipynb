{
 "cells": [
  {
   "cell_type": "markdown",
   "id": "49a02d16",
   "metadata": {},
   "source": [
    "Resumo da Aula 1"
   ]
  },
  {
   "cell_type": "code",
   "execution_count": null,
   "id": "3131a816",
   "metadata": {},
   "outputs": [],
   "source": [
    "print('Hello World')"
   ]
  },
  {
   "cell_type": "code",
   "execution_count": null,
   "id": "fb4dc515",
   "metadata": {},
   "outputs": [],
   "source": [
    "v1 = 10"
   ]
  },
  {
   "cell_type": "code",
   "execution_count": null,
   "id": "22291b05",
   "metadata": {},
   "outputs": [],
   "source": [
    "v2 = -25"
   ]
  },
  {
   "cell_type": "code",
   "execution_count": null,
   "id": "5722759d",
   "metadata": {},
   "outputs": [],
   "source": [
    "v1 + v2"
   ]
  },
  {
   "cell_type": "code",
   "execution_count": null,
   "id": "e13070ea",
   "metadata": {},
   "outputs": [],
   "source": [
    "print('A soma é:', v1+v2)"
   ]
  },
  {
   "cell_type": "code",
   "execution_count": null,
   "id": "97f2512a",
   "metadata": {},
   "outputs": [],
   "source": [
    "conda list"
   ]
  },
  {
   "cell_type": "markdown",
   "id": "ee2f2534",
   "metadata": {},
   "source": [
    "2ª Aula - Prática"
   ]
  },
  {
   "cell_type": "code",
   "execution_count": null,
   "id": "e0821ba1",
   "metadata": {
    "scrolled": true
   },
   "outputs": [],
   "source": [
    "v_n1 = int(input('Entre com o primeiro num: '))\n",
    "v_n2 = int(input('\\nEntre com o segundo num: '))\n",
    "v_total = v_n1 + v_n2\n",
    "print('\\n', v_total)\n",
    "\n",
    "if(v_total % 2) == 0:\n",
    "    print('\\nNúmero par.')\n",
    "else:\n",
    "    print('\\nNúmero ímpar.')"
   ]
  },
  {
   "cell_type": "code",
   "execution_count": null,
   "id": "d9964747",
   "metadata": {},
   "outputs": [],
   "source": [
    "type(v_n1)"
   ]
  },
  {
   "cell_type": "code",
   "execution_count": null,
   "id": "7c10df26",
   "metadata": {},
   "outputs": [],
   "source": [
    "v_peso = float(input('Digite seu peso: '))\n",
    "v_altura = float(input('\\nDigite sua altura: '))\n",
    "v_imc = v_peso / (v_altura ** 2)\n",
    "print('\\nSeu IMC é: ', v_imc)\n",
    "\n",
    "if (v_imc < 18.5):\n",
    "    print('\\nAbaixo do Peso')\n",
    "elif v_imc >= 18.5 and v_imc <= 24.9:\n",
    "    print('\\nPeso Normal')\n",
    "elif v_imc >= 24.9 and v_imc <= 29.9:\n",
    "    print('\\nSobrepeso')\n",
    "elif v_imc >= 30 and v_imc <= 34.9:\n",
    "    print('\\nObesidade grau I')\n",
    "elif v_imc >= 35 and v_imc <= 39.9:\n",
    "    print('\\nObesidade grau II')\n",
    "elif v_imc >= 40:\n",
    "    print('\\nObesidade grau III ou mórbida')"
   ]
  },
  {
   "cell_type": "markdown",
   "id": "df3dd500",
   "metadata": {},
   "source": [
    "2ª Aula - Estrutura de Repetição"
   ]
  },
  {
   "cell_type": "code",
   "execution_count": null,
   "id": "fcb0ea58",
   "metadata": {},
   "outputs": [],
   "source": [
    "v_10 = int(input('Informe quantos números '))\n",
    "v_cont = 1\n",
    "\n",
    "while (v_cont <= v_10):\n",
    "        print(v_cont)\n",
    "        v_cont += 1"
   ]
  },
  {
   "cell_type": "code",
   "execution_count": null,
   "id": "e2516bc7",
   "metadata": {},
   "outputs": [],
   "source": [
    "v_10 = int(input('Informe quantos números '))\n",
    "v_cont = 1\n",
    "\n",
    "while (v_cont <= v_10):\n",
    "    if(v_cont % 2 == 0):\n",
    "        print(v_cont)\n",
    "    v_cont += 1"
   ]
  },
  {
   "cell_type": "code",
   "execution_count": null,
   "id": "ea7a9afa",
   "metadata": {},
   "outputs": [],
   "source": [
    "v_10 = int(input('Informe quantos números '))\n",
    "v_cont = 1\n",
    "\n",
    "while (v_cont <= v_10):\n",
    "    if(v_cont % 2 == 0):\n",
    "        print('\\nNúmero par ', v_cont)\n",
    "    else:\n",
    "        print('\\nNúmero ímpar ', v_cont)\n",
    "    v_cont += 1"
   ]
  },
  {
   "cell_type": "markdown",
   "id": "d8dad4e8",
   "metadata": {},
   "source": [
    "2ª Aula - Explorando Funcionalidades"
   ]
  },
  {
   "cell_type": "code",
   "execution_count": null,
   "id": "968978ab",
   "metadata": {},
   "outputs": [],
   "source": [
    "v_nome = 'Adalberto'"
   ]
  },
  {
   "cell_type": "code",
   "execution_count": null,
   "id": "ecad8f0f",
   "metadata": {},
   "outputs": [],
   "source": [
    "v_nome + ' Silva'"
   ]
  },
  {
   "cell_type": "code",
   "execution_count": null,
   "id": "282da5aa",
   "metadata": {},
   "outputs": [],
   "source": [
    "v_nome"
   ]
  },
  {
   "cell_type": "code",
   "execution_count": null,
   "id": "5083ba1b",
   "metadata": {},
   "outputs": [],
   "source": [
    "v_nome += ' Silva'"
   ]
  },
  {
   "cell_type": "code",
   "execution_count": null,
   "id": "043ac083",
   "metadata": {},
   "outputs": [],
   "source": [
    "v_nome"
   ]
  },
  {
   "cell_type": "code",
   "execution_count": null,
   "id": "05b239ee",
   "metadata": {},
   "outputs": [],
   "source": [
    "v_meses = ['JAN', 'FEV']"
   ]
  },
  {
   "cell_type": "code",
   "execution_count": null,
   "id": "33e4b236",
   "metadata": {},
   "outputs": [],
   "source": [
    "v_meses"
   ]
  },
  {
   "cell_type": "code",
   "execution_count": null,
   "id": "258995d4",
   "metadata": {},
   "outputs": [],
   "source": [
    "type(v_meses)"
   ]
  },
  {
   "cell_type": "code",
   "execution_count": null,
   "id": "f51d229c",
   "metadata": {},
   "outputs": [],
   "source": [
    "v_meses += ['MAR']\n",
    "##################\n",
    "v_meses += 'M'\n"
   ]
  },
  {
   "cell_type": "code",
   "execution_count": null,
   "id": "a773f629",
   "metadata": {},
   "outputs": [],
   "source": [
    "v_meses"
   ]
  },
  {
   "cell_type": "code",
   "execution_count": null,
   "id": "f2d1a0f8",
   "metadata": {},
   "outputs": [],
   "source": [
    "v_meses.pop()"
   ]
  },
  {
   "cell_type": "code",
   "execution_count": null,
   "id": "b0cd8dea",
   "metadata": {},
   "outputs": [],
   "source": [
    "v_meses"
   ]
  },
  {
   "cell_type": "code",
   "execution_count": null,
   "id": "9fb813f4",
   "metadata": {},
   "outputs": [],
   "source": [
    "' - '.join(v_meses)"
   ]
  },
  {
   "cell_type": "code",
   "execution_count": null,
   "id": "415c474b",
   "metadata": {},
   "outputs": [],
   "source": [
    "' '.join(v_meses)"
   ]
  },
  {
   "cell_type": "code",
   "execution_count": null,
   "id": "e0fd54ba",
   "metadata": {},
   "outputs": [],
   "source": [
    "v_meses[0:3]"
   ]
  },
  {
   "cell_type": "code",
   "execution_count": null,
   "id": "1f14e516",
   "metadata": {},
   "outputs": [],
   "source": [
    "v_meses[::-1]"
   ]
  },
  {
   "cell_type": "code",
   "execution_count": null,
   "id": "c0bbb09f",
   "metadata": {},
   "outputs": [],
   "source": [
    "v_meses * 100"
   ]
  },
  {
   "cell_type": "code",
   "execution_count": null,
   "id": "a461e333",
   "metadata": {},
   "outputs": [],
   "source": [
    "len(v_meses)"
   ]
  },
  {
   "cell_type": "code",
   "execution_count": null,
   "id": "fd0e3d28",
   "metadata": {},
   "outputs": [],
   "source": [
    "v_texto = 'Tópicos Especiais em Tecnologia da Informação'"
   ]
  },
  {
   "cell_type": "code",
   "execution_count": null,
   "id": "94f7ec0b",
   "metadata": {},
   "outputs": [],
   "source": [
    "v_texto.partition('em')"
   ]
  },
  {
   "cell_type": "code",
   "execution_count": null,
   "id": "ec67fab5",
   "metadata": {},
   "outputs": [],
   "source": [
    "v_texto"
   ]
  },
  {
   "cell_type": "code",
   "execution_count": null,
   "id": "dd283b59",
   "metadata": {},
   "outputs": [],
   "source": [
    "v_texto.split()"
   ]
  },
  {
   "cell_type": "code",
   "execution_count": null,
   "id": "9a9c2d42",
   "metadata": {},
   "outputs": [],
   "source": [
    "len(v_texto)"
   ]
  },
  {
   "cell_type": "code",
   "execution_count": null,
   "id": "5415d261",
   "metadata": {},
   "outputs": [],
   "source": [
    "v_texto[0:30:2]"
   ]
  },
  {
   "cell_type": "code",
   "execution_count": null,
   "id": "7de93e2e",
   "metadata": {},
   "outputs": [],
   "source": [
    "v_texto[0:-10]"
   ]
  },
  {
   "cell_type": "code",
   "execution_count": null,
   "id": "3a04f09d",
   "metadata": {},
   "outputs": [],
   "source": [
    "v_texto[::-1]"
   ]
  },
  {
   "cell_type": "code",
   "execution_count": null,
   "id": "d7b12559",
   "metadata": {},
   "outputs": [],
   "source": [
    "v_x, v_y, v_z = (10, 20, 30)"
   ]
  },
  {
   "cell_type": "code",
   "execution_count": null,
   "id": "d77e8a79",
   "metadata": {},
   "outputs": [],
   "source": [
    "v_x, v_y, v_z"
   ]
  },
  {
   "cell_type": "code",
   "execution_count": null,
   "id": "cf81397d",
   "metadata": {},
   "outputs": [],
   "source": [
    "max(v_x, v_y, v_z)"
   ]
  },
  {
   "cell_type": "code",
   "execution_count": null,
   "id": "ba7ab626",
   "metadata": {},
   "outputs": [],
   "source": [
    "min(v_x, v_y, v_z)"
   ]
  },
  {
   "cell_type": "markdown",
   "id": "280c5717",
   "metadata": {},
   "source": [
    "2ª Aula - Math"
   ]
  },
  {
   "cell_type": "code",
   "execution_count": null,
   "id": "10a8b38a",
   "metadata": {},
   "outputs": [],
   "source": [
    "import math"
   ]
  },
  {
   "cell_type": "code",
   "execution_count": null,
   "id": "e5e9c5e9",
   "metadata": {},
   "outputs": [],
   "source": [
    "math.log(10)"
   ]
  },
  {
   "cell_type": "code",
   "execution_count": null,
   "id": "6adaadce",
   "metadata": {},
   "outputs": [],
   "source": [
    "math.log10(10)"
   ]
  },
  {
   "cell_type": "code",
   "execution_count": null,
   "id": "6aa72fbe",
   "metadata": {},
   "outputs": [],
   "source": [
    "math.pi * (3 ** 3)"
   ]
  },
  {
   "cell_type": "code",
   "execution_count": null,
   "id": "51d46d75",
   "metadata": {},
   "outputs": [],
   "source": [
    "math.sin(45)"
   ]
  },
  {
   "cell_type": "code",
   "execution_count": null,
   "id": "2cf1e21f",
   "metadata": {},
   "outputs": [],
   "source": [
    "math.cos(45)"
   ]
  },
  {
   "cell_type": "code",
   "execution_count": null,
   "id": "1eb0b08f",
   "metadata": {},
   "outputs": [],
   "source": [
    "math.factorial(15)"
   ]
  },
  {
   "cell_type": "code",
   "execution_count": null,
   "id": "fd4fc293",
   "metadata": {},
   "outputs": [],
   "source": [
    "math.sqrt(81)"
   ]
  },
  {
   "cell_type": "code",
   "execution_count": null,
   "id": "32b91525",
   "metadata": {},
   "outputs": [],
   "source": [
    "math.pow(9, 2)"
   ]
  },
  {
   "cell_type": "code",
   "execution_count": null,
   "id": "0c42f087",
   "metadata": {},
   "outputs": [],
   "source": []
  },
  {
   "cell_type": "code",
   "execution_count": null,
   "id": "0d99de0f",
   "metadata": {},
   "outputs": [],
   "source": [
    "v_meses"
   ]
  },
  {
   "cell_type": "code",
   "execution_count": null,
   "id": "700442be",
   "metadata": {},
   "outputs": [],
   "source": [
    "for item in v_meses:\n",
    "    print(item)"
   ]
  },
  {
   "cell_type": "code",
   "execution_count": null,
   "id": "cccdbe3b",
   "metadata": {},
   "outputs": [],
   "source": [
    "for letra in 'ABCDEFGHIJKLMNOPQRSTUVWXYZ':\n",
    "    if letra in 'AEIOU':\n",
    "        print(letra, 'é vogal')\n",
    "    else:\n",
    "        print(letra, 'é consoante')"
   ]
  },
  {
   "cell_type": "code",
   "execution_count": null,
   "id": "1913f9b7",
   "metadata": {},
   "outputs": [],
   "source": [
    "v_t1 = tuple('Tecnologia da Informação')"
   ]
  },
  {
   "cell_type": "code",
   "execution_count": null,
   "id": "9d00b0b2",
   "metadata": {},
   "outputs": [],
   "source": [
    "v_t1"
   ]
  },
  {
   "cell_type": "code",
   "execution_count": null,
   "id": "5ca531e1",
   "metadata": {},
   "outputs": [],
   "source": [
    "v_t1 = tuple(['Tecnologia da Informação'])"
   ]
  },
  {
   "cell_type": "code",
   "execution_count": null,
   "id": "4f4050ca",
   "metadata": {},
   "outputs": [],
   "source": [
    "v_t1"
   ]
  },
  {
   "cell_type": "code",
   "execution_count": 36,
   "id": "826ae637",
   "metadata": {},
   "outputs": [],
   "source": [
    "v_t2 = tuple(['Azul', [1,2,3,4], True, 4500])"
   ]
  },
  {
   "cell_type": "code",
   "execution_count": 37,
   "id": "747344bb",
   "metadata": {},
   "outputs": [
    {
     "data": {
      "text/plain": [
       "('Azul', [1, 2, 3, 4], True, 4500)"
      ]
     },
     "execution_count": 37,
     "metadata": {},
     "output_type": "execute_result"
    }
   ],
   "source": [
    "v_t2"
   ]
  },
  {
   "cell_type": "code",
   "execution_count": 38,
   "id": "2fcdb9c5",
   "metadata": {},
   "outputs": [
    {
     "data": {
      "text/plain": [
       "4500"
      ]
     },
     "execution_count": 38,
     "metadata": {},
     "output_type": "execute_result"
    }
   ],
   "source": [
    "v_t2[3]"
   ]
  },
  {
   "cell_type": "code",
   "execution_count": 39,
   "id": "ee9dc437",
   "metadata": {},
   "outputs": [],
   "source": [
    "v_t2[1].append(5)"
   ]
  },
  {
   "cell_type": "code",
   "execution_count": 40,
   "id": "691cb9b2",
   "metadata": {},
   "outputs": [
    {
     "data": {
      "text/plain": [
       "('Azul', [1, 2, 3, 4, 5], True, 4500)"
      ]
     },
     "execution_count": 40,
     "metadata": {},
     "output_type": "execute_result"
    }
   ],
   "source": [
    "v_t2"
   ]
  },
  {
   "cell_type": "code",
   "execution_count": 41,
   "id": "19f33742",
   "metadata": {},
   "outputs": [
    {
     "data": {
      "text/plain": [
       "([1, 2, 3, 4, 5],)"
      ]
     },
     "execution_count": 41,
     "metadata": {},
     "output_type": "execute_result"
    }
   ],
   "source": [
    "v_t2[1:2]"
   ]
  },
  {
   "cell_type": "code",
   "execution_count": 48,
   "id": "e62cbb38",
   "metadata": {},
   "outputs": [
    {
     "data": {
      "text/plain": [
       "(True,)"
      ]
     },
     "execution_count": 48,
     "metadata": {},
     "output_type": "execute_result"
    }
   ],
   "source": [
    "v_t2[1:3][1:]"
   ]
  },
  {
   "cell_type": "code",
   "execution_count": 49,
   "id": "1f1272a9",
   "metadata": {},
   "outputs": [],
   "source": [
    "t_cidades =  \"Alvaraes\", \"Amatura\",\"Anama\", \"Anori\", \"Apui\", \"Atalaia do Norte\", \"Autazes\", \"Barcelos\", \"Barreirinha\", \"Benjamin Constant\", \"Beruri\", \"Boa Vista do Ramos\", \"Boca do Acre\", \"Borba\", \"Caapiranga\", \"Canutama\", \"Carauari\", \"Careiro da Varzea\", \"Careiro\", \"Coari\", \"Codajas\", \"Eirunepe\", \"Envira\", \"Fonte Boa\", \"Guajara\", \"Humaita\", \"Ipixuna\", \"Iranduba\", \"Itacoatiara\", \"Itamarati\", \"Itapiranga\", \"Japura\", \"Jurua\", \"Jutai\", \"Labrea\", \"Manacapuru\", \"Manaquiri\", \"Manaus\", \"Manicore\", \"Maraa\", \"Maues\", \"Nhamunda\", \"Nova Olinda do Norte\", \"Novo Airao\", \"Novo Aripuana\", \"Parintins\", \"Pauini\", \"Presidente Figueiredo\", \"Rio Preto da Eva\", \"Santa Isabel do Rio Negro\", \"Santo Antonio do Ica\", \"Sao Gabriel da Cachoeira\", \"Sao Paulo de Olivenca\", \"Sao Sebastiao do Uatuma\", \"Silves\", \"Tabatinga\", \"Tapaua\", \"Tefe\", \"Tonantins\", \"Uarini\", \"Urucara\", \"Urucurituba\""
   ]
  },
  {
   "cell_type": "code",
   "execution_count": 50,
   "id": "9aaff2e8",
   "metadata": {},
   "outputs": [
    {
     "data": {
      "text/plain": [
       "tuple"
      ]
     },
     "execution_count": 50,
     "metadata": {},
     "output_type": "execute_result"
    }
   ],
   "source": [
    "type(t_cidades)"
   ]
  },
  {
   "cell_type": "code",
   "execution_count": 52,
   "id": "fe6fa207",
   "metadata": {},
   "outputs": [
    {
     "data": {
      "text/plain": [
       "1"
      ]
     },
     "execution_count": 52,
     "metadata": {},
     "output_type": "execute_result"
    }
   ],
   "source": [
    "t_cidades.count('Manaus')"
   ]
  },
  {
   "cell_type": "code",
   "execution_count": 53,
   "id": "f57a63a9",
   "metadata": {},
   "outputs": [
    {
     "data": {
      "text/plain": [
       "37"
      ]
     },
     "execution_count": 53,
     "metadata": {},
     "output_type": "execute_result"
    }
   ],
   "source": [
    "t_cidades.index('Manaus')"
   ]
  },
  {
   "cell_type": "code",
   "execution_count": 54,
   "id": "995bc7ec",
   "metadata": {},
   "outputs": [
    {
     "data": {
      "text/plain": [
       "'Alvaraes - Manaus'"
      ]
     },
     "execution_count": 54,
     "metadata": {},
     "output_type": "execute_result"
    }
   ],
   "source": [
    "t_cidades[0] + ' - ' + t_cidades[37]"
   ]
  },
  {
   "cell_type": "code",
   "execution_count": 55,
   "id": "9c8e05bd",
   "metadata": {},
   "outputs": [
    {
     "data": {
      "text/plain": [
       "'Urucurituba'"
      ]
     },
     "execution_count": 55,
     "metadata": {},
     "output_type": "execute_result"
    }
   ],
   "source": [
    "t_cidades[-1]"
   ]
  },
  {
   "cell_type": "code",
   "execution_count": 56,
   "id": "b1d0558c",
   "metadata": {},
   "outputs": [
    {
     "data": {
      "text/plain": [
       "('Amatura',\n",
       " 'Autazes',\n",
       " 'Boa Vista do Ramos',\n",
       " 'Carauari',\n",
       " 'Eirunepe',\n",
       " 'Ipixuna',\n",
       " 'Japura',\n",
       " 'Manaquiri',\n",
       " 'Nhamunda',\n",
       " 'Pauini',\n",
       " 'Sao Gabriel da Cachoeira',\n",
       " 'Tapaua',\n",
       " 'Urucurituba')"
      ]
     },
     "execution_count": 56,
     "metadata": {},
     "output_type": "execute_result"
    }
   ],
   "source": [
    "t_cidades[1::5]"
   ]
  },
  {
   "cell_type": "code",
   "execution_count": 57,
   "id": "1491ae32",
   "metadata": {},
   "outputs": [
    {
     "data": {
      "text/plain": [
       "('Urucurituba',\n",
       " 'Urucara',\n",
       " 'Uarini',\n",
       " 'Tonantins',\n",
       " 'Tefe',\n",
       " 'Tapaua',\n",
       " 'Tabatinga',\n",
       " 'Silves',\n",
       " 'Sao Sebastiao do Uatuma',\n",
       " 'Sao Paulo de Olivenca',\n",
       " 'Sao Gabriel da Cachoeira',\n",
       " 'Santo Antonio do Ica',\n",
       " 'Santa Isabel do Rio Negro',\n",
       " 'Rio Preto da Eva',\n",
       " 'Presidente Figueiredo',\n",
       " 'Pauini',\n",
       " 'Parintins',\n",
       " 'Novo Aripuana',\n",
       " 'Novo Airao',\n",
       " 'Nova Olinda do Norte',\n",
       " 'Nhamunda',\n",
       " 'Maues',\n",
       " 'Maraa',\n",
       " 'Manicore',\n",
       " 'Manaus',\n",
       " 'Manaquiri',\n",
       " 'Manacapuru',\n",
       " 'Labrea',\n",
       " 'Jutai',\n",
       " 'Jurua',\n",
       " 'Japura',\n",
       " 'Itapiranga',\n",
       " 'Itamarati',\n",
       " 'Itacoatiara',\n",
       " 'Iranduba',\n",
       " 'Ipixuna',\n",
       " 'Humaita',\n",
       " 'Guajara',\n",
       " 'Fonte Boa',\n",
       " 'Envira',\n",
       " 'Eirunepe',\n",
       " 'Codajas',\n",
       " 'Coari',\n",
       " 'Careiro',\n",
       " 'Careiro da Varzea',\n",
       " 'Carauari',\n",
       " 'Canutama',\n",
       " 'Caapiranga',\n",
       " 'Borba',\n",
       " 'Boca do Acre',\n",
       " 'Boa Vista do Ramos',\n",
       " 'Beruri',\n",
       " 'Benjamin Constant',\n",
       " 'Barreirinha',\n",
       " 'Barcelos',\n",
       " 'Autazes',\n",
       " 'Atalaia do Norte',\n",
       " 'Apui',\n",
       " 'Anori',\n",
       " 'Anama',\n",
       " 'Amatura',\n",
       " 'Alvaraes')"
      ]
     },
     "execution_count": 57,
     "metadata": {},
     "output_type": "execute_result"
    }
   ],
   "source": [
    "t_cidades[::-1]"
   ]
  },
  {
   "cell_type": "code",
   "execution_count": 60,
   "id": "4a8ddb93",
   "metadata": {},
   "outputs": [
    {
     "name": "stdout",
     "output_type": "stream",
     "text": [
      "0 Alvaraes\n",
      "1 Amatura\n",
      "2 Anama\n",
      "3 Anori\n",
      "4 Apui\n",
      "5 Atalaia do Norte\n",
      "6 Autazes\n",
      "7 Barcelos\n",
      "8 Barreirinha\n",
      "9 Benjamin Constant\n",
      "10 Beruri\n",
      "11 Boa Vista do Ramos\n",
      "12 Boca do Acre\n",
      "13 Borba\n",
      "14 Caapiranga\n",
      "15 Canutama\n",
      "16 Carauari\n",
      "17 Careiro da Varzea\n",
      "18 Careiro\n",
      "19 Coari\n",
      "20 Codajas\n",
      "21 Eirunepe\n",
      "22 Envira\n",
      "23 Fonte Boa\n",
      "24 Guajara\n",
      "25 Humaita\n",
      "26 Ipixuna\n",
      "27 Iranduba\n",
      "28 Itacoatiara\n",
      "29 Itamarati\n",
      "30 Itapiranga\n",
      "31 Japura\n",
      "32 Jurua\n",
      "33 Jutai\n",
      "34 Labrea\n",
      "35 Manacapuru\n",
      "36 Manaquiri\n",
      "37 Manaus\n",
      "38 Manicore\n",
      "39 Maraa\n",
      "40 Maues\n",
      "41 Nhamunda\n",
      "42 Nova Olinda do Norte\n",
      "43 Novo Airao\n",
      "44 Novo Aripuana\n",
      "45 Parintins\n",
      "46 Pauini\n",
      "47 Presidente Figueiredo\n",
      "48 Rio Preto da Eva\n",
      "49 Santa Isabel do Rio Negro\n",
      "50 Santo Antonio do Ica\n",
      "51 Sao Gabriel da Cachoeira\n",
      "52 Sao Paulo de Olivenca\n",
      "53 Sao Sebastiao do Uatuma\n",
      "54 Silves\n",
      "55 Tabatinga\n",
      "56 Tapaua\n",
      "57 Tefe\n",
      "58 Tonantins\n",
      "59 Uarini\n",
      "60 Urucara\n",
      "61 Urucurituba\n"
     ]
    }
   ],
   "source": [
    "cont = 0\n",
    "for cidade in t_cidades:\n",
    "    print(cont, cidade)\n",
    "    cont += 1"
   ]
  },
  {
   "cell_type": "code",
   "execution_count": 61,
   "id": "fcbe28f7",
   "metadata": {},
   "outputs": [],
   "source": [
    "t_coisas = (1, 1500.50, ('Notebook', (5, 'ABCD'), 'Estoque'))"
   ]
  },
  {
   "cell_type": "code",
   "execution_count": 62,
   "id": "f28be90a",
   "metadata": {},
   "outputs": [
    {
     "data": {
      "text/plain": [
       "(1, 1500.5, ('Notebook', (5, 'ABCD'), 'Estoque'))"
      ]
     },
     "execution_count": 62,
     "metadata": {},
     "output_type": "execute_result"
    }
   ],
   "source": [
    "t_coisas"
   ]
  },
  {
   "cell_type": "code",
   "execution_count": 63,
   "id": "1e8f61ec",
   "metadata": {},
   "outputs": [],
   "source": [
    "t_coisas = (1, 1500.50, ('Notebook', \\\n",
    "                         (5, 'ABCD'), \\\n",
    "                         'Estoque'))"
   ]
  },
  {
   "cell_type": "code",
   "execution_count": 64,
   "id": "ed9cae55",
   "metadata": {},
   "outputs": [
    {
     "data": {
      "text/plain": [
       "(1, 1500.5, ('Notebook', (5, 'ABCD'), 'Estoque'))"
      ]
     },
     "execution_count": 64,
     "metadata": {},
     "output_type": "execute_result"
    }
   ],
   "source": [
    "t_coisas"
   ]
  },
  {
   "cell_type": "code",
   "execution_count": 65,
   "id": "9d067467",
   "metadata": {},
   "outputs": [
    {
     "data": {
      "text/plain": [
       "('Notebook', (5, 'ABCD'), 'Estoque')"
      ]
     },
     "execution_count": 65,
     "metadata": {},
     "output_type": "execute_result"
    }
   ],
   "source": [
    "t_coisas[2]"
   ]
  },
  {
   "cell_type": "code",
   "execution_count": 66,
   "id": "d32f7bd9",
   "metadata": {},
   "outputs": [
    {
     "data": {
      "text/plain": [
       "(5, 'ABCD')"
      ]
     },
     "execution_count": 66,
     "metadata": {},
     "output_type": "execute_result"
    }
   ],
   "source": [
    "t_coisas[2][1]"
   ]
  },
  {
   "cell_type": "code",
   "execution_count": 67,
   "id": "e5946073",
   "metadata": {},
   "outputs": [
    {
     "data": {
      "text/plain": [
       "'ABCD'"
      ]
     },
     "execution_count": 67,
     "metadata": {},
     "output_type": "execute_result"
    }
   ],
   "source": [
    "t_coisas[2][1][1]"
   ]
  }
 ],
 "metadata": {
  "kernelspec": {
   "display_name": "Python 3 (ipykernel)",
   "language": "python",
   "name": "python3"
  },
  "language_info": {
   "codemirror_mode": {
    "name": "ipython",
    "version": 3
   },
   "file_extension": ".py",
   "mimetype": "text/x-python",
   "name": "python",
   "nbconvert_exporter": "python",
   "pygments_lexer": "ipython3",
   "version": "3.9.13"
  }
 },
 "nbformat": 4,
 "nbformat_minor": 5
}
