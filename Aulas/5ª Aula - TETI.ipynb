{
 "cells": [
  {
   "cell_type": "code",
   "execution_count": null,
   "id": "1db17f2e",
   "metadata": {},
   "outputs": [],
   "source": [
    "pwd"
   ]
  },
  {
   "cell_type": "code",
   "execution_count": null,
   "id": "f5b451df",
   "metadata": {},
   "outputs": [],
   "source": [
    "arq = open('arq_num.txt', 'w')\n",
    "for linha in range(1, 101):\n",
    "    arq.write('%d' % linha + ' - Número' + str(linha) + '\\n')\n",
    "arq.close()"
   ]
  },
  {
   "cell_type": "code",
   "execution_count": null,
   "id": "c12445a6",
   "metadata": {},
   "outputs": [],
   "source": [
    "print(arq)"
   ]
  },
  {
   "cell_type": "code",
   "execution_count": null,
   "id": "2f7b9191",
   "metadata": {},
   "outputs": [],
   "source": [
    "!dir"
   ]
  },
  {
   "cell_type": "code",
   "execution_count": null,
   "id": "6b2d1c45",
   "metadata": {},
   "outputs": [],
   "source": [
    "!type arq_num.txt"
   ]
  },
  {
   "cell_type": "code",
   "execution_count": null,
   "id": "68c4d213",
   "metadata": {},
   "outputs": [],
   "source": [
    "arq_leit = open('arq_num.txt', 'r')\n",
    "for linha in arq_leit.readlines():\n",
    "    print(linha)\n",
    "arq_leit.close()"
   ]
  },
  {
   "cell_type": "markdown",
   "id": "f8d54601",
   "metadata": {},
   "source": [
    "# 5ª Aula - TETI - Pandas "
   ]
  },
  {
   "cell_type": "code",
   "execution_count": null,
   "id": "91278c72",
   "metadata": {},
   "outputs": [],
   "source": [
    "conda list"
   ]
  },
  {
   "cell_type": "code",
   "execution_count": 1,
   "id": "d1c68cec",
   "metadata": {},
   "outputs": [],
   "source": [
    "import pandas as pd"
   ]
  },
  {
   "cell_type": "code",
   "execution_count": null,
   "id": "3ec60f0d",
   "metadata": {},
   "outputs": [],
   "source": [
    "pwd"
   ]
  },
  {
   "cell_type": "code",
   "execution_count": null,
   "id": "12f665b0",
   "metadata": {},
   "outputs": [],
   "source": [
    "path = 'C:/Users/Davi Souza/OneDrive/Documentos/Jupyter/Datasets/'"
   ]
  },
  {
   "cell_type": "code",
   "execution_count": null,
   "id": "57a80cc9",
   "metadata": {},
   "outputs": [],
   "source": [
    "df1 = pd.read_csv(path + 'municipios.csv')"
   ]
  },
  {
   "cell_type": "code",
   "execution_count": null,
   "id": "25d3248a",
   "metadata": {},
   "outputs": [],
   "source": [
    "df1.info()"
   ]
  },
  {
   "cell_type": "code",
   "execution_count": null,
   "id": "d91ac8a2",
   "metadata": {},
   "outputs": [],
   "source": [
    "df1.describe()"
   ]
  },
  {
   "cell_type": "code",
   "execution_count": null,
   "id": "d8a60aa7",
   "metadata": {},
   "outputs": [],
   "source": [
    "df1.head()"
   ]
  },
  {
   "cell_type": "code",
   "execution_count": null,
   "id": "72013ddc",
   "metadata": {},
   "outputs": [],
   "source": [
    "df1.tail()"
   ]
  },
  {
   "cell_type": "code",
   "execution_count": null,
   "id": "173b758f",
   "metadata": {},
   "outputs": [],
   "source": [
    "df1.head(30)"
   ]
  },
  {
   "cell_type": "code",
   "execution_count": null,
   "id": "582aae84",
   "metadata": {},
   "outputs": [],
   "source": [
    "df2 = pd.read_csv(path + 'municipios_2.csv')"
   ]
  },
  {
   "cell_type": "code",
   "execution_count": null,
   "id": "1a829112",
   "metadata": {},
   "outputs": [],
   "source": [
    "df2.info()"
   ]
  },
  {
   "cell_type": "code",
   "execution_count": null,
   "id": "122e2846",
   "metadata": {},
   "outputs": [],
   "source": [
    "df2.head()"
   ]
  },
  {
   "cell_type": "code",
   "execution_count": null,
   "id": "4d96cae7",
   "metadata": {},
   "outputs": [],
   "source": [
    "df2 = pd.read_csv(path + 'municipios_2.csv', sep = ';')"
   ]
  },
  {
   "cell_type": "code",
   "execution_count": null,
   "id": "662be8ef",
   "metadata": {},
   "outputs": [],
   "source": [
    "df2.info()"
   ]
  },
  {
   "cell_type": "code",
   "execution_count": null,
   "id": "cd52dfab",
   "metadata": {},
   "outputs": [],
   "source": [
    "df2.head()"
   ]
  },
  {
   "cell_type": "code",
   "execution_count": null,
   "id": "753d73be",
   "metadata": {},
   "outputs": [],
   "source": [
    "df1.shape"
   ]
  },
  {
   "cell_type": "code",
   "execution_count": null,
   "id": "58a3bc36",
   "metadata": {},
   "outputs": [],
   "source": [
    "v_linhas, v_colunas = df1.shape"
   ]
  },
  {
   "cell_type": "code",
   "execution_count": null,
   "id": "746cfdd8",
   "metadata": {},
   "outputs": [],
   "source": [
    "v_linhas"
   ]
  },
  {
   "cell_type": "code",
   "execution_count": null,
   "id": "db9fbe9f",
   "metadata": {},
   "outputs": [],
   "source": [
    "v_colunas"
   ]
  },
  {
   "cell_type": "code",
   "execution_count": null,
   "id": "ec3677a9",
   "metadata": {},
   "outputs": [],
   "source": [
    "df1.columns"
   ]
  },
  {
   "cell_type": "code",
   "execution_count": null,
   "id": "185f6359",
   "metadata": {},
   "outputs": [],
   "source": [
    "df1.dtypes"
   ]
  },
  {
   "cell_type": "code",
   "execution_count": null,
   "id": "07690dda",
   "metadata": {},
   "outputs": [],
   "source": [
    "df1['codigo_ibge'].describe()"
   ]
  },
  {
   "cell_type": "code",
   "execution_count": null,
   "id": "44cb26a4",
   "metadata": {},
   "outputs": [],
   "source": [
    "df1.query(\"nome == 'Manaus'\")"
   ]
  },
  {
   "cell_type": "code",
   "execution_count": null,
   "id": "a04b889f",
   "metadata": {},
   "outputs": [],
   "source": [
    "df1.query('codigo_uf == 13')"
   ]
  },
  {
   "cell_type": "code",
   "execution_count": null,
   "id": "2a5eda7b",
   "metadata": {},
   "outputs": [],
   "source": [
    "df1.query('codigo_uf == 13 and capital == 0')"
   ]
  },
  {
   "cell_type": "code",
   "execution_count": null,
   "id": "13ed7be4",
   "metadata": {},
   "outputs": [],
   "source": [
    "df1.query('capital == 1')"
   ]
  },
  {
   "cell_type": "markdown",
   "id": "7df8aeb5",
   "metadata": {},
   "source": [
    "# 5ª Aula - TETI - LOC E ILOC"
   ]
  },
  {
   "cell_type": "code",
   "execution_count": null,
   "id": "51e4987b",
   "metadata": {},
   "outputs": [],
   "source": [
    "df1.loc[0:10, ['nome', 'codigo_ibge']]"
   ]
  },
  {
   "cell_type": "code",
   "execution_count": null,
   "id": "3524dfab",
   "metadata": {},
   "outputs": [],
   "source": [
    "df1.loc[2500:2700]"
   ]
  },
  {
   "cell_type": "code",
   "execution_count": null,
   "id": "f385b261",
   "metadata": {},
   "outputs": [],
   "source": [
    "df1.loc[[2500, 2550, 2600, 2700]]"
   ]
  },
  {
   "cell_type": "code",
   "execution_count": null,
   "id": "23b72ddf",
   "metadata": {},
   "outputs": [],
   "source": [
    "df1_ = df1.set_index('nome')"
   ]
  },
  {
   "cell_type": "code",
   "execution_count": null,
   "id": "da7ab4c1",
   "metadata": {},
   "outputs": [],
   "source": [
    "df1_"
   ]
  },
  {
   "cell_type": "code",
   "execution_count": null,
   "id": "76882392",
   "metadata": {},
   "outputs": [],
   "source": [
    "df1_.loc['Manaus']"
   ]
  },
  {
   "cell_type": "code",
   "execution_count": null,
   "id": "ba756908",
   "metadata": {},
   "outputs": [],
   "source": [
    "df1_.loc[['Manaus', 'Parintins', 'Presidente Figueiredo']]"
   ]
  },
  {
   "cell_type": "code",
   "execution_count": null,
   "id": "8ddf53bf",
   "metadata": {},
   "outputs": [],
   "source": [
    "df1.loc[df1.latitude > 0]"
   ]
  },
  {
   "cell_type": "code",
   "execution_count": null,
   "id": "43f4e734",
   "metadata": {},
   "outputs": [],
   "source": [
    "df1.loc[df1.capital == 1]"
   ]
  },
  {
   "cell_type": "code",
   "execution_count": null,
   "id": "f9985d99",
   "metadata": {},
   "outputs": [],
   "source": [
    "df1.groupby(by = 'codigo_uf').size()"
   ]
  },
  {
   "cell_type": "code",
   "execution_count": null,
   "id": "e021ff1a",
   "metadata": {},
   "outputs": [],
   "source": [
    "df1.iloc[0]"
   ]
  },
  {
   "cell_type": "code",
   "execution_count": null,
   "id": "2791c325",
   "metadata": {},
   "outputs": [],
   "source": [
    "df1_.iloc[2885]"
   ]
  },
  {
   "cell_type": "code",
   "execution_count": null,
   "id": "13f72aaf",
   "metadata": {},
   "outputs": [],
   "source": [
    "df1.iloc[0:10, 0:2]"
   ]
  },
  {
   "cell_type": "markdown",
   "id": "c36ab329",
   "metadata": {},
   "source": [
    "# 5ª Aula - TETI - Histograma"
   ]
  },
  {
   "cell_type": "code",
   "execution_count": null,
   "id": "56412c09",
   "metadata": {},
   "outputs": [],
   "source": [
    "!pip install matplotlib"
   ]
  },
  {
   "cell_type": "code",
   "execution_count": null,
   "id": "63a8f5ae",
   "metadata": {},
   "outputs": [],
   "source": [
    "df1['latitude'].hist()"
   ]
  },
  {
   "cell_type": "code",
   "execution_count": null,
   "id": "5dfa445d",
   "metadata": {},
   "outputs": [],
   "source": [
    "df1['longitude'].hist()"
   ]
  },
  {
   "cell_type": "markdown",
   "id": "4617762a",
   "metadata": {},
   "source": [
    "# 5ª Aula - TETI - Merge"
   ]
  },
  {
   "cell_type": "code",
   "execution_count": null,
   "id": "e1c06e7e",
   "metadata": {},
   "outputs": [],
   "source": [
    "df_est = pd.read_csv(path + 'estados.csv')"
   ]
  },
  {
   "cell_type": "code",
   "execution_count": null,
   "id": "d22b6071",
   "metadata": {},
   "outputs": [],
   "source": [
    "df_est.head()"
   ]
  },
  {
   "cell_type": "code",
   "execution_count": null,
   "id": "85c0cb74",
   "metadata": {},
   "outputs": [],
   "source": [
    "df1.merge?"
   ]
  },
  {
   "cell_type": "code",
   "execution_count": null,
   "id": "e4444999",
   "metadata": {},
   "outputs": [],
   "source": [
    "df1.merge(df_est, how = 'inner', on = 'codigo_uf')"
   ]
  },
  {
   "cell_type": "markdown",
   "id": "adcb385f",
   "metadata": {},
   "source": [
    "# 5ª Aula - TETI - Leitura de HTML"
   ]
  },
  {
   "cell_type": "code",
   "execution_count": null,
   "id": "7ffb84df",
   "metadata": {},
   "outputs": [],
   "source": [
    "df_tab = pd.read_html('https://en.wikipedia.org/wiki/Amazonas_(Brazilian_state)')"
   ]
  },
  {
   "cell_type": "code",
   "execution_count": null,
   "id": "e591c392",
   "metadata": {},
   "outputs": [],
   "source": [
    "df_tab"
   ]
  },
  {
   "cell_type": "code",
   "execution_count": null,
   "id": "b06783c0",
   "metadata": {},
   "outputs": [],
   "source": [
    "print(len(df_tab))"
   ]
  },
  {
   "cell_type": "code",
   "execution_count": null,
   "id": "3261abad",
   "metadata": {},
   "outputs": [],
   "source": [
    "df_tab1 = pd.read_html('https://en.wikipedia.org/wiki/Amazonas_(Brazilian_state)', match = 'Historical population')"
   ]
  },
  {
   "cell_type": "code",
   "execution_count": null,
   "id": "9e72f383",
   "metadata": {},
   "outputs": [],
   "source": [
    "df_tab1"
   ]
  },
  {
   "cell_type": "code",
   "execution_count": null,
   "id": "5aa46451",
   "metadata": {},
   "outputs": [],
   "source": [
    "df_tab1[0]"
   ]
  },
  {
   "cell_type": "code",
   "execution_count": null,
   "id": "c787468c",
   "metadata": {},
   "outputs": [],
   "source": [
    "df_tab1 = df_tab1[0]"
   ]
  },
  {
   "cell_type": "code",
   "execution_count": null,
   "id": "5cf5b484",
   "metadata": {},
   "outputs": [],
   "source": [
    "df_tab1"
   ]
  },
  {
   "cell_type": "code",
   "execution_count": null,
   "id": "bdfd6af7",
   "metadata": {},
   "outputs": [],
   "source": [
    "df_tab1 = df_tab1[:12]"
   ]
  },
  {
   "cell_type": "code",
   "execution_count": null,
   "id": "74464e19",
   "metadata": {},
   "outputs": [],
   "source": [
    "df_tab1"
   ]
  },
  {
   "cell_type": "code",
   "execution_count": null,
   "id": "ecf11a6f",
   "metadata": {},
   "outputs": [],
   "source": [
    "df_tab1.info()"
   ]
  },
  {
   "cell_type": "code",
   "execution_count": null,
   "id": "5f0f6dcc",
   "metadata": {},
   "outputs": [],
   "source": [
    "df_tab1['Year'].astype('int')"
   ]
  },
  {
   "cell_type": "code",
   "execution_count": null,
   "id": "9a7a0010",
   "metadata": {},
   "outputs": [],
   "source": [
    "#Exercício p/ Casa: Fazer uma tabela exibir uma tabela de acordo com a 'df_tab1'"
   ]
  },
  {
   "cell_type": "markdown",
   "id": "8646f79a",
   "metadata": {},
   "source": [
    "# 5ª Aula - TETI - MySQL"
   ]
  },
  {
   "cell_type": "code",
   "execution_count": 2,
   "id": "7f118e35",
   "metadata": {},
   "outputs": [
    {
     "name": "stdout",
     "output_type": "stream",
     "text": [
      "Requirement already satisfied: pymysql in c:\\users\\aluno\\.conda\\envs\\teti\\lib\\site-packages (1.0.2)\n"
     ]
    }
   ],
   "source": [
    "!pip install pymysql"
   ]
  },
  {
   "cell_type": "code",
   "execution_count": 3,
   "id": "6746401c",
   "metadata": {},
   "outputs": [],
   "source": [
    "import os\n",
    "import pymysql"
   ]
  },
  {
   "cell_type": "code",
   "execution_count": 6,
   "id": "d89eb6ef",
   "metadata": {},
   "outputs": [],
   "source": [
    "host = os.getenv('MYSQL_HOST')\n",
    "port = os.getenv('MYSQL_PORT')\n",
    "user = os.getenv('MYSQL_USER')\n",
    "\n",
    "password = os.getenv('MYSQL_PASSWORD')\n",
    "database = os.getenv('MYSQL_DATABASE')\n",
    "\n",
    "conn = pymysql.connect(\n",
    "                host = ('10.100.77.72'),\n",
    "                port = int(3309),\n",
    "                user = 'usuario',\n",
    "                passwd = 'IFAM',\n",
    "                db = 'bd_teste',\n",
    "                charset = 'utf8mb4')"
   ]
  },
  {
   "cell_type": "code",
   "execution_count": 7,
   "id": "bfe2a15d",
   "metadata": {},
   "outputs": [
    {
     "name": "stderr",
     "output_type": "stream",
     "text": [
      "C:\\Users\\Aluno\\AppData\\Local\\Temp\\ipykernel_8016\\1114934367.py:1: UserWarning: pandas only supports SQLAlchemy connectable (engine/connection) or database string URI or sqlite3 DBAPI2 connection. Other DBAPI2 objects are not tested. Please consider using SQLAlchemy.\n",
      "  df = pd.read_sql_query('show tables', conn)\n"
     ]
    },
    {
     "data": {
      "text/html": [
       "<div>\n",
       "<style scoped>\n",
       "    .dataframe tbody tr th:only-of-type {\n",
       "        vertical-align: middle;\n",
       "    }\n",
       "\n",
       "    .dataframe tbody tr th {\n",
       "        vertical-align: top;\n",
       "    }\n",
       "\n",
       "    .dataframe thead th {\n",
       "        text-align: right;\n",
       "    }\n",
       "</style>\n",
       "<table border=\"1\" class=\"dataframe\">\n",
       "  <thead>\n",
       "    <tr style=\"text-align: right;\">\n",
       "      <th></th>\n",
       "      <th>Tables_in_bd_teste</th>\n",
       "    </tr>\n",
       "  </thead>\n",
       "  <tbody>\n",
       "    <tr>\n",
       "      <th>0</th>\n",
       "      <td>bairro</td>\n",
       "    </tr>\n",
       "    <tr>\n",
       "      <th>1</th>\n",
       "      <td>cidade</td>\n",
       "    </tr>\n",
       "    <tr>\n",
       "      <th>2</th>\n",
       "      <td>cliente</td>\n",
       "    </tr>\n",
       "    <tr>\n",
       "      <th>3</th>\n",
       "      <td>clientes_casados</td>\n",
       "    </tr>\n",
       "    <tr>\n",
       "      <th>4</th>\n",
       "      <td>clientes_divorciados</td>\n",
       "    </tr>\n",
       "    <tr>\n",
       "      <th>5</th>\n",
       "      <td>clientes_solteiros</td>\n",
       "    </tr>\n",
       "    <tr>\n",
       "      <th>6</th>\n",
       "      <td>estadocivil</td>\n",
       "    </tr>\n",
       "    <tr>\n",
       "      <th>7</th>\n",
       "      <td>filial</td>\n",
       "    </tr>\n",
       "    <tr>\n",
       "      <th>8</th>\n",
       "      <td>fornecedor</td>\n",
       "    </tr>\n",
       "    <tr>\n",
       "      <th>9</th>\n",
       "      <td>funcionario</td>\n",
       "    </tr>\n",
       "  </tbody>\n",
       "</table>\n",
       "</div>"
      ],
      "text/plain": [
       "     Tables_in_bd_teste\n",
       "0                bairro\n",
       "1                cidade\n",
       "2               cliente\n",
       "3      clientes_casados\n",
       "4  clientes_divorciados\n",
       "5    clientes_solteiros\n",
       "6           estadocivil\n",
       "7                filial\n",
       "8            fornecedor\n",
       "9           funcionario"
      ]
     },
     "execution_count": 7,
     "metadata": {},
     "output_type": "execute_result"
    }
   ],
   "source": [
    "df = pd.read_sql_query('show tables', conn)\n",
    "df.head(10)"
   ]
  },
  {
   "cell_type": "code",
   "execution_count": 9,
   "id": "73d9de28",
   "metadata": {},
   "outputs": [
    {
     "name": "stderr",
     "output_type": "stream",
     "text": [
      "C:\\Users\\Aluno\\AppData\\Local\\Temp\\ipykernel_8016\\2675148193.py:1: UserWarning: pandas only supports SQLAlchemy connectable (engine/connection) or database string URI or sqlite3 DBAPI2 connection. Other DBAPI2 objects are not tested. Please consider using SQLAlchemy.\n",
      "  df = pd.read_sql_query('select * from cliente', conn)\n"
     ]
    },
    {
     "data": {
      "text/html": [
       "<div>\n",
       "<style scoped>\n",
       "    .dataframe tbody tr th:only-of-type {\n",
       "        vertical-align: middle;\n",
       "    }\n",
       "\n",
       "    .dataframe tbody tr th {\n",
       "        vertical-align: top;\n",
       "    }\n",
       "\n",
       "    .dataframe thead th {\n",
       "        text-align: right;\n",
       "    }\n",
       "</style>\n",
       "<table border=\"1\" class=\"dataframe\">\n",
       "  <thead>\n",
       "    <tr style=\"text-align: right;\">\n",
       "      <th></th>\n",
       "      <th>clicodigo</th>\n",
       "      <th>clisexo</th>\n",
       "      <th>clirendamensal</th>\n",
       "      <th>clinome</th>\n",
       "      <th>clibaicodigo</th>\n",
       "      <th>clifone</th>\n",
       "      <th>cliestcodigo</th>\n",
       "    </tr>\n",
       "  </thead>\n",
       "  <tbody>\n",
       "    <tr>\n",
       "      <th>0</th>\n",
       "      <td>1</td>\n",
       "      <td>M</td>\n",
       "      <td>2100.0</td>\n",
       "      <td>GANDERSON DOS SANTOS</td>\n",
       "      <td>9</td>\n",
       "      <td></td>\n",
       "      <td>1</td>\n",
       "    </tr>\n",
       "    <tr>\n",
       "      <th>1</th>\n",
       "      <td>2</td>\n",
       "      <td>M</td>\n",
       "      <td>3220.0</td>\n",
       "      <td>FRANCISCO DOS SANTOS OLIVEIRA</td>\n",
       "      <td>5</td>\n",
       "      <td></td>\n",
       "      <td>1</td>\n",
       "    </tr>\n",
       "    <tr>\n",
       "      <th>2</th>\n",
       "      <td>4</td>\n",
       "      <td>M</td>\n",
       "      <td>1330.0</td>\n",
       "      <td>CARLOS SOUZA MAGALHAES</td>\n",
       "      <td>1</td>\n",
       "      <td></td>\n",
       "      <td>1</td>\n",
       "    </tr>\n",
       "    <tr>\n",
       "      <th>3</th>\n",
       "      <td>5</td>\n",
       "      <td>F</td>\n",
       "      <td>2030.0</td>\n",
       "      <td>CLEUMA O DIAS</td>\n",
       "      <td>5</td>\n",
       "      <td></td>\n",
       "      <td>2</td>\n",
       "    </tr>\n",
       "    <tr>\n",
       "      <th>4</th>\n",
       "      <td>6</td>\n",
       "      <td>F</td>\n",
       "      <td>2660.0</td>\n",
       "      <td>MARIA R MARTINS</td>\n",
       "      <td>8</td>\n",
       "      <td></td>\n",
       "      <td>1</td>\n",
       "    </tr>\n",
       "    <tr>\n",
       "      <th>5</th>\n",
       "      <td>7</td>\n",
       "      <td>M</td>\n",
       "      <td>5880.0</td>\n",
       "      <td>FRANCISCO M MONTEIRO</td>\n",
       "      <td>11</td>\n",
       "      <td></td>\n",
       "      <td>1</td>\n",
       "    </tr>\n",
       "    <tr>\n",
       "      <th>6</th>\n",
       "      <td>8</td>\n",
       "      <td>M</td>\n",
       "      <td>1918.0</td>\n",
       "      <td>ALIRIO LIMA DA COSTA</td>\n",
       "      <td>9</td>\n",
       "      <td></td>\n",
       "      <td>3</td>\n",
       "    </tr>\n",
       "    <tr>\n",
       "      <th>7</th>\n",
       "      <td>9</td>\n",
       "      <td>F</td>\n",
       "      <td>2800.0</td>\n",
       "      <td>FRANCISCA S CASTRO</td>\n",
       "      <td>3</td>\n",
       "      <td></td>\n",
       "      <td>1</td>\n",
       "    </tr>\n",
       "    <tr>\n",
       "      <th>8</th>\n",
       "      <td>10</td>\n",
       "      <td>M</td>\n",
       "      <td>2002.0</td>\n",
       "      <td>EDMAR F DA SILVA</td>\n",
       "      <td>7</td>\n",
       "      <td></td>\n",
       "      <td>1</td>\n",
       "    </tr>\n",
       "    <tr>\n",
       "      <th>9</th>\n",
       "      <td>11</td>\n",
       "      <td>M</td>\n",
       "      <td>1148.0</td>\n",
       "      <td>ERIVELTON O DA CUNHA</td>\n",
       "      <td>3</td>\n",
       "      <td></td>\n",
       "      <td>2</td>\n",
       "    </tr>\n",
       "  </tbody>\n",
       "</table>\n",
       "</div>"
      ],
      "text/plain": [
       "   clicodigo clisexo  clirendamensal                        clinome  \\\n",
       "0          1       M          2100.0           GANDERSON DOS SANTOS   \n",
       "1          2       M          3220.0  FRANCISCO DOS SANTOS OLIVEIRA   \n",
       "2          4       M          1330.0         CARLOS SOUZA MAGALHAES   \n",
       "3          5       F          2030.0                  CLEUMA O DIAS   \n",
       "4          6       F          2660.0                MARIA R MARTINS   \n",
       "5          7       M          5880.0           FRANCISCO M MONTEIRO   \n",
       "6          8       M          1918.0           ALIRIO LIMA DA COSTA   \n",
       "7          9       F          2800.0             FRANCISCA S CASTRO   \n",
       "8         10       M          2002.0               EDMAR F DA SILVA   \n",
       "9         11       M          1148.0           ERIVELTON O DA CUNHA   \n",
       "\n",
       "   clibaicodigo clifone  cliestcodigo  \n",
       "0             9                     1  \n",
       "1             5                     1  \n",
       "2             1                     1  \n",
       "3             5                     2  \n",
       "4             8                     1  \n",
       "5            11                     1  \n",
       "6             9                     3  \n",
       "7             3                     1  \n",
       "8             7                     1  \n",
       "9             3                     2  "
      ]
     },
     "execution_count": 9,
     "metadata": {},
     "output_type": "execute_result"
    }
   ],
   "source": [
    "df = pd.read_sql_query('select * from cliente', conn)\n",
    "df.head(10)"
   ]
  },
  {
   "cell_type": "code",
   "execution_count": 15,
   "id": "e171fd3a",
   "metadata": {},
   "outputs": [
    {
     "name": "stderr",
     "output_type": "stream",
     "text": [
      "C:\\Users\\Aluno\\AppData\\Local\\Temp\\ipykernel_8016\\2238497832.py:1: UserWarning: pandas only supports SQLAlchemy connectable (engine/connection) or database string URI or sqlite3 DBAPI2 connection. Other DBAPI2 objects are not tested. Please consider using SQLAlchemy.\n",
      "  df1 = pd.read_sql_query('select * from bairro \\\n"
     ]
    },
    {
     "data": {
      "text/html": [
       "<div>\n",
       "<style scoped>\n",
       "    .dataframe tbody tr th:only-of-type {\n",
       "        vertical-align: middle;\n",
       "    }\n",
       "\n",
       "    .dataframe tbody tr th {\n",
       "        vertical-align: top;\n",
       "    }\n",
       "\n",
       "    .dataframe thead th {\n",
       "        text-align: right;\n",
       "    }\n",
       "</style>\n",
       "<table border=\"1\" class=\"dataframe\">\n",
       "  <thead>\n",
       "    <tr style=\"text-align: right;\">\n",
       "      <th></th>\n",
       "      <th>baicodigo</th>\n",
       "      <th>bainome</th>\n",
       "      <th>baizoncodigo</th>\n",
       "      <th>baiqtdepessoas</th>\n",
       "      <th>baicidcodigo</th>\n",
       "      <th>clicodigo</th>\n",
       "      <th>clisexo</th>\n",
       "      <th>clirendamensal</th>\n",
       "      <th>clinome</th>\n",
       "      <th>clibaicodigo</th>\n",
       "      <th>clifone</th>\n",
       "      <th>cliestcodigo</th>\n",
       "      <th>estcodigo</th>\n",
       "      <th>estdescricao</th>\n",
       "    </tr>\n",
       "  </thead>\n",
       "  <tbody>\n",
       "    <tr>\n",
       "      <th>0</th>\n",
       "      <td>9</td>\n",
       "      <td>EDUCANDOS</td>\n",
       "      <td>2</td>\n",
       "      <td>47</td>\n",
       "      <td>1</td>\n",
       "      <td>1</td>\n",
       "      <td>M</td>\n",
       "      <td>2100.0</td>\n",
       "      <td>GANDERSON DOS SANTOS</td>\n",
       "      <td>9</td>\n",
       "      <td></td>\n",
       "      <td>1</td>\n",
       "      <td>1</td>\n",
       "      <td>Solteiro</td>\n",
       "    </tr>\n",
       "    <tr>\n",
       "      <th>1</th>\n",
       "      <td>5</td>\n",
       "      <td>PLANALTO</td>\n",
       "      <td>5</td>\n",
       "      <td>55</td>\n",
       "      <td>1</td>\n",
       "      <td>2</td>\n",
       "      <td>M</td>\n",
       "      <td>3220.0</td>\n",
       "      <td>FRANCISCO DOS SANTOS OLIVEIRA</td>\n",
       "      <td>5</td>\n",
       "      <td></td>\n",
       "      <td>1</td>\n",
       "      <td>1</td>\n",
       "      <td>Solteiro</td>\n",
       "    </tr>\n",
       "    <tr>\n",
       "      <th>2</th>\n",
       "      <td>1</td>\n",
       "      <td>CIDADE NOVA</td>\n",
       "      <td>1</td>\n",
       "      <td>55</td>\n",
       "      <td>1</td>\n",
       "      <td>4</td>\n",
       "      <td>M</td>\n",
       "      <td>1330.0</td>\n",
       "      <td>CARLOS SOUZA MAGALHAES</td>\n",
       "      <td>1</td>\n",
       "      <td></td>\n",
       "      <td>1</td>\n",
       "      <td>1</td>\n",
       "      <td>Solteiro</td>\n",
       "    </tr>\n",
       "    <tr>\n",
       "      <th>3</th>\n",
       "      <td>8</td>\n",
       "      <td>JAPIIM</td>\n",
       "      <td>2</td>\n",
       "      <td>46</td>\n",
       "      <td>1</td>\n",
       "      <td>6</td>\n",
       "      <td>F</td>\n",
       "      <td>2660.0</td>\n",
       "      <td>MARIA R MARTINS</td>\n",
       "      <td>8</td>\n",
       "      <td></td>\n",
       "      <td>1</td>\n",
       "      <td>1</td>\n",
       "      <td>Solteiro</td>\n",
       "    </tr>\n",
       "    <tr>\n",
       "      <th>4</th>\n",
       "      <td>11</td>\n",
       "      <td>SAO JOSE</td>\n",
       "      <td>3</td>\n",
       "      <td>47</td>\n",
       "      <td>1</td>\n",
       "      <td>7</td>\n",
       "      <td>M</td>\n",
       "      <td>5880.0</td>\n",
       "      <td>FRANCISCO M MONTEIRO</td>\n",
       "      <td>11</td>\n",
       "      <td></td>\n",
       "      <td>1</td>\n",
       "      <td>1</td>\n",
       "      <td>Solteiro</td>\n",
       "    </tr>\n",
       "    <tr>\n",
       "      <th>5</th>\n",
       "      <td>3</td>\n",
       "      <td>CACHOEIRINHA</td>\n",
       "      <td>2</td>\n",
       "      <td>50</td>\n",
       "      <td>1</td>\n",
       "      <td>9</td>\n",
       "      <td>F</td>\n",
       "      <td>2800.0</td>\n",
       "      <td>FRANCISCA S CASTRO</td>\n",
       "      <td>3</td>\n",
       "      <td></td>\n",
       "      <td>1</td>\n",
       "      <td>1</td>\n",
       "      <td>Solteiro</td>\n",
       "    </tr>\n",
       "    <tr>\n",
       "      <th>6</th>\n",
       "      <td>7</td>\n",
       "      <td>COROADO</td>\n",
       "      <td>3</td>\n",
       "      <td>46</td>\n",
       "      <td>1</td>\n",
       "      <td>10</td>\n",
       "      <td>M</td>\n",
       "      <td>2002.0</td>\n",
       "      <td>EDMAR F DA SILVA</td>\n",
       "      <td>7</td>\n",
       "      <td></td>\n",
       "      <td>1</td>\n",
       "      <td>1</td>\n",
       "      <td>Solteiro</td>\n",
       "    </tr>\n",
       "    <tr>\n",
       "      <th>7</th>\n",
       "      <td>4</td>\n",
       "      <td>ALEIXO</td>\n",
       "      <td>6</td>\n",
       "      <td>49</td>\n",
       "      <td>1</td>\n",
       "      <td>12</td>\n",
       "      <td>F</td>\n",
       "      <td>1540.0</td>\n",
       "      <td>RAFAELA C DOS SANTOS</td>\n",
       "      <td>4</td>\n",
       "      <td></td>\n",
       "      <td>1</td>\n",
       "      <td>1</td>\n",
       "      <td>Solteiro</td>\n",
       "    </tr>\n",
       "    <tr>\n",
       "      <th>8</th>\n",
       "      <td>4</td>\n",
       "      <td>ALEIXO</td>\n",
       "      <td>6</td>\n",
       "      <td>49</td>\n",
       "      <td>1</td>\n",
       "      <td>14</td>\n",
       "      <td>F</td>\n",
       "      <td>5320.0</td>\n",
       "      <td>MARIA DA GLORIA MESQUITA</td>\n",
       "      <td>4</td>\n",
       "      <td></td>\n",
       "      <td>1</td>\n",
       "      <td>1</td>\n",
       "      <td>Solteiro</td>\n",
       "    </tr>\n",
       "    <tr>\n",
       "      <th>9</th>\n",
       "      <td>2</td>\n",
       "      <td>CENTRO</td>\n",
       "      <td>2</td>\n",
       "      <td>49</td>\n",
       "      <td>1</td>\n",
       "      <td>16</td>\n",
       "      <td>F</td>\n",
       "      <td>1064.0</td>\n",
       "      <td>KATRINA S ALBUQUERQUE</td>\n",
       "      <td>2</td>\n",
       "      <td></td>\n",
       "      <td>1</td>\n",
       "      <td>1</td>\n",
       "      <td>Solteiro</td>\n",
       "    </tr>\n",
       "  </tbody>\n",
       "</table>\n",
       "</div>"
      ],
      "text/plain": [
       "   baicodigo       bainome  baizoncodigo  baiqtdepessoas  baicidcodigo  \\\n",
       "0          9     EDUCANDOS             2              47             1   \n",
       "1          5      PLANALTO             5              55             1   \n",
       "2          1   CIDADE NOVA             1              55             1   \n",
       "3          8        JAPIIM             2              46             1   \n",
       "4         11      SAO JOSE             3              47             1   \n",
       "5          3  CACHOEIRINHA             2              50             1   \n",
       "6          7       COROADO             3              46             1   \n",
       "7          4        ALEIXO             6              49             1   \n",
       "8          4        ALEIXO             6              49             1   \n",
       "9          2        CENTRO             2              49             1   \n",
       "\n",
       "   clicodigo clisexo  clirendamensal                        clinome  \\\n",
       "0          1       M          2100.0           GANDERSON DOS SANTOS   \n",
       "1          2       M          3220.0  FRANCISCO DOS SANTOS OLIVEIRA   \n",
       "2          4       M          1330.0         CARLOS SOUZA MAGALHAES   \n",
       "3          6       F          2660.0                MARIA R MARTINS   \n",
       "4          7       M          5880.0           FRANCISCO M MONTEIRO   \n",
       "5          9       F          2800.0             FRANCISCA S CASTRO   \n",
       "6         10       M          2002.0               EDMAR F DA SILVA   \n",
       "7         12       F          1540.0           RAFAELA C DOS SANTOS   \n",
       "8         14       F          5320.0      MARIA DA GLORIA MESQUITA    \n",
       "9         16       F          1064.0          KATRINA S ALBUQUERQUE   \n",
       "\n",
       "   clibaicodigo clifone  cliestcodigo  estcodigo estdescricao  \n",
       "0             9                     1          1     Solteiro  \n",
       "1             5                     1          1     Solteiro  \n",
       "2             1                     1          1     Solteiro  \n",
       "3             8                     1          1     Solteiro  \n",
       "4            11                     1          1     Solteiro  \n",
       "5             3                     1          1     Solteiro  \n",
       "6             7                     1          1     Solteiro  \n",
       "7             4                     1          1     Solteiro  \n",
       "8             4                     1          1     Solteiro  \n",
       "9             2                     1          1     Solteiro  "
      ]
     },
     "execution_count": 15,
     "metadata": {},
     "output_type": "execute_result"
    }
   ],
   "source": [
    "df1 = pd.read_sql_query('select * from bairro \\\n",
    "                        inner join cliente \\\n",
    "                        on baicodigo = clibaicodigo \\\n",
    "                        inner join estadocivil \\\n",
    "                        on estcodigo = cliestcodigo', conn)\n",
    "df1.head(10)"
   ]
  },
  {
   "cell_type": "code",
   "execution_count": 17,
   "id": "84a1949a",
   "metadata": {},
   "outputs": [
    {
     "data": {
      "text/html": [
       "<div>\n",
       "<style scoped>\n",
       "    .dataframe tbody tr th:only-of-type {\n",
       "        vertical-align: middle;\n",
       "    }\n",
       "\n",
       "    .dataframe tbody tr th {\n",
       "        vertical-align: top;\n",
       "    }\n",
       "\n",
       "    .dataframe thead th {\n",
       "        text-align: right;\n",
       "    }\n",
       "</style>\n",
       "<table border=\"1\" class=\"dataframe\">\n",
       "  <thead>\n",
       "    <tr style=\"text-align: right;\">\n",
       "      <th></th>\n",
       "      <th>baicodigo</th>\n",
       "      <th>bainome</th>\n",
       "      <th>baizoncodigo</th>\n",
       "      <th>baiqtdepessoas</th>\n",
       "      <th>baicidcodigo</th>\n",
       "      <th>clicodigo</th>\n",
       "      <th>clisexo</th>\n",
       "      <th>clirendamensal</th>\n",
       "      <th>clinome</th>\n",
       "      <th>clibaicodigo</th>\n",
       "      <th>clifone</th>\n",
       "      <th>cliestcodigo</th>\n",
       "      <th>estcodigo</th>\n",
       "      <th>estdescricao</th>\n",
       "    </tr>\n",
       "  </thead>\n",
       "  <tbody>\n",
       "    <tr>\n",
       "      <th>7</th>\n",
       "      <td>4</td>\n",
       "      <td>ALEIXO</td>\n",
       "      <td>6</td>\n",
       "      <td>49</td>\n",
       "      <td>1</td>\n",
       "      <td>12</td>\n",
       "      <td>F</td>\n",
       "      <td>1540.0</td>\n",
       "      <td>RAFAELA C DOS SANTOS</td>\n",
       "      <td>4</td>\n",
       "      <td></td>\n",
       "      <td>1</td>\n",
       "      <td>1</td>\n",
       "      <td>Solteiro</td>\n",
       "    </tr>\n",
       "    <tr>\n",
       "      <th>8</th>\n",
       "      <td>4</td>\n",
       "      <td>ALEIXO</td>\n",
       "      <td>6</td>\n",
       "      <td>49</td>\n",
       "      <td>1</td>\n",
       "      <td>14</td>\n",
       "      <td>F</td>\n",
       "      <td>5320.0</td>\n",
       "      <td>MARIA DA GLORIA MESQUITA</td>\n",
       "      <td>4</td>\n",
       "      <td></td>\n",
       "      <td>1</td>\n",
       "      <td>1</td>\n",
       "      <td>Solteiro</td>\n",
       "    </tr>\n",
       "    <tr>\n",
       "      <th>81</th>\n",
       "      <td>4</td>\n",
       "      <td>ALEIXO</td>\n",
       "      <td>6</td>\n",
       "      <td>49</td>\n",
       "      <td>1</td>\n",
       "      <td>123</td>\n",
       "      <td>F</td>\n",
       "      <td>1295.0</td>\n",
       "      <td>ERIKA MALAFAIA MARINHO</td>\n",
       "      <td>4</td>\n",
       "      <td></td>\n",
       "      <td>1</td>\n",
       "      <td>1</td>\n",
       "      <td>Solteiro</td>\n",
       "    </tr>\n",
       "    <tr>\n",
       "      <th>120</th>\n",
       "      <td>4</td>\n",
       "      <td>ALEIXO</td>\n",
       "      <td>6</td>\n",
       "      <td>49</td>\n",
       "      <td>1</td>\n",
       "      <td>178</td>\n",
       "      <td>F</td>\n",
       "      <td>950.6</td>\n",
       "      <td>MARIA DE FATIMA FERREIRA MATOS</td>\n",
       "      <td>4</td>\n",
       "      <td></td>\n",
       "      <td>1</td>\n",
       "      <td>1</td>\n",
       "      <td>Solteiro</td>\n",
       "    </tr>\n",
       "    <tr>\n",
       "      <th>161</th>\n",
       "      <td>4</td>\n",
       "      <td>ALEIXO</td>\n",
       "      <td>6</td>\n",
       "      <td>49</td>\n",
       "      <td>1</td>\n",
       "      <td>233</td>\n",
       "      <td>F</td>\n",
       "      <td>1050.0</td>\n",
       "      <td>SUZANA RIBEIRO LOPES</td>\n",
       "      <td>4</td>\n",
       "      <td></td>\n",
       "      <td>1</td>\n",
       "      <td>1</td>\n",
       "      <td>Solteiro</td>\n",
       "    </tr>\n",
       "    <tr>\n",
       "      <th>238</th>\n",
       "      <td>4</td>\n",
       "      <td>ALEIXO</td>\n",
       "      <td>6</td>\n",
       "      <td>49</td>\n",
       "      <td>1</td>\n",
       "      <td>343</td>\n",
       "      <td>F</td>\n",
       "      <td>1295.0</td>\n",
       "      <td>EDIMEIA DA SILVA PICANCO</td>\n",
       "      <td>4</td>\n",
       "      <td></td>\n",
       "      <td>1</td>\n",
       "      <td>1</td>\n",
       "      <td>Solteiro</td>\n",
       "    </tr>\n",
       "    <tr>\n",
       "      <th>269</th>\n",
       "      <td>4</td>\n",
       "      <td>ALEIXO</td>\n",
       "      <td>6</td>\n",
       "      <td>49</td>\n",
       "      <td>1</td>\n",
       "      <td>387</td>\n",
       "      <td>F</td>\n",
       "      <td>1120.0</td>\n",
       "      <td>ZILENE SILVA SANTOS</td>\n",
       "      <td>4</td>\n",
       "      <td></td>\n",
       "      <td>1</td>\n",
       "      <td>1</td>\n",
       "      <td>Solteiro</td>\n",
       "    </tr>\n",
       "    <tr>\n",
       "      <th>291</th>\n",
       "      <td>4</td>\n",
       "      <td>ALEIXO</td>\n",
       "      <td>6</td>\n",
       "      <td>49</td>\n",
       "      <td>1</td>\n",
       "      <td>420</td>\n",
       "      <td>F</td>\n",
       "      <td>1120.0</td>\n",
       "      <td>TEREZINHA MENDES ROLIM</td>\n",
       "      <td>4</td>\n",
       "      <td></td>\n",
       "      <td>1</td>\n",
       "      <td>1</td>\n",
       "      <td>Solteiro</td>\n",
       "    </tr>\n",
       "    <tr>\n",
       "      <th>314</th>\n",
       "      <td>4</td>\n",
       "      <td>ALEIXO</td>\n",
       "      <td>6</td>\n",
       "      <td>49</td>\n",
       "      <td>1</td>\n",
       "      <td>453</td>\n",
       "      <td>F</td>\n",
       "      <td>756.0</td>\n",
       "      <td>ROSA DE ARAUJO SARAIVA</td>\n",
       "      <td>4</td>\n",
       "      <td></td>\n",
       "      <td>1</td>\n",
       "      <td>1</td>\n",
       "      <td>Solteiro</td>\n",
       "    </tr>\n",
       "    <tr>\n",
       "      <th>323</th>\n",
       "      <td>4</td>\n",
       "      <td>ALEIXO</td>\n",
       "      <td>6</td>\n",
       "      <td>49</td>\n",
       "      <td>1</td>\n",
       "      <td>464</td>\n",
       "      <td>F</td>\n",
       "      <td>756.0</td>\n",
       "      <td>RAIMUNDA BARBOSA NICACIO</td>\n",
       "      <td>4</td>\n",
       "      <td></td>\n",
       "      <td>1</td>\n",
       "      <td>1</td>\n",
       "      <td>Solteiro</td>\n",
       "    </tr>\n",
       "    <tr>\n",
       "      <th>340</th>\n",
       "      <td>4</td>\n",
       "      <td>ALEIXO</td>\n",
       "      <td>6</td>\n",
       "      <td>49</td>\n",
       "      <td>1</td>\n",
       "      <td>486</td>\n",
       "      <td>F</td>\n",
       "      <td>1120.0</td>\n",
       "      <td>NILCILENE FERREIRA BARBOSA</td>\n",
       "      <td>4</td>\n",
       "      <td></td>\n",
       "      <td>1</td>\n",
       "      <td>1</td>\n",
       "      <td>Solteiro</td>\n",
       "    </tr>\n",
       "    <tr>\n",
       "      <th>376</th>\n",
       "      <td>4</td>\n",
       "      <td>ALEIXO</td>\n",
       "      <td>6</td>\n",
       "      <td>49</td>\n",
       "      <td>1</td>\n",
       "      <td>46</td>\n",
       "      <td>F</td>\n",
       "      <td>950.6</td>\n",
       "      <td>MARIA DA GLORIA MESQUITA DO NASCIME</td>\n",
       "      <td>4</td>\n",
       "      <td></td>\n",
       "      <td>2</td>\n",
       "      <td>2</td>\n",
       "      <td>Casado</td>\n",
       "    </tr>\n",
       "    <tr>\n",
       "      <th>390</th>\n",
       "      <td>4</td>\n",
       "      <td>ALEIXO</td>\n",
       "      <td>6</td>\n",
       "      <td>49</td>\n",
       "      <td>1</td>\n",
       "      <td>101</td>\n",
       "      <td>F</td>\n",
       "      <td>1400.0</td>\n",
       "      <td>LAUDENICE SIQUEIRA DE SOUZA</td>\n",
       "      <td>4</td>\n",
       "      <td></td>\n",
       "      <td>2</td>\n",
       "      <td>2</td>\n",
       "      <td>Casado</td>\n",
       "    </tr>\n",
       "    <tr>\n",
       "      <th>401</th>\n",
       "      <td>4</td>\n",
       "      <td>ALEIXO</td>\n",
       "      <td>6</td>\n",
       "      <td>49</td>\n",
       "      <td>1</td>\n",
       "      <td>145</td>\n",
       "      <td>F</td>\n",
       "      <td>1925.0</td>\n",
       "      <td>ALANA VIEIRA DE SOUZA</td>\n",
       "      <td>4</td>\n",
       "      <td></td>\n",
       "      <td>2</td>\n",
       "      <td>2</td>\n",
       "      <td>Casado</td>\n",
       "    </tr>\n",
       "    <tr>\n",
       "      <th>410</th>\n",
       "      <td>4</td>\n",
       "      <td>ALEIXO</td>\n",
       "      <td>6</td>\n",
       "      <td>49</td>\n",
       "      <td>1</td>\n",
       "      <td>200</td>\n",
       "      <td>F</td>\n",
       "      <td>1176.0</td>\n",
       "      <td>KATRINA NASCIMENTO SILVA</td>\n",
       "      <td>4</td>\n",
       "      <td></td>\n",
       "      <td>2</td>\n",
       "      <td>2</td>\n",
       "      <td>Casado</td>\n",
       "    </tr>\n",
       "    <tr>\n",
       "      <th>422</th>\n",
       "      <td>4</td>\n",
       "      <td>ALEIXO</td>\n",
       "      <td>6</td>\n",
       "      <td>49</td>\n",
       "      <td>1</td>\n",
       "      <td>277</td>\n",
       "      <td>F</td>\n",
       "      <td>1295.0</td>\n",
       "      <td>ELVIRA MARIA PINTO CAETANO</td>\n",
       "      <td>4</td>\n",
       "      <td></td>\n",
       "      <td>2</td>\n",
       "      <td>2</td>\n",
       "      <td>Casado</td>\n",
       "    </tr>\n",
       "    <tr>\n",
       "      <th>427</th>\n",
       "      <td>4</td>\n",
       "      <td>ALEIXO</td>\n",
       "      <td>6</td>\n",
       "      <td>49</td>\n",
       "      <td>1</td>\n",
       "      <td>288</td>\n",
       "      <td>F</td>\n",
       "      <td>950.6</td>\n",
       "      <td>MARIA LUCIA DE CASTRO</td>\n",
       "      <td>4</td>\n",
       "      <td></td>\n",
       "      <td>2</td>\n",
       "      <td>2</td>\n",
       "      <td>Casado</td>\n",
       "    </tr>\n",
       "    <tr>\n",
       "      <th>430</th>\n",
       "      <td>4</td>\n",
       "      <td>ALEIXO</td>\n",
       "      <td>6</td>\n",
       "      <td>49</td>\n",
       "      <td>1</td>\n",
       "      <td>299</td>\n",
       "      <td>F</td>\n",
       "      <td>1087.8</td>\n",
       "      <td>DIENE MARIANO DE CASTRO</td>\n",
       "      <td>4</td>\n",
       "      <td></td>\n",
       "      <td>2</td>\n",
       "      <td>2</td>\n",
       "      <td>Casado</td>\n",
       "    </tr>\n",
       "    <tr>\n",
       "      <th>455</th>\n",
       "      <td>4</td>\n",
       "      <td>ALEIXO</td>\n",
       "      <td>6</td>\n",
       "      <td>49</td>\n",
       "      <td>1</td>\n",
       "      <td>431</td>\n",
       "      <td>F</td>\n",
       "      <td>1176.0</td>\n",
       "      <td>KEDNA DA SILVA GOUVEA</td>\n",
       "      <td>4</td>\n",
       "      <td></td>\n",
       "      <td>2</td>\n",
       "      <td>2</td>\n",
       "      <td>Casado</td>\n",
       "    </tr>\n",
       "    <tr>\n",
       "      <th>482</th>\n",
       "      <td>4</td>\n",
       "      <td>ALEIXO</td>\n",
       "      <td>6</td>\n",
       "      <td>49</td>\n",
       "      <td>1</td>\n",
       "      <td>90</td>\n",
       "      <td>F</td>\n",
       "      <td>756.0</td>\n",
       "      <td>RAQUEL SANTOS GARCIA</td>\n",
       "      <td>4</td>\n",
       "      <td></td>\n",
       "      <td>3</td>\n",
       "      <td>3</td>\n",
       "      <td>Divorciado</td>\n",
       "    </tr>\n",
       "    <tr>\n",
       "      <th>522</th>\n",
       "      <td>4</td>\n",
       "      <td>ALEIXO</td>\n",
       "      <td>6</td>\n",
       "      <td>49</td>\n",
       "      <td>1</td>\n",
       "      <td>255</td>\n",
       "      <td>F</td>\n",
       "      <td>1120.0</td>\n",
       "      <td>NADIELE TAVARES ALVES</td>\n",
       "      <td>4</td>\n",
       "      <td></td>\n",
       "      <td>4</td>\n",
       "      <td>4</td>\n",
       "      <td>ViÃºvo</td>\n",
       "    </tr>\n",
       "    <tr>\n",
       "      <th>524</th>\n",
       "      <td>4</td>\n",
       "      <td>ALEIXO</td>\n",
       "      <td>6</td>\n",
       "      <td>49</td>\n",
       "      <td>1</td>\n",
       "      <td>376</td>\n",
       "      <td>F</td>\n",
       "      <td>1400.0</td>\n",
       "      <td>LEILENA PEREIRA LOUZADA</td>\n",
       "      <td>4</td>\n",
       "      <td></td>\n",
       "      <td>4</td>\n",
       "      <td>4</td>\n",
       "      <td>ViÃºvo</td>\n",
       "    </tr>\n",
       "  </tbody>\n",
       "</table>\n",
       "</div>"
      ],
      "text/plain": [
       "     baicodigo bainome  baizoncodigo  baiqtdepessoas  baicidcodigo  clicodigo  \\\n",
       "7            4  ALEIXO             6              49             1         12   \n",
       "8            4  ALEIXO             6              49             1         14   \n",
       "81           4  ALEIXO             6              49             1        123   \n",
       "120          4  ALEIXO             6              49             1        178   \n",
       "161          4  ALEIXO             6              49             1        233   \n",
       "238          4  ALEIXO             6              49             1        343   \n",
       "269          4  ALEIXO             6              49             1        387   \n",
       "291          4  ALEIXO             6              49             1        420   \n",
       "314          4  ALEIXO             6              49             1        453   \n",
       "323          4  ALEIXO             6              49             1        464   \n",
       "340          4  ALEIXO             6              49             1        486   \n",
       "376          4  ALEIXO             6              49             1         46   \n",
       "390          4  ALEIXO             6              49             1        101   \n",
       "401          4  ALEIXO             6              49             1        145   \n",
       "410          4  ALEIXO             6              49             1        200   \n",
       "422          4  ALEIXO             6              49             1        277   \n",
       "427          4  ALEIXO             6              49             1        288   \n",
       "430          4  ALEIXO             6              49             1        299   \n",
       "455          4  ALEIXO             6              49             1        431   \n",
       "482          4  ALEIXO             6              49             1         90   \n",
       "522          4  ALEIXO             6              49             1        255   \n",
       "524          4  ALEIXO             6              49             1        376   \n",
       "\n",
       "    clisexo  clirendamensal                              clinome  \\\n",
       "7         F          1540.0                 RAFAELA C DOS SANTOS   \n",
       "8         F          5320.0            MARIA DA GLORIA MESQUITA    \n",
       "81        F          1295.0               ERIKA MALAFAIA MARINHO   \n",
       "120       F           950.6       MARIA DE FATIMA FERREIRA MATOS   \n",
       "161       F          1050.0                 SUZANA RIBEIRO LOPES   \n",
       "238       F          1295.0             EDIMEIA DA SILVA PICANCO   \n",
       "269       F          1120.0                  ZILENE SILVA SANTOS   \n",
       "291       F          1120.0               TEREZINHA MENDES ROLIM   \n",
       "314       F           756.0               ROSA DE ARAUJO SARAIVA   \n",
       "323       F           756.0             RAIMUNDA BARBOSA NICACIO   \n",
       "340       F          1120.0           NILCILENE FERREIRA BARBOSA   \n",
       "376       F           950.6  MARIA DA GLORIA MESQUITA DO NASCIME   \n",
       "390       F          1400.0          LAUDENICE SIQUEIRA DE SOUZA   \n",
       "401       F          1925.0                ALANA VIEIRA DE SOUZA   \n",
       "410       F          1176.0             KATRINA NASCIMENTO SILVA   \n",
       "422       F          1295.0           ELVIRA MARIA PINTO CAETANO   \n",
       "427       F           950.6                MARIA LUCIA DE CASTRO   \n",
       "430       F          1087.8              DIENE MARIANO DE CASTRO   \n",
       "455       F          1176.0                KEDNA DA SILVA GOUVEA   \n",
       "482       F           756.0                 RAQUEL SANTOS GARCIA   \n",
       "522       F          1120.0                NADIELE TAVARES ALVES   \n",
       "524       F          1400.0              LEILENA PEREIRA LOUZADA   \n",
       "\n",
       "     clibaicodigo clifone  cliestcodigo  estcodigo estdescricao  \n",
       "7               4                     1          1     Solteiro  \n",
       "8               4                     1          1     Solteiro  \n",
       "81              4                     1          1     Solteiro  \n",
       "120             4                     1          1     Solteiro  \n",
       "161             4                     1          1     Solteiro  \n",
       "238             4                     1          1     Solteiro  \n",
       "269             4                     1          1     Solteiro  \n",
       "291             4                     1          1     Solteiro  \n",
       "314             4                     1          1     Solteiro  \n",
       "323             4                     1          1     Solteiro  \n",
       "340             4                     1          1     Solteiro  \n",
       "376             4                     2          2       Casado  \n",
       "390             4                     2          2       Casado  \n",
       "401             4                     2          2       Casado  \n",
       "410             4                     2          2       Casado  \n",
       "422             4                     2          2       Casado  \n",
       "427             4                     2          2       Casado  \n",
       "430             4                     2          2       Casado  \n",
       "455             4                     2          2       Casado  \n",
       "482             4                     3          3   Divorciado  \n",
       "522             4                     4          4       ViÃºvo  \n",
       "524             4                     4          4       ViÃºvo  "
      ]
     },
     "execution_count": 17,
     "metadata": {},
     "output_type": "execute_result"
    }
   ],
   "source": [
    "df1.query('bainome == \"ALEIXO\" & clisexo == \"F\"')"
   ]
  },
  {
   "cell_type": "code",
   "execution_count": 18,
   "id": "42d9db5d",
   "metadata": {},
   "outputs": [
    {
     "data": {
      "text/plain": [
       "bainome       clisexo\n",
       "ALEIXO        F          22\n",
       "              M          27\n",
       "CACHOEIRINHA  F          16\n",
       "              M          33\n",
       "              f           1\n",
       "CENTRO        F          25\n",
       "              M          24\n",
       "CIDADE NOVA   F          29\n",
       "              M          20\n",
       "COROADO       F          13\n",
       "              M          33\n",
       "EDUCANDOS     F          20\n",
       "              M          28\n",
       "JAPIIM        F          24\n",
       "              M          22\n",
       "PARQUE 10     F          23\n",
       "              M          24\n",
       "PLANALTO      F          25\n",
       "              M          29\n",
       "PONTA NEGRA   F          22\n",
       "              M          23\n",
       "SAO JOSE      F          19\n",
       "              M          28\n",
       "dtype: int64"
      ]
     },
     "execution_count": 18,
     "metadata": {},
     "output_type": "execute_result"
    }
   ],
   "source": [
    "df1.groupby(['bainome', 'clisexo']).size()"
   ]
  },
  {
   "cell_type": "code",
   "execution_count": 23,
   "id": "3c542c19",
   "metadata": {},
   "outputs": [],
   "source": [
    "import matplotlib as mpl\n",
    "import matplotlib.pyplot as plt"
   ]
  },
  {
   "cell_type": "code",
   "execution_count": 24,
   "id": "e906704f",
   "metadata": {},
   "outputs": [
    {
     "data": {
      "text/plain": [
       "'3.7.1'"
      ]
     },
     "execution_count": 24,
     "metadata": {},
     "output_type": "execute_result"
    }
   ],
   "source": [
    "mpl.__version__"
   ]
  },
  {
   "cell_type": "code",
   "execution_count": 25,
   "id": "ede75103",
   "metadata": {},
   "outputs": [],
   "source": [
    "x0 = [n for n in range(1001)]\n",
    "y0 = [n + 10 for n in x0]"
   ]
  },
  {
   "cell_type": "code",
   "execution_count": 41,
   "id": "3c892231",
   "metadata": {},
   "outputs": [
    {
     "data": {
      "text/plain": [
       "Text(0.5, 1.0, 'Função de Crescimento Linear')"
      ]
     },
     "execution_count": 41,
     "metadata": {},
     "output_type": "execute_result"
    },
    {
     "data": {
      "image/png": "[encoded data removed]",
      "text/plain": [
       "<Figure size 500x500 with 1 Axes>"
      ]
     },
     "metadata": {},
     "output_type": "display_data"
    }
   ],
   "source": [
    "plt.figure(figsize = (5, 5))\n",
    "plt.plot(x0, y0)\n",
    "plt.title('Função de Crescimento Linear')"
   ]
  },
  {
   "cell_type": "code",
   "execution_count": 42,
   "id": "31984aa5",
   "metadata": {},
   "outputs": [
    {
     "data": {
      "text/plain": [
       "Text(0.5, 1.0, 'Função Quadrática')"
      ]
     },
     "execution_count": 42,
     "metadata": {},
     "output_type": "execute_result"
    },
    {
     "data": {
      "image/png": "[encoded data removed]",
      "text/plain": [
       "<Figure size 500x500 with 1 Axes>"
      ]
     },
     "metadata": {},
     "output_type": "display_data"
    }
   ],
   "source": [
    "x1 = [n for n in range(1001)]\n",
    "y1 = [n * n for n in x1]\n",
    "plt.figure(figsize = (5, 5))\n",
    "plt.plot(x1, y1)\n",
    "plt.title('Função Quadrática')"
   ]
  },
  {
   "cell_type": "code",
   "execution_count": 43,
   "id": "4bea3842",
   "metadata": {},
   "outputs": [
    {
     "data": {
      "text/plain": [
       "Text(0.5, 1.0, 'Função Cúbica')"
      ]
     },
     "execution_count": 43,
     "metadata": {},
     "output_type": "execute_result"
    },
    {
     "data": {
      "image/png": "[encoded data removed]",
      "text/plain": [
       "<Figure size 500x500 with 1 Axes>"
      ]
     },
     "metadata": {},
     "output_type": "display_data"
    }
   ],
   "source": [
    "x2 = [n for n in range(1001)]\n",
    "y2 = [n * n * n for n in x2]\n",
    "plt.figure(figsize = (5, 5))\n",
    "plt.plot(x2, y2)\n",
    "plt.title('Função Cúbica')"
   ]
  },
  {
   "cell_type": "code",
   "execution_count": 44,
   "id": "b6dbc1ac",
   "metadata": {},
   "outputs": [
    {
     "data": {
      "text/plain": [
       "Text(0.5, 1.0, 'Função Exponencial')"
      ]
     },
     "execution_count": 44,
     "metadata": {},
     "output_type": "execute_result"
    },
    {
     "data": {
      "image/png": "[encoded data removed]",
      "text/plain": [
       "<Figure size 500x500 with 1 Axes>"
      ]
     },
     "metadata": {},
     "output_type": "display_data"
    }
   ],
   "source": [
    "x3 = [n for n in range(1001)]\n",
    "y3 = [2 ** n for n in x3]\n",
    "plt.figure(figsize = (5, 5))\n",
    "plt.plot(x3, y3)\n",
    "plt.title('Função Exponencial')"
   ]
  },
  {
   "cell_type": "code",
   "execution_count": null,
   "id": "a1fb12fd",
   "metadata": {},
   "outputs": [],
   "source": []
  }
 ],
 "metadata": {
  "kernelspec": {
   "display_name": "Python 3 (ipykernel)",
   "language": "python",
   "name": "python3"
  },
  "language_info": {
   "codemirror_mode": {
    "name": "ipython",
    "version": 3
   },
   "file_extension": ".py",
   "mimetype": "text/x-python",
   "name": "python",
   "nbconvert_exporter": "python",
   "pygments_lexer": "ipython3",
   "version": "3.10.9"
  }
 },
 "nbformat": 4,
 "nbformat_minor": 5
}
